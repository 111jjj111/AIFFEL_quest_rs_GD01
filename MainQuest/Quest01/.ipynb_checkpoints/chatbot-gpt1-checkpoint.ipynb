{
 "cells": [
  {
   "cell_type": "markdown",
   "id": "34187d74",
   "metadata": {},
   "source": [
    "# GPT-1으로 바꾼 K-대화형 챗봇\n",
    "즐겁다!"
   ]
  },
  {
   "cell_type": "markdown",
   "id": "cb58e18a",
   "metadata": {},
   "source": [
    "## Transformer 버전과 다른 부분\n",
    "- 데이터셋을 (질문, 대답) 형식에서 한 문장 형식으로 바꿔야 함.\n",
    "    - GPT-1에는 인코더가 존재하지 않기 때문\n",
    "- 포지셔널 인코딩 레이어를 포지셔널 임베딩 레이어로 변경해야 함.\n",
    "    - Transformer에서는 고정된 주기함수로 각 단어의 위치 정보를 저장\n",
    "    - GPT-1에는 단어의 위치를 임베딩 레이어로 학습 가능하도록 함\n",
    "- 인코더 코드블럭은 모두 삭제\n",
    "    - GPT-1에는 Transformer의 인코더 부분이 존재하지 않기 때문\n",
    "- 디코더 레이어 함수 수정\n",
    "    - 인코더 아웃풋, 패딩 마스크 레이어는 인코더가 더 이상 존재하지 않으므로 삭제\n",
    "    - 인코더-디코더 어텐션 또한 인코더가 더 이상 존재하지 않으므로 삭제\n",
    "    - 기존의 Masked Multi-head self Attention과 FFNN을 연결\n",
    "- 디코더 함수 수정\n",
    "    - 인코더 아웃풋, 패딩 마스크 레이어는 인코더가 더 이상 존재하지 않으므로 삭제\n",
    "- 트랜스포머 정의 함수를 GPT-1 정의 함수로 수정\n",
    "    - 인코더 패딩 마스크와 디코더 패딩 마스크는 각각 인코더의 셀프 어텐션과 인코더-디코더 어텐션에 사용되었던 마스크이므로 삭제\n",
    "    - 인코더 삭제\n",
    "    - 디코더 입력으로 인코더 아웃풋과 인코더-디코더 패딩 마스크 삭제\n",
    "- 디코더 인퍼런스 함수에서 모델 인풋으로 START_TOKEN만 존재하는 시작 문장만 넣음.\n",
    "    - 기존의 Transformer에서는 인코더 인풋으로 질문, 디코더 인풋으로 시작 문장 넣음.\n",
    "    - GPT-1은 인코더 인풋이 존재하지 않음, 따라서 질문에 대한 대답을 생성하지 못하고 시작 토큰에서 무작위 단어를 예측함."
   ]
  },
  {
   "cell_type": "markdown",
   "id": "a2ce450c",
   "metadata": {},
   "source": [
    "## 수정 사항 추가\n",
    "- 질문과 대답을 모두 학습하고 질문을 넣어서 예측을 진행하면 질문에 맞는 대답을 할 수 있지 않을까?\n",
    "    - 디코더 인풋으로 질문과 대답을 합친 결과를 넣도록 수정\n",
    "    - 디코더 인퍼런스 함수에서 모델 인풋으로 질문과 START_TOKEN 합친 문장 넣음"
   ]
  },
  {
   "cell_type": "markdown",
   "id": "408d1f4d",
   "metadata": {},
   "source": [
    "## 필요한 패키지 임포트"
   ]
  },
  {
   "cell_type": "code",
   "execution_count": 1,
   "id": "135a6dfb",
   "metadata": {},
   "outputs": [
    {
     "name": "stdout",
     "output_type": "stream",
     "text": [
      "슝=3\n"
     ]
    }
   ],
   "source": [
    "import tensorflow as tf\n",
    "import tensorflow_datasets as tfds\n",
    "import os\n",
    "import re\n",
    "import numpy as np\n",
    "import matplotlib.pyplot as plt\n",
    "print(\"슝=3\")"
   ]
  },
  {
   "cell_type": "markdown",
   "id": "02a28341",
   "metadata": {},
   "source": [
    "## 데이터 수집과 전처리"
   ]
  },
  {
   "cell_type": "markdown",
   "id": "414ac5ca",
   "metadata": {},
   "source": [
    "### 데이터 로드 함수 정의, 사용"
   ]
  },
  {
   "cell_type": "code",
   "execution_count": 2,
   "id": "3c97cb19",
   "metadata": {},
   "outputs": [],
   "source": [
    "# csv 파일은 pd.read_csv()로 읽으면 슬라이싱할 필요 없이 각 문장을 쉽게 얻을 수 있다.\n",
    "import pandas as pd\n",
    "\n",
    "def load_chat_data(filepath):\n",
    "    df = pd.read_csv(filepath)\n",
    "    \n",
    "    # 컬럼 이름이 없을 수도 있으니, 기본 열 인덱스로 접근\n",
    "    # 또는 df.columns 확인 후 명시적으로 'Q', 'A' 같은 이름 사용 가능\n",
    "    questions = df.iloc[:, 0].astype(str).tolist()\n",
    "    answers = df.iloc[:, 1].astype(str).tolist()\n",
    "\n",
    "    return questions, answers"
   ]
  },
  {
   "cell_type": "code",
   "execution_count": 3,
   "id": "6db8ca00",
   "metadata": {},
   "outputs": [
    {
     "name": "stdout",
     "output_type": "stream",
     "text": [
      "질문 예시: ['12시 땡!', '1지망 학교 떨어졌어', '3박4일 놀러가고 싶다']\n",
      "답변 예시: ['하루가 또 가네요.', '위로해 드립니다.', '여행은 언제나 좋죠.']\n"
     ]
    }
   ],
   "source": [
    "questions, answers = load_chat_data('/aiffel/aiffel/transformer_chatbot/data/ChatbotData .csv')\n",
    "print(\"질문 예시:\", questions[:3])\n",
    "print(\"답변 예시:\", answers[:3])"
   ]
  },
  {
   "cell_type": "markdown",
   "id": "92de0d3a",
   "metadata": {},
   "source": [
    "### 한글 데이터 전처리 함수 정의, 사용"
   ]
  },
  {
   "cell_type": "code",
   "execution_count": 4,
   "id": "1fe24a59",
   "metadata": {},
   "outputs": [],
   "source": [
    "def preprocess_sentence(sentence):\n",
    "    sentence = sentence.strip().lower()\n",
    "\n",
    "    # 구두점 앞뒤로 띄어쓰기\n",
    "    sentence = re.sub(r\"([?.!,])\", r\" \\1 \", sentence)\n",
    "\n",
    "    # 숫자와 문자 사이 띄어쓰기\n",
    "    sentence = re.sub(r\"(\\d)([가-힣ㄱ-ㅎㅏ-ㅣa-zA-Z])\", r\"\\1 \\2\", sentence)\n",
    "    sentence = re.sub(r\"([가-힣ㄱ-ㅎㅏ-ㅣa-zA-Z])(\\d)\", r\"\\1 \\2\", sentence)\n",
    "    \n",
    "    # 영어-한글 또는 한글-영어 사이 띄어쓰기\n",
    "    sentence = re.sub(r\"([a-zA-Z])([가-힣ㄱ-ㅎㅏ-ㅣ])\", r\"\\1 \\2\", sentence)\n",
    "    sentence = re.sub(r\"([가-힣ㄱ-ㅎㅏ-ㅣ])([a-zA-Z])\", r\"\\1 \\2\", sentence)\n",
    "    \n",
    "    # 자모 1개 이상 앞에 공백 삽입 (앞 단어가 있을 경우)\n",
    "    sentence = re.sub(r\"(?<=[가-힣a-zA-Z0-9])(?=[ㄱ-ㅎㅏ-ㅣ]+)\", \" \", sentence)\n",
    "\n",
    "    # 여러 공백 정리\n",
    "    sentence = re.sub(r'\\s+', ' ', sentence)\n",
    "\n",
    "    # 특수문자 정리 (한글 자모 포함)\n",
    "    sentence = re.sub(r\"[^가-힣ㄱ-ㅎㅏ-ㅣa-zA-Z0-9?.!,]+\", \" \", sentence)\n",
    "\n",
    "    return sentence.strip()"
   ]
  },
  {
   "cell_type": "code",
   "execution_count": 5,
   "id": "539a4c0d",
   "metadata": {},
   "outputs": [
    {
     "name": "stdout",
     "output_type": "stream",
     "text": [
      "힘들다 ㅠㅠ 안녕 123 ㅋ !\n"
     ]
    }
   ],
   "source": [
    "# 함수 작동 확인\n",
    "print(preprocess_sentence(\"힘들다ㅠㅠ 안녕123ㅋ!\"))  "
   ]
  },
  {
   "cell_type": "code",
   "execution_count": 6,
   "id": "3d080f0f",
   "metadata": {
    "scrolled": true
   },
   "outputs": [],
   "source": [
    "questions = [preprocess_sentence(q) for q in questions]\n",
    "answers = [preprocess_sentence(a) for a in answers]"
   ]
  },
  {
   "cell_type": "code",
   "execution_count": 7,
   "id": "cff86769",
   "metadata": {},
   "outputs": [
    {
     "name": "stdout",
     "output_type": "stream",
     "text": [
      "질문 예시: 싱숭생숭 ㅠ\n",
      "답변 예시: 한동안은 그럴지도 몰라요 .\n",
      "질문 예시: 착각이였나보네 ㅋㅋ\n",
      "답변 예시: 상대의 의중을 알긴 쉽지 않죠 .\n"
     ]
    }
   ],
   "source": [
    "# 모음이나 자음 의성어, 의태어 띄어쓰기 확인\n",
    "print(\"질문 예시:\", questions[6799])\n",
    "print(\"답변 예시:\", answers[6799])\n",
    "print(\"질문 예시:\", questions[8272])\n",
    "print(\"답변 예시:\", answers[8272])"
   ]
  },
  {
   "cell_type": "code",
   "execution_count": 8,
   "id": "294bfdde",
   "metadata": {},
   "outputs": [
    {
     "name": "stdout",
     "output_type": "stream",
     "text": [
      "질문 예시: 오늘 또 헤어진 사람의 sns 를 봤네\n",
      "답변 예시: sns 를 삭제하는게 어떨까요 . 미련만 남을 뿐이에요 .\n"
     ]
    }
   ],
   "source": [
    "# 영어와 한글 띄어쓰기 확인\n",
    "print(\"질문 예시:\", questions[7127])\n",
    "print(\"답변 예시:\", answers[7127])"
   ]
  },
  {
   "cell_type": "markdown",
   "id": "30414fee",
   "metadata": {},
   "source": [
    "### 단어장 만들기"
   ]
  },
  {
   "cell_type": "code",
   "execution_count": 9,
   "id": "8b7a8c73",
   "metadata": {},
   "outputs": [
    {
     "name": "stdout",
     "output_type": "stream",
     "text": [
      "살짝 오래 걸릴 수 있어요. 스트레칭 한 번 해볼까요? 👐\n",
      "슝=3 \n"
     ]
    }
   ],
   "source": [
    "import tensorflow_datasets as tfds\n",
    "print(\"살짝 오래 걸릴 수 있어요. 스트레칭 한 번 해볼까요? 👐\")\n",
    "\n",
    "# 질문과 답변 데이터셋에 대해서 Vocabulary 생성\n",
    "tokenizer = tfds.deprecated.text.SubwordTextEncoder.build_from_corpus(questions + answers, target_vocab_size=2**13)\n",
    "print(\"슝=3 \")"
   ]
  },
  {
   "cell_type": "code",
   "execution_count": 10,
   "id": "fdb72bbc",
   "metadata": {},
   "outputs": [
    {
     "name": "stdout",
     "output_type": "stream",
     "text": [
      "슝=3\n"
     ]
    }
   ],
   "source": [
    "# 시작 토큰과 종료 토큰에 고유한 정수를 부여합니다.\n",
    "START_TOKEN, END_TOKEN = [tokenizer.vocab_size], [tokenizer.vocab_size + 1]\n",
    "print(\"슝=3\")"
   ]
  },
  {
   "cell_type": "code",
   "execution_count": 11,
   "id": "11d913fe",
   "metadata": {},
   "outputs": [
    {
     "name": "stdout",
     "output_type": "stream",
     "text": [
      "START_TOKEN의 번호 : [8157]\n",
      "END_TOKEN의 번호 : [8158]\n"
     ]
    }
   ],
   "source": [
    "print('START_TOKEN의 번호 :' ,[tokenizer.vocab_size])\n",
    "print('END_TOKEN의 번호 :' ,[tokenizer.vocab_size + 1])"
   ]
  },
  {
   "cell_type": "code",
   "execution_count": 12,
   "id": "90410c5e",
   "metadata": {
    "scrolled": true
   },
   "outputs": [
    {
     "name": "stdout",
     "output_type": "stream",
     "text": [
      "8159\n"
     ]
    }
   ],
   "source": [
    "# 시작 토큰과 종료 토큰을 고려하여 +2를 하여 단어장의 크기를 산정합니다.\n",
    "VOCAB_SIZE = tokenizer.vocab_size + 2\n",
    "print(VOCAB_SIZE)"
   ]
  },
  {
   "cell_type": "markdown",
   "id": "ebeaf724",
   "metadata": {},
   "source": [
    "### 정수 인코딩"
   ]
  },
  {
   "cell_type": "code",
   "execution_count": 13,
   "id": "835f0307",
   "metadata": {},
   "outputs": [
    {
     "name": "stdout",
     "output_type": "stream",
     "text": [
      "정수 인코딩 전의 21번째 질문 샘플: 가스비 장난 아님\n",
      "정수 인코딩 전 21번째 답변 샘플: 다음 달에는 더 절약해봐요 .\n",
      "정수 인코딩 후의 21번째 질문 샘플: [5763, 617, 2499, 4168]\n",
      "정수 인코딩 후의 21번째 답변 샘플: [2365, 7508, 7, 6271, 97, 1]\n"
     ]
    }
   ],
   "source": [
    "# 임의의 22번째 샘플에 대해서 정수 인코딩 작업을 수행.\n",
    "# 각 토큰을 고유한 정수로 변환\n",
    "print('정수 인코딩 전의 21번째 질문 샘플: {}'.format(questions[21]))\n",
    "print('정수 인코딩 전 21번째 답변 샘플: {}'.format(answers[21]))\n",
    "print('정수 인코딩 후의 21번째 질문 샘플: {}'.format(tokenizer.encode(questions[21])))\n",
    "print('정수 인코딩 후의 21번째 답변 샘플: {}'.format(tokenizer.encode(answers[21])))"
   ]
  },
  {
   "cell_type": "code",
   "execution_count": 14,
   "id": "8e19787c",
   "metadata": {},
   "outputs": [],
   "source": [
    "# 정수 인코딩\n",
    "def tokenize(inputs, outputs):\n",
    "  tokenized_inputs, tokenized_outputs = [], []\n",
    "  \n",
    "  for (sentence1, sentence2) in zip(inputs, outputs):\n",
    "    # 정수 인코딩 과정에서 시작 토큰과 종료 토큰을 추가\n",
    "    sentence1 = START_TOKEN + tokenizer.encode(sentence1) + END_TOKEN\n",
    "    sentence2 = START_TOKEN + tokenizer.encode(sentence2) + END_TOKEN\n",
    "    tokenized_inputs.append(sentence1)\n",
    "    tokenized_outputs.append(sentence2)\n",
    "  \n",
    "  return tokenized_inputs, tokenized_outputs\n",
    "\n",
    "tokenized_questions, tokenized_answers = tokenize(questions, answers)"
   ]
  },
  {
   "cell_type": "code",
   "execution_count": 15,
   "id": "1b96870f",
   "metadata": {},
   "outputs": [
    {
     "name": "stdout",
     "output_type": "stream",
     "text": [
      "정수 인코딩 후의 21번째 질문 샘플: [8157, 5763, 617, 2499, 4168, 8158]\n",
      "정수 인코딩 후의 21번째 답변 샘플: [8157, 2365, 7508, 7, 6271, 97, 1, 8158]\n"
     ]
    }
   ],
   "source": [
    "print('정수 인코딩 후의 21번째 질문 샘플: {}'.format(tokenized_questions[21]))\n",
    "print('정수 인코딩 후의 21번째 답변 샘플: {}'.format(tokenized_answers[21]))"
   ]
  },
  {
   "cell_type": "code",
   "execution_count": 16,
   "id": "4b5c7106",
   "metadata": {},
   "outputs": [],
   "source": [
    "question_lengths = [len(q) for q in tokenized_questions]\n",
    "answer_lengths = [len(a) for a in tokenized_answers]"
   ]
  },
  {
   "cell_type": "code",
   "execution_count": 17,
   "id": "e35e5c7f",
   "metadata": {},
   "outputs": [
    {
     "data": {
      "image/png": "[encoded data removed]",
      "text/plain": [
       "<Figure size 432x288 with 1 Axes>"
      ]
     },
     "metadata": {
      "needs_background": "light"
     },
     "output_type": "display_data"
    }
   ],
   "source": [
    "plt.hist(question_lengths, bins=50, alpha=0.6, label='Questions')\n",
    "plt.hist(answer_lengths, bins=50, alpha=0.6, label='Answers')\n",
    "plt.xlabel('Length')\n",
    "plt.ylabel('Count')\n",
    "plt.title('Token Length Distribution')\n",
    "plt.legend()\n",
    "plt.show()"
   ]
  },
  {
   "cell_type": "code",
   "execution_count": 18,
   "id": "7f7816b7",
   "metadata": {},
   "outputs": [
    {
     "name": "stdout",
     "output_type": "stream",
     "text": [
      "질문 최대 길이: 23\n",
      "답변 최대 길이: 31\n",
      "95% 질문 길이: 12.0\n",
      "95% 답변 길이: 13.0\n"
     ]
    }
   ],
   "source": [
    "print(\"질문 최대 길이:\", np.max(question_lengths))\n",
    "print(\"답변 최대 길이:\", np.max(answer_lengths))\n",
    "\n",
    "print(\"95% 질문 길이:\", np.percentile(question_lengths, 95))\n",
    "print(\"95% 답변 길이:\", np.percentile(answer_lengths, 95))"
   ]
  },
  {
   "cell_type": "code",
   "execution_count": 19,
   "id": "268c91d6",
   "metadata": {},
   "outputs": [],
   "source": [
    "MAX_LENGTH = 15\n",
    "\n",
    "# 최대 길이를 초과하는 샘플 제거, 패딩\n",
    "def filter(inputs, outputs):\n",
    "  filtered_inputs, filtered_outputs = [], []\n",
    "  \n",
    "  for (sentence1, sentence2) in zip(inputs, outputs):\n",
    "    # 최대 길이 15 이하인 경우에만 데이터셋으로 허용\n",
    "    if len(sentence1) <= MAX_LENGTH and len(sentence2) <= MAX_LENGTH:\n",
    "      filtered_inputs.append(sentence1)\n",
    "      filtered_outputs.append(sentence2)\n",
    "  \n",
    "  # 최대 길이 15로 모든 데이터셋을 패딩\n",
    "  filtered_inputs = tf.keras.preprocessing.sequence.pad_sequences(\n",
    "      filtered_inputs, maxlen=MAX_LENGTH, padding='post')\n",
    "  filtered_outputs = tf.keras.preprocessing.sequence.pad_sequences(\n",
    "      filtered_outputs, maxlen=MAX_LENGTH, padding='post')\n",
    "  \n",
    "  return filtered_inputs, filtered_outputs\n",
    "\n",
    "questions, answers = filter(tokenized_questions, tokenized_answers)"
   ]
  },
  {
   "cell_type": "code",
   "execution_count": 20,
   "id": "44bc330b",
   "metadata": {},
   "outputs": [
    {
     "name": "stdout",
     "output_type": "stream",
     "text": [
      "필터링&패딩 후의 21번째 질문 샘플: [8157 5763  617 2499 4168 8158    0    0    0    0    0    0    0    0\n",
      "    0]\n",
      "필터링&패딩 후의 21번째 답변 샘플: [8157 2365 7508    7 6271   97    1 8158    0    0    0    0    0    0\n",
      "    0]\n"
     ]
    }
   ],
   "source": [
    "print('필터링&패딩 후의 21번째 질문 샘플: {}'.format(questions[21]))\n",
    "print('필터링&패딩 후의 21번째 답변 샘플: {}'.format(answers[21]))"
   ]
  },
  {
   "cell_type": "code",
   "execution_count": 21,
   "id": "b0e738dc",
   "metadata": {
    "scrolled": true
   },
   "outputs": [
    {
     "name": "stdout",
     "output_type": "stream",
     "text": [
      "단어장의 크기 : 8159\n",
      "필터링 후의 질문 샘플 개수: 11570\n",
      "필터링 후의 답변 샘플 개수: 11570\n"
     ]
    }
   ],
   "source": [
    "print('단어장의 크기 :',(VOCAB_SIZE))\n",
    "print('필터링 후의 질문 샘플 개수: {}'.format(len(questions)))\n",
    "print('필터링 후의 답변 샘플 개수: {}'.format(len(answers)))"
   ]
  },
  {
   "cell_type": "markdown",
   "id": "676e431b",
   "metadata": {},
   "source": [
    "**중요**: gpt-1은 인코더가 존재하지 않으므로 디코더의 입력만으로 데이터셋 구현"
   ]
  },
  {
   "cell_type": "code",
   "execution_count": 22,
   "id": "6a66e727",
   "metadata": {},
   "outputs": [
    {
     "name": "stdout",
     "output_type": "stream",
     "text": [
      "슝=3\n"
     ]
    }
   ],
   "source": [
    "BATCH_SIZE = 64\n",
    "BUFFER_SIZE = 10000\n",
    "\n",
    "# 변경사항: 인코더 입력과 디코더 입력을 모두 갖지 않고, 디코더에 들어갈 문장들로 데이터셋을 수정함.\n",
    "# 질문과 답변을 이어붙임 (가로로)\n",
    "merged = tf.concat([questions, answers], axis=1)\n",
    "\n",
    "# 질문과 답변을 이어붙인 것을 입력으로 하기 때문에 이제부터 MAX_LENGTH는 두 배로 증가\n",
    "MAX_LENGTH = MAX_LENGTH * 2\n",
    "\n",
    "# 데이터셋 생성\n",
    "dataset = tf.data.Dataset.from_tensor_slices((\n",
    "    {\n",
    "        'dec_inputs': merged[:, :-1]\n",
    "    },\n",
    "    {\n",
    "        'outputs': merged[:, 1:]\n",
    "    },\n",
    "))\n",
    "\n",
    "dataset = dataset.cache()\n",
    "dataset = dataset.shuffle(BUFFER_SIZE)  # 여기 shuffle은 \"문장\" 단위 셔플이라 괜찮음\n",
    "dataset = dataset.batch(BATCH_SIZE)\n",
    "dataset = dataset.prefetch(tf.data.experimental.AUTOTUNE)\n",
    "print(\"슝=3\")"
   ]
  },
  {
   "cell_type": "markdown",
   "id": "866c9919",
   "metadata": {},
   "source": [
    "## 모델 구성"
   ]
  },
  {
   "cell_type": "markdown",
   "id": "49b1704a",
   "metadata": {},
   "source": [
    "### 포지셔널 임베딩 레이어\n",
    "기존의 인코딩 레이어에서 임베딩 레이어로 수정"
   ]
  },
  {
   "cell_type": "code",
   "execution_count": 23,
   "id": "6609a16a",
   "metadata": {},
   "outputs": [
    {
     "name": "stdout",
     "output_type": "stream",
     "text": [
      "슝=3\n"
     ]
    }
   ],
   "source": [
    "# 포지셔널 임베딩 레이어 (GPT-1 스타일)\n",
    "class PositionalEmbedding(tf.keras.layers.Layer):\n",
    "\n",
    "    def __init__(self, max_len, d_model):\n",
    "        super(PositionalEmbedding, self).__init__()\n",
    "        self.pos_embedding = tf.keras.layers.Embedding(max_len, d_model)\n",
    "\n",
    "    def call(self, inputs):\n",
    "        seq_len = tf.shape(inputs)[1]  # 입력 시퀀스 길이\n",
    "        positions = tf.range(start=0, limit=seq_len, delta=1)\n",
    "        positions = self.pos_embedding(positions)  # 포지션 인덱스를 임베딩\n",
    "        return inputs + positions  # 토큰 임베딩과 포지션 임베딩을 더함\n",
    "\n",
    "print(\"슝=3\")"
   ]
  },
  {
   "cell_type": "markdown",
   "id": "1184954c",
   "metadata": {},
   "source": [
    "### 스케일드 닷 프로덕트 어텐션 함수"
   ]
  },
  {
   "cell_type": "code",
   "execution_count": 24,
   "id": "2578b9fe",
   "metadata": {},
   "outputs": [
    {
     "name": "stdout",
     "output_type": "stream",
     "text": [
      "슝=3\n"
     ]
    }
   ],
   "source": [
    "# 스케일드 닷 프로덕트 어텐션 함수\n",
    "def scaled_dot_product_attention(query, key, value, mask):\n",
    "  # 어텐션 가중치는 Q와 K의 닷 프로덕트\n",
    "  matmul_qk = tf.matmul(query, key, transpose_b=True)\n",
    "\n",
    "  # 가중치를 정규화\n",
    "  depth = tf.cast(tf.shape(key)[-1], tf.float32)\n",
    "  logits = matmul_qk / tf.math.sqrt(depth)\n",
    "\n",
    "  # 패딩에 마스크 추가\n",
    "  if mask is not None:\n",
    "    logits += (mask * -1e9)\n",
    "\n",
    "  # softmax적용\n",
    "  attention_weights = tf.nn.softmax(logits, axis=-1)\n",
    "\n",
    "  # 최종 어텐션은 가중치와 V의 닷 프로덕트\n",
    "  output = tf.matmul(attention_weights, value)\n",
    "  return output\n",
    "\n",
    "print(\"슝=3\")"
   ]
  },
  {
   "cell_type": "markdown",
   "id": "c5128e7d",
   "metadata": {},
   "source": [
    "### 멀티헤드 어텐션"
   ]
  },
  {
   "cell_type": "code",
   "execution_count": 25,
   "id": "41cdde35",
   "metadata": {},
   "outputs": [
    {
     "name": "stdout",
     "output_type": "stream",
     "text": [
      "슝=3\n"
     ]
    }
   ],
   "source": [
    "class MultiHeadAttention(tf.keras.layers.Layer):\n",
    "\n",
    "  def __init__(self, d_model, num_heads, name=\"multi_head_attention\"):\n",
    "    super(MultiHeadAttention, self).__init__(name=name)\n",
    "    self.num_heads = num_heads\n",
    "    self.d_model = d_model\n",
    "\n",
    "    assert d_model % self.num_heads == 0\n",
    "\n",
    "    self.depth = d_model // self.num_heads\n",
    "\n",
    "    self.query_dense = tf.keras.layers.Dense(units=d_model)\n",
    "    self.key_dense = tf.keras.layers.Dense(units=d_model)\n",
    "    self.value_dense = tf.keras.layers.Dense(units=d_model)\n",
    "\n",
    "    self.dense = tf.keras.layers.Dense(units=d_model)\n",
    "\n",
    "  def split_heads(self, inputs, batch_size):\n",
    "    inputs = tf.reshape(\n",
    "        inputs, shape=(batch_size, -1, self.num_heads, self.depth))\n",
    "    return tf.transpose(inputs, perm=[0, 2, 1, 3])\n",
    "\n",
    "  def call(self, inputs):\n",
    "    query, key, value, mask = inputs['query'], inputs['key'], inputs[\n",
    "        'value'], inputs['mask']\n",
    "    batch_size = tf.shape(query)[0]\n",
    "\n",
    "    # Q, K, V에 각각 Dense를 적용합니다\n",
    "    query = self.query_dense(query)\n",
    "    key = self.key_dense(key)\n",
    "    value = self.value_dense(value)\n",
    "\n",
    "    # 병렬 연산을 위한 머리를 여러 개 만듭니다\n",
    "    query = self.split_heads(query, batch_size)\n",
    "    key = self.split_heads(key, batch_size)\n",
    "    value = self.split_heads(value, batch_size)\n",
    "\n",
    "    # 스케일드 닷 프로덕트 어텐션 함수\n",
    "    scaled_attention = scaled_dot_product_attention(query, key, value, mask)\n",
    "\n",
    "    scaled_attention = tf.transpose(scaled_attention, perm=[0, 2, 1, 3])\n",
    "\n",
    "    # 어텐션 연산 후에 각 결과를 다시 연결(concatenate)합니다\n",
    "    concat_attention = tf.reshape(scaled_attention,\n",
    "                                  (batch_size, -1, self.d_model))\n",
    "\n",
    "    # 최종 결과에도 Dense를 한 번 더 적용합니다\n",
    "    outputs = self.dense(concat_attention)\n",
    "\n",
    "    return outputs\n",
    "print(\"슝=3\")"
   ]
  },
  {
   "cell_type": "markdown",
   "id": "9dc486b7",
   "metadata": {},
   "source": [
    "### 패딩 마스킹"
   ]
  },
  {
   "cell_type": "code",
   "execution_count": 26,
   "id": "3dab999a",
   "metadata": {},
   "outputs": [
    {
     "name": "stdout",
     "output_type": "stream",
     "text": [
      "슝=3\n"
     ]
    }
   ],
   "source": [
    "def create_padding_mask(x):\n",
    "  mask = tf.cast(tf.math.equal(x, 0), tf.float32)\n",
    "  # (batch_size, 1, 1, sequence length)\n",
    "  return mask[:, tf.newaxis, tf.newaxis, :]\n",
    "print(\"슝=3\")"
   ]
  },
  {
   "cell_type": "markdown",
   "id": "d154658f",
   "metadata": {},
   "source": [
    "### 룩 어헤드 마스킹"
   ]
  },
  {
   "cell_type": "code",
   "execution_count": 27,
   "id": "36df7db2",
   "metadata": {},
   "outputs": [
    {
     "name": "stdout",
     "output_type": "stream",
     "text": [
      "슝=3\n"
     ]
    }
   ],
   "source": [
    "def create_look_ahead_mask(x):\n",
    "  seq_len = tf.shape(x)[1] # 시퀀스 길이\n",
    "  look_ahead_mask = 1 - tf.linalg.band_part(tf.ones((seq_len, seq_len)), -1, 0) # 1에서 하삼각 행렬을 빼서 마스크 생성\n",
    "  padding_mask = create_padding_mask(x)\n",
    "  return tf.maximum(look_ahead_mask, padding_mask) # 두 마스크를 합치는 부분\n",
    "print(\"슝=3\")"
   ]
  },
  {
   "cell_type": "markdown",
   "id": "774d8a7c",
   "metadata": {},
   "source": [
    "### 인코더\n",
    "GPT-1에는 인코더가 존재하지 않기 때문에 삭제"
   ]
  },
  {
   "cell_type": "markdown",
   "id": "b50bbce0",
   "metadata": {},
   "source": [
    "### 디코더"
   ]
  },
  {
   "cell_type": "markdown",
   "id": "7e49bb12",
   "metadata": {},
   "source": [
    "#### 디코더 레이어 함수"
   ]
  },
  {
   "cell_type": "code",
   "execution_count": 28,
   "id": "ae0c49d9",
   "metadata": {},
   "outputs": [
    {
     "name": "stdout",
     "output_type": "stream",
     "text": [
      "슝=3\n"
     ]
    }
   ],
   "source": [
    "# 디코더 하나의 레이어를 함수로 구현.\n",
    "# 이 하나의 레이어 안에는 세 개의 서브 레이어가 존재합니다.\n",
    "def decoder_layer(units, d_model, num_heads, dropout, name=\"decoder_layer\"):\n",
    "  inputs = tf.keras.Input(shape=(None, d_model), name=\"inputs\")\n",
    "  # 인코더 아웃풋 삭제\n",
    "  look_ahead_mask = tf.keras.Input(\n",
    "      shape=(1, None, None), name=\"look_ahead_mask\")\n",
    "  # 인코더-디코더 어텐션에 사용하던 패딩 마스크 삭제\n",
    "\n",
    "  # 첫 번째 서브 레이어 : 마스크드 멀티 헤드 어텐션 수행 (셀프 어텐션)\n",
    "  attention1 = MultiHeadAttention(\n",
    "      d_model, num_heads, name=\"attention_1\")(inputs={\n",
    "          'query': inputs,\n",
    "          'key': inputs,\n",
    "          'value': inputs,\n",
    "          'mask': look_ahead_mask\n",
    "      })\n",
    "\n",
    "  # 어텐션의 결과는 LayerNormalization이라는 훈련을 돕는 테크닉을 수행\n",
    "  attention1 = tf.keras.layers.LayerNormalization(\n",
    "      epsilon=1e-6)(attention1 + inputs)\n",
    "\n",
    "  # 두 번째 서브 레이어 : 멀티 헤드 어텐션 수행 (인코더-디코더 어텐션)\n",
    "  # GPT-1에는 존재하지 않으므로 삭제\n",
    "\n",
    "  # 세 번째 서브 레이어 : 2개의 완전연결층\n",
    "  # GPT-1에서는 두 번째 서브 레이어\n",
    "  # 첫 번째 어텐션과 연결\n",
    "  outputs = tf.keras.layers.Dense(units=units, activation='relu')(attention1)\n",
    "  outputs = tf.keras.layers.Dense(units=d_model)(outputs)\n",
    "\n",
    "  # 완전연결층의 결과는 Dropout과 LayerNormalization 수행\n",
    "  outputs = tf.keras.layers.Dropout(rate=dropout)(outputs)\n",
    "  outputs = tf.keras.layers.LayerNormalization(\n",
    "      epsilon=1e-6)(outputs + attention1)\n",
    "\n",
    "  return tf.keras.Model(\n",
    "      inputs=[inputs,look_ahead_mask],\n",
    "      outputs=outputs,\n",
    "      name=name)\n",
    "print(\"슝=3\")"
   ]
  },
  {
   "cell_type": "markdown",
   "id": "eb01153f",
   "metadata": {},
   "source": [
    "#### 디코더 구현"
   ]
  },
  {
   "cell_type": "code",
   "execution_count": 29,
   "id": "7a5d0aea",
   "metadata": {},
   "outputs": [
    {
     "name": "stdout",
     "output_type": "stream",
     "text": [
      "슝=3\n"
     ]
    }
   ],
   "source": [
    "def decoder(vocab_size,\n",
    "            num_layers,\n",
    "            units,\n",
    "            d_model,\n",
    "            num_heads,\n",
    "            dropout,\n",
    "            name='decoder'):\n",
    "  inputs = tf.keras.Input(shape=(None,), name='inputs')\n",
    "  # 인코더 아웃풋 삭제\n",
    "  look_ahead_mask = tf.keras.Input(\n",
    "      shape=(1, None, None), name='look_ahead_mask')\n",
    "\n",
    "  # 패딩 마스크 삭제\n",
    "  \n",
    "  # 임베딩 레이어\n",
    "  embeddings = tf.keras.layers.Embedding(vocab_size, d_model)(inputs)\n",
    "  embeddings *= tf.math.sqrt(tf.cast(d_model, tf.float32))\n",
    "\n",
    "  # 포지셔널 인코딩\n",
    "  embeddings = PositionalEmbedding(MAX_LENGTH, d_model)(embeddings)\n",
    "\n",
    "  # Dropout이라는 훈련을 돕는 테크닉을 수행\n",
    "  outputs = tf.keras.layers.Dropout(rate=dropout)(embeddings)\n",
    "\n",
    "  for i in range(num_layers):\n",
    "    outputs = decoder_layer(\n",
    "        units=units,\n",
    "        d_model=d_model,\n",
    "        num_heads=num_heads,\n",
    "        dropout=dropout,\n",
    "        name='decoder_layer_{}'.format(i),\n",
    "    )(inputs=[outputs, look_ahead_mask])\n",
    "\n",
    "  return tf.keras.Model(\n",
    "      inputs=[inputs, look_ahead_mask],\n",
    "      outputs=outputs,\n",
    "      name=name)\n",
    "print(\"슝=3\")"
   ]
  },
  {
   "cell_type": "markdown",
   "id": "78162a0b",
   "metadata": {},
   "source": [
    "### 트랜스포머 정의"
   ]
  },
  {
   "cell_type": "code",
   "execution_count": 30,
   "id": "5522cdca",
   "metadata": {},
   "outputs": [
    {
     "name": "stdout",
     "output_type": "stream",
     "text": [
      "슝=3\n"
     ]
    }
   ],
   "source": [
    "def gpt_1(vocab_size,\n",
    "                num_layers,\n",
    "                units,\n",
    "                d_model,\n",
    "                num_heads,\n",
    "                dropout,\n",
    "                name=\"gpt-1\"):\n",
    "  # 인코더 인풋 삭제\n",
    "  dec_inputs = tf.keras.Input(shape=(None,), name=\"dec_inputs\")\n",
    "\n",
    "  # 인코더 패딩 마스크 삭제\n",
    "\n",
    "  # 디코더의 첫 번째 self-attention에서 미래 토큰을 가리기 위한 마스크입니다.\n",
    "  # 함수 내에 padding mask가 포함되어 있습니다.\n",
    "  look_ahead_mask = tf.keras.layers.Lambda(\n",
    "      create_look_ahead_mask,\n",
    "      output_shape=(1, None, None),\n",
    "      name='look_ahead_mask')(dec_inputs)\n",
    "\n",
    "  # 디코더 패딩 마스크 삭제\n",
    "\n",
    "  # 인코더 삭제\n",
    "\n",
    "  # 디코더\n",
    "  # 디코더 입력으로 인코더 아웃풋, 패딩 마스크 삭제\n",
    "  # 디코더 인풋, 룩-어헤드 마스크만 남김\n",
    "  dec_outputs = decoder(\n",
    "      vocab_size=vocab_size,\n",
    "      num_layers=num_layers,\n",
    "      units=units,\n",
    "      d_model=d_model,\n",
    "      num_heads=num_heads,\n",
    "      dropout=dropout,\n",
    "  )(inputs=[dec_inputs, look_ahead_mask])\n",
    "\n",
    "  # 완전연결층\n",
    "  outputs = tf.keras.layers.Dense(units=vocab_size, name=\"outputs\")(dec_outputs)\n",
    "\n",
    "  return tf.keras.Model(inputs=dec_inputs, outputs=outputs, name=name)\n",
    "print(\"슝=3\")"
   ]
  },
  {
   "cell_type": "markdown",
   "id": "16cd26d2",
   "metadata": {},
   "source": [
    "### 모델 생성"
   ]
  },
  {
   "cell_type": "code",
   "execution_count": 31,
   "id": "c3da5f7a",
   "metadata": {
    "scrolled": false
   },
   "outputs": [
    {
     "name": "stdout",
     "output_type": "stream",
     "text": [
      "Model: \"gpt-1\"\n",
      "__________________________________________________________________________________________________\n",
      "Layer (type)                    Output Shape         Param #     Connected to                     \n",
      "==================================================================================================\n",
      "dec_inputs (InputLayer)         [(None, None)]       0                                            \n",
      "__________________________________________________________________________________________________\n",
      "look_ahead_mask (Lambda)        (None, 1, None, None 0           dec_inputs[0][0]                 \n",
      "__________________________________________________________________________________________________\n",
      "decoder (Functional)            (None, None, 256)    10530048    dec_inputs[0][0]                 \n",
      "                                                                 look_ahead_mask[0][0]            \n",
      "__________________________________________________________________________________________________\n",
      "outputs (Dense)                 (None, None, 8159)   2096863     decoder[0][0]                    \n",
      "==================================================================================================\n",
      "Total params: 12,626,911\n",
      "Trainable params: 12,626,911\n",
      "Non-trainable params: 0\n",
      "__________________________________________________________________________________________________\n"
     ]
    }
   ],
   "source": [
    "tf.keras.backend.clear_session()\n",
    "\n",
    "# 하이퍼파라미터\n",
    "NUM_LAYERS = 16 # 인코더와 디코더의 층의 개수\n",
    "D_MODEL = 256 # 인코더와 디코더 내부의 입, 출력의 고정 차원\n",
    "NUM_HEADS = 8 # 멀티 헤드 어텐션에서의 헤드 수 \n",
    "UNITS = 512 # 피드 포워드 신경망의 은닉층의 크기\n",
    "DROPOUT = 0.1 # 드롭아웃의 비율\n",
    "\n",
    "model = gpt_1(\n",
    "    vocab_size=VOCAB_SIZE,\n",
    "    num_layers=NUM_LAYERS,\n",
    "    units=UNITS,\n",
    "    d_model=D_MODEL,\n",
    "    num_heads=NUM_HEADS,\n",
    "    dropout=DROPOUT)\n",
    "\n",
    "model.summary()"
   ]
  },
  {
   "cell_type": "markdown",
   "id": "16e28624",
   "metadata": {},
   "source": [
    "## 모델 컴파일 및 학습 진행"
   ]
  },
  {
   "cell_type": "markdown",
   "id": "4d1f0b44",
   "metadata": {},
   "source": [
    "### 손실 함수 정의"
   ]
  },
  {
   "cell_type": "code",
   "execution_count": 32,
   "id": "d5458c27",
   "metadata": {
    "scrolled": true
   },
   "outputs": [
    {
     "name": "stdout",
     "output_type": "stream",
     "text": [
      "슝=3\n"
     ]
    }
   ],
   "source": [
    "# GPT-1 논문의 likelyhood 최대화와 같은 의미, 그대로 유지\n",
    "def loss_function(y_true, y_pred):\n",
    "  y_true = tf.reshape(y_true, shape=(-1, MAX_LENGTH - 1))\n",
    "  \n",
    "  loss = tf.keras.losses.SparseCategoricalCrossentropy(\n",
    "      from_logits=True, reduction='none')(y_true, y_pred)\n",
    "\n",
    "  mask = tf.cast(tf.not_equal(y_true, 0), tf.float32)\n",
    "  loss = tf.multiply(loss, mask)\n",
    "\n",
    "  return tf.reduce_mean(loss)\n",
    "print(\"슝=3\")"
   ]
  },
  {
   "cell_type": "markdown",
   "id": "d3f9550c",
   "metadata": {},
   "source": [
    "### 커스텀된 학습률"
   ]
  },
  {
   "cell_type": "code",
   "execution_count": 33,
   "id": "539679f7",
   "metadata": {},
   "outputs": [
    {
     "name": "stdout",
     "output_type": "stream",
     "text": [
      "슝=3\n"
     ]
    }
   ],
   "source": [
    "class CustomSchedule(tf.keras.optimizers.schedules.LearningRateSchedule):\n",
    "\n",
    "  def __init__(self, d_model, warmup_steps=4000):\n",
    "    super(CustomSchedule, self).__init__()\n",
    "\n",
    "    self.d_model = d_model\n",
    "    self.d_model = tf.cast(self.d_model, tf.float32)\n",
    "\n",
    "    self.warmup_steps = warmup_steps\n",
    "\n",
    "  def __call__(self, step):\n",
    "    arg1 = tf.math.rsqrt(step)\n",
    "    arg2 = step * (self.warmup_steps**-1.5)\n",
    "\n",
    "    return tf.math.rsqrt(self.d_model) * tf.math.minimum(arg1, arg2)\n",
    "print(\"슝=3\")"
   ]
  },
  {
   "cell_type": "markdown",
   "id": "21aa4189",
   "metadata": {},
   "source": [
    "### 모델 컴파일"
   ]
  },
  {
   "cell_type": "code",
   "execution_count": 47,
   "id": "0a2617cf",
   "metadata": {},
   "outputs": [
    {
     "name": "stdout",
     "output_type": "stream",
     "text": [
      "슝=3\n"
     ]
    }
   ],
   "source": [
    "learning_rate = CustomSchedule(D_MODEL, warmup_steps=5000)\n",
    "\n",
    "optimizer = tf.keras.optimizers.Adam(\n",
    "    learning_rate, beta_1=0.9, beta_2=0.98, epsilon=1e-9)\n",
    "\n",
    "def accuracy(y_true, y_pred):\n",
    "  y_true = tf.reshape(y_true, shape=(-1, MAX_LENGTH - 1))\n",
    "  return tf.keras.metrics.sparse_categorical_accuracy(y_true, y_pred)\n",
    "\n",
    "model.compile(optimizer=optimizer, loss=loss_function, metrics=[accuracy])\n",
    "print(\"슝=3\")"
   ]
  },
  {
   "cell_type": "markdown",
   "id": "d0a426f4",
   "metadata": {},
   "source": [
    "### 훈련하기"
   ]
  },
  {
   "cell_type": "code",
   "execution_count": 48,
   "id": "747a965b",
   "metadata": {},
   "outputs": [
    {
     "name": "stdout",
     "output_type": "stream",
     "text": [
      "Epoch 1/10\n",
      "181/181 [==============================] - 33s 101ms/step - loss: 2.6156 - accuracy: 0.1426\n",
      "Epoch 2/10\n",
      "181/181 [==============================] - 18s 102ms/step - loss: 2.6081 - accuracy: 0.1431\n",
      "Epoch 3/10\n",
      "181/181 [==============================] - 18s 100ms/step - loss: 2.5992 - accuracy: 0.1435\n",
      "Epoch 4/10\n",
      "181/181 [==============================] - 18s 100ms/step - loss: 2.5975 - accuracy: 0.1436\n",
      "Epoch 5/10\n",
      "181/181 [==============================] - 18s 101ms/step - loss: 2.5784 - accuracy: 0.1444\n",
      "Epoch 6/10\n",
      "181/181 [==============================] - 18s 101ms/step - loss: 2.5693 - accuracy: 0.1442\n",
      "Epoch 7/10\n",
      "181/181 [==============================] - 18s 101ms/step - loss: 2.5573 - accuracy: 0.1448\n",
      "Epoch 8/10\n",
      "181/181 [==============================] - 18s 101ms/step - loss: 2.5435 - accuracy: 0.1450\n",
      "Epoch 9/10\n",
      "181/181 [==============================] - 18s 100ms/step - loss: 2.5321 - accuracy: 0.1454\n",
      "Epoch 10/10\n",
      "181/181 [==============================] - 18s 101ms/step - loss: 2.5188 - accuracy: 0.1459\n"
     ]
    },
    {
     "data": {
      "text/plain": [
       "<keras.callbacks.History at 0x7ce64f2dbd90>"
      ]
     },
     "execution_count": 48,
     "metadata": {},
     "output_type": "execute_result"
    }
   ],
   "source": [
    "EPOCHS = 10\n",
    "model.fit(dataset, epochs=EPOCHS, verbose=1)"
   ]
  },
  {
   "cell_type": "markdown",
   "id": "1b520573",
   "metadata": {},
   "source": [
    "## 챗봇 테스트"
   ]
  },
  {
   "cell_type": "markdown",
   "id": "14d6928c",
   "metadata": {},
   "source": [
    "### 디코더 인퍼런스 함수 구현"
   ]
  },
  {
   "cell_type": "code",
   "execution_count": 49,
   "id": "8b4d4c0f",
   "metadata": {},
   "outputs": [
    {
     "name": "stdout",
     "output_type": "stream",
     "text": [
      "슝=3\n"
     ]
    }
   ],
   "source": [
    "def decoder_inference(sentence):\n",
    "  sentence = preprocess_sentence(sentence)\n",
    "  print(sentence)\n",
    "\n",
    "  # 입력된 문장을 정수 인코딩 후, 시작 토큰과 종료 토큰을 앞뒤로 추가.\n",
    "  sentence = tf.expand_dims(\n",
    "      START_TOKEN + tokenizer.encode(sentence) + END_TOKEN, axis=0)\n",
    "#   print(sentence[0])\n",
    "#   print(tokenizer.decode(sentence[0].numpy()[1:-5]))\n",
    "#   print(len(sentence[0]))\n",
    "\n",
    "  # 입력 길이 확인 (추가)\n",
    "  if len(sentence[0]) > MAX_LENGTH//2:\n",
    "      print(\"[ERROR] 입력 문장이 너무 깁니다. 최대 길이:\", MAX_LENGTH//2)\n",
    "      return tf.constant([])\n",
    "\n",
    "  # 디코더의 현재까지의 예측한 출력 시퀀스가 지속적으로 저장되는 변수.\n",
    "  # 처음에는 예측한 내용이 없음으로 시작 토큰만 별도 저장. ex) 8331\n",
    "  output_sequence = tf.expand_dims(START_TOKEN, 0)\n",
    "\n",
    "  # 디코더의 인퍼런스 단계\n",
    "  # 모델에 인코더 입력인 sentence를 넣지 않음\n",
    "  # GPT-1은 인코더가 없으므로 디코더는 START_TOKEN부터 아무 말이나 예측\n",
    "  # 모델에 질문(인코더 인풋)을 넣을 수 없음 -> 질문과 상관있는 답을 내놓을 수 없음\n",
    "  for i in range(MAX_LENGTH//2):\n",
    "    # 디코더는 최대 MAX_LENGTH의 길이만큼 다음 단어 예측을 반복합니다.\n",
    "    model_input = tf.concat([sentence, output_sequence], axis=-1)\n",
    "    predictions = model(inputs=model_input, training=False)\n",
    "    predictions = predictions[:, -1:, :]\n",
    "\n",
    "    # 현재 예측한 단어의 정수\n",
    "    predicted_id = tf.cast(tf.argmax(predictions, axis=-1), tf.int32)\n",
    "\n",
    "    # 만약 현재 예측한 단어가 종료 토큰이라면 for문을 종료\n",
    "    if tf.equal(predicted_id, END_TOKEN[0]):\n",
    "#       print(MAX_LENGTH//2, i)\n",
    "      break\n",
    "\n",
    "    # 예측한 단어들은 지속적으로 output_sequence에 추가됩니다.\n",
    "    # 이 output_sequence는 다시 디코더의 입력이 됩니다.\n",
    "    output_sequence = tf.concat([output_sequence, predicted_id], axis=-1)\n",
    "\n",
    "  return tf.squeeze(output_sequence, axis=0)\n",
    "print(\"슝=3\")"
   ]
  },
  {
   "cell_type": "markdown",
   "id": "af8ae788",
   "metadata": {},
   "source": [
    "### 입력 문장에 대한 대답 얻는 함수 구현"
   ]
  },
  {
   "cell_type": "code",
   "execution_count": 50,
   "id": "30097641",
   "metadata": {},
   "outputs": [
    {
     "name": "stdout",
     "output_type": "stream",
     "text": [
      "슝=3\n"
     ]
    }
   ],
   "source": [
    "def sentence_generation(sentence):\n",
    "  # 입력 문장에 대해서 디코더를 동작 시켜 예측된 정수 시퀀스를 리턴받습니다.\n",
    "  prediction = decoder_inference(sentence)\n",
    "\n",
    "  # 정수 시퀀스를 다시 텍스트 시퀀스로 변환합니다.\n",
    "  predicted_sentence = tokenizer.decode(\n",
    "      [i for i in prediction if i < tokenizer.vocab_size])\n",
    "\n",
    "  print('입력 : {}'.format(sentence))\n",
    "  print('출력 : {}'.format(predicted_sentence))\n",
    "\n",
    "  return predicted_sentence\n",
    "print(\"슝=3\")"
   ]
  },
  {
   "cell_type": "markdown",
   "id": "98c751ba",
   "metadata": {},
   "source": [
    "### 테스트 진행"
   ]
  },
  {
   "cell_type": "code",
   "execution_count": 51,
   "id": "731787b0",
   "metadata": {},
   "outputs": [
    {
     "name": "stdout",
     "output_type": "stream",
     "text": [
      "요즘 너무 힘들다 진짜 ㅠㅠ\n",
      "입력 : 요즘 너무 힘들다 진짜ㅠㅠ\n",
      "출력 : 좋은 더 더 더 더 더 더 더 더 더 더 더 더 더 더 \n"
     ]
    },
    {
     "data": {
      "text/plain": [
       "'좋은 더 더 더 더 더 더 더 더 더 더 더 더 더 더 '"
      ]
     },
     "execution_count": 51,
     "metadata": {},
     "output_type": "execute_result"
    }
   ],
   "source": [
    "sentence_generation('요즘 너무 힘들다 진짜ㅠㅠ')"
   ]
  },
  {
   "cell_type": "code",
   "execution_count": 52,
   "id": "1c309a7a",
   "metadata": {},
   "outputs": [
    {
     "name": "stdout",
     "output_type": "stream",
     "text": [
      "요즘 경제는 어떤거 같아 ?\n",
      "입력 : 요즘 경제는 어떤거 같아?\n",
      "출력 : 좋은 물어보는 게 좋을 거예요 .\n"
     ]
    },
    {
     "data": {
      "text/plain": [
       "'좋은 물어보는 게 좋을 거예요 .'"
      ]
     },
     "execution_count": 52,
     "metadata": {},
     "output_type": "execute_result"
    }
   ],
   "source": [
    "sentence_generation('요즘 경제는 어떤거 같아?')"
   ]
  },
  {
   "cell_type": "code",
   "execution_count": 53,
   "id": "4d68f8aa",
   "metadata": {
    "scrolled": true
   },
   "outputs": [
    {
     "name": "stdout",
     "output_type": "stream",
     "text": [
      "오늘 운이 너무 좋은데 ?\n",
      "입력 : 오늘 운이 너무 좋은데?\n",
      "출력 : 좋은 물어보는 건 더 더 더 더 더 더 더 더 더 더 더 더 \n"
     ]
    },
    {
     "data": {
      "text/plain": [
       "'좋은 물어보는 건 더 더 더 더 더 더 더 더 더 더 더 더 '"
      ]
     },
     "execution_count": 53,
     "metadata": {},
     "output_type": "execute_result"
    }
   ],
   "source": [
    "sentence_generation('오늘 운이 너무 좋은데?')"
   ]
  },
  {
   "cell_type": "markdown",
   "id": "e6cdfb3e",
   "metadata": {},
   "source": [
    "## 회고\n",
    "- GPT-1의 구조와 Transformer의 구조를 비교해볼 수 있는 시간이었다.\n",
    "- 디코더의 레이어를 깊게 쌓다보니 학습에 시간이 이전보다는 더 오래 걸렸지만, 구조 특성상 인코더의 입력을 받지 못해 테스트 결과는 만족스럽지 못한 점이 아쉬웠다.\n",
    "- 결과 확인 후 질문이 입력으로 들어가지 못하는 게 조악한 결과의 이유라고 판단, 입력에 질문이 들어갈 수 있도록 수정\n",
    "- 질문마다 다른 대답이 나오는 것은 확인했지만 말이 되는 답은 나오지 않았다."
   ]
  }
 ],
 "metadata": {
  "kernelspec": {
   "display_name": "Python 3 (ipykernel)",
   "language": "python",
   "name": "python3"
  },
  "language_info": {
   "codemirror_mode": {
    "name": "ipython",
    "version": 3
   },
   "file_extension": ".py",
   "mimetype": "text/x-python",
   "name": "python",
   "nbconvert_exporter": "python",
   "pygments_lexer": "ipython3",
   "version": "3.9.7"
  }
 },
 "nbformat": 4,
 "nbformat_minor": 5
}
