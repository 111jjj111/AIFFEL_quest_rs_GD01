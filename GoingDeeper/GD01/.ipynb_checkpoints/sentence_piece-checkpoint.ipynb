{
 "cells": [
  {
   "cell_type": "markdown",
   "id": "82db38bb",
   "metadata": {},
   "source": [
    "# 멋진 단어사전 만들기"
   ]
  },
  {
   "cell_type": "markdown",
   "id": "bcea6598",
   "metadata": {},
   "source": [
    "## 필요한 라이브러리"
   ]
  },
  {
   "cell_type": "code",
   "execution_count": 1,
   "id": "c7826a0f",
   "metadata": {
    "scrolled": true
   },
   "outputs": [],
   "source": [
    "import os\n",
    "import tensorflow as tf\n",
    "import numpy as np\n",
    "import matplotlib.pyplot as plt\n",
    "import konlpy\n",
    "\n",
    "%matplotlib inline"
   ]
  },
  {
   "cell_type": "markdown",
   "id": "dae1c26e",
   "metadata": {},
   "source": [
    "## 데이터 다운로드 및 분석"
   ]
  },
  {
   "cell_type": "code",
   "execution_count": 2,
   "id": "ac943d5b",
   "metadata": {
    "scrolled": true
   },
   "outputs": [
    {
     "data": {
      "text/html": [
       "<div>\n",
       "<style scoped>\n",
       "    .dataframe tbody tr th:only-of-type {\n",
       "        vertical-align: middle;\n",
       "    }\n",
       "\n",
       "    .dataframe tbody tr th {\n",
       "        vertical-align: top;\n",
       "    }\n",
       "\n",
       "    .dataframe thead th {\n",
       "        text-align: right;\n",
       "    }\n",
       "</style>\n",
       "<table border=\"1\" class=\"dataframe\">\n",
       "  <thead>\n",
       "    <tr style=\"text-align: right;\">\n",
       "      <th></th>\n",
       "      <th>id</th>\n",
       "      <th>document</th>\n",
       "      <th>label</th>\n",
       "    </tr>\n",
       "  </thead>\n",
       "  <tbody>\n",
       "    <tr>\n",
       "      <th>0</th>\n",
       "      <td>9976970</td>\n",
       "      <td>아 더빙.. 진짜 짜증나네요 목소리</td>\n",
       "      <td>0</td>\n",
       "    </tr>\n",
       "    <tr>\n",
       "      <th>1</th>\n",
       "      <td>3819312</td>\n",
       "      <td>흠...포스터보고 초딩영화줄....오버연기조차 가볍지 않구나</td>\n",
       "      <td>1</td>\n",
       "    </tr>\n",
       "    <tr>\n",
       "      <th>2</th>\n",
       "      <td>10265843</td>\n",
       "      <td>너무재밓었다그래서보는것을추천한다</td>\n",
       "      <td>0</td>\n",
       "    </tr>\n",
       "    <tr>\n",
       "      <th>3</th>\n",
       "      <td>9045019</td>\n",
       "      <td>교도소 이야기구먼 ..솔직히 재미는 없다..평점 조정</td>\n",
       "      <td>0</td>\n",
       "    </tr>\n",
       "    <tr>\n",
       "      <th>4</th>\n",
       "      <td>6483659</td>\n",
       "      <td>사이몬페그의 익살스런 연기가 돋보였던 영화!스파이더맨에서 늙어보이기만 했던 커스틴 ...</td>\n",
       "      <td>1</td>\n",
       "    </tr>\n",
       "  </tbody>\n",
       "</table>\n",
       "</div>"
      ],
      "text/plain": [
       "         id                                           document  label\n",
       "0   9976970                                아 더빙.. 진짜 짜증나네요 목소리      0\n",
       "1   3819312                  흠...포스터보고 초딩영화줄....오버연기조차 가볍지 않구나      1\n",
       "2  10265843                                  너무재밓었다그래서보는것을추천한다      0\n",
       "3   9045019                      교도소 이야기구먼 ..솔직히 재미는 없다..평점 조정      0\n",
       "4   6483659  사이몬페그의 익살스런 연기가 돋보였던 영화!스파이더맨에서 늙어보이기만 했던 커스틴 ...      1"
      ]
     },
     "execution_count": 2,
     "metadata": {},
     "output_type": "execute_result"
    }
   ],
   "source": [
    "import pandas as pd\n",
    "\n",
    "# 데이터를 읽어봅시다. \n",
    "train_data = pd.read_table('~/aiffel/sentiment_classification/data/ratings_train.txt')\n",
    "test_data = pd.read_table('~/aiffel/sentiment_classification/data/ratings_test.txt')\n",
    "\n",
    "train_data.head()"
   ]
  },
  {
   "cell_type": "code",
   "execution_count": 3,
   "id": "36dab9ec",
   "metadata": {},
   "outputs": [],
   "source": [
    "# NaN 제거\n",
    "train_data = train_data.dropna(subset=['document']).reset_index(drop=True)\n",
    "test_data = test_data.dropna(subset=['document']).reset_index(drop=True)"
   ]
  },
  {
   "cell_type": "code",
   "execution_count": 4,
   "id": "0cf709a6",
   "metadata": {},
   "outputs": [
    {
     "name": "stdout",
     "output_type": "stream",
     "text": [
      "중복 제거 후 데이터 개수: 146182\n"
     ]
    }
   ],
   "source": [
    "train_data = train_data.drop_duplicates(subset='document').reset_index(drop=True)\n",
    "print(f\"중복 제거 후 데이터 개수: {len(train_data)}\")"
   ]
  },
  {
   "cell_type": "code",
   "execution_count": 5,
   "id": "4500481e",
   "metadata": {},
   "outputs": [],
   "source": [
    "# 데이터 전처리 함수\n",
    "import re\n",
    "from tqdm import tqdm\n",
    "tqdm.pandas()  # tqdm 적용\n",
    "\n",
    "def preprocess_sentence(sentence):\n",
    "    sentence = sentence.strip().lower()\n",
    "\n",
    "    # 여러 공백 정리\n",
    "    sentence = re.sub(r'\\s+', ' ', sentence)\n",
    "\n",
    "    # 특수문자 정리 (한글 자모 포함)\n",
    "    sentence = re.sub(r\"[^가-힣ㄱ-ㅎㅏ-ㅣa-zA-Z0-9?.!,♡♥^;]+\", \" \", sentence)\n",
    "\n",
    "    # 허용된 자모(ㅋ, ㅜ, ㅠ, ㄷ, ㅡ, ㅎ, ㅉ) 외 자모 제거\n",
    "    sentence = re.sub(r'[ㄱ-ㅎㅏ-ㅣ]', lambda m: m.group() if m.group() in ['ㅋ', 'ㅜ', 'ㅠ', 'ㄷ', 'ㅡ', 'ㅎ', 'ㅉ'] else '', sentence)\n",
    "\n",
    "    # 연속된 구두점 2개 이상 → 2개로 축소\n",
    "    sentence = re.sub(r'([?.!,])\\1{2,}', r'\\1\\1', sentence)\n",
    "\n",
    "    # 연속 자음/모음 축소 (허용된 것들만)\n",
    "    sentence = re.sub(r'(ㅋ)\\1{1,}', r'\\1\\1', sentence)\n",
    "    sentence = re.sub(r'(ㅎ)\\1{1,}', r'\\1\\1', sentence)\n",
    "    for ch in ['ㅜ', 'ㅠ', 'ㄷ', 'ㅡ', 'ㅉ']:\n",
    "        sentence = re.sub(fr'{ch}+', ch * 2, sentence)\n",
    "\n",
    "    # ♡ → ♥\n",
    "    sentence = sentence.replace('♡', '♥')\n",
    "\n",
    "    # ♥ 연속 → 하나만\n",
    "    sentence = re.sub(r'(♥)\\1+', r'\\1', sentence)\n",
    "\n",
    "    # ^^는 2개만 유지\n",
    "    sentence = re.sub(r'\\^{3,}', '^^', sentence)\n",
    "    sentence = re.sub(r'\\^{1,2}', lambda m: '^^' if len(m.group()) == 2 else '', sentence)\n",
    "\n",
    "    # ㅅㅂ, ㅈㄴ → OO\n",
    "    sentence = re.sub(r'(ㅅㅂ|ㅈㄴ)', 'OO', sentence)\n",
    "\n",
    "    # O 연속 → 2개만\n",
    "    sentence = re.sub(r'(O)\\1{2,}', r'\\1\\1', sentence)\n",
    "\n",
    "    # ; 연속 → 하나만\n",
    "    sentence = re.sub(r';{2,}', ';', sentence)\n",
    "\n",
    "    return sentence.strip()\n"
   ]
  },
  {
   "cell_type": "code",
   "execution_count": 6,
   "id": "93357f00",
   "metadata": {},
   "outputs": [
    {
     "name": "stderr",
     "output_type": "stream",
     "text": [
      "100%|██████████| 146182/146182 [00:04<00:00, 31816.86it/s]\n",
      "100%|██████████| 49997/49997 [00:01<00:00, 32096.95it/s]\n"
     ]
    }
   ],
   "source": [
    "# 전처리 적용\n",
    "train_data['document'] = train_data['document'].progress_apply(preprocess_sentence)\n",
    "test_data['document'] = test_data['document'].progress_apply(preprocess_sentence)"
   ]
  },
  {
   "cell_type": "code",
   "execution_count": 7,
   "id": "d5960e01",
   "metadata": {
    "scrolled": false
   },
   "outputs": [
    {
     "name": "stdout",
     "output_type": "stream",
     "text": [
      "count    146182.000000\n",
      "mean         35.242752\n",
      "std          29.313030\n",
      "min           0.000000\n",
      "25%          16.000000\n",
      "50%          27.000000\n",
      "75%          42.000000\n",
      "max         144.000000\n",
      "Name: doc_length, dtype: float64\n"
     ]
    },
    {
     "data": {
      "image/png": "[encoded data removed]",
      "text/plain": [
       "<Figure size 432x288 with 1 Axes>"
      ]
     },
     "metadata": {
      "needs_background": "light"
     },
     "output_type": "display_data"
    }
   ],
   "source": [
    "train_data['doc_length'] = train_data['document'].astype(str).apply(len)\n",
    "print(train_data['doc_length'].describe())\n",
    "\n",
    "plt.hist(train_data['doc_length'], bins=100)\n",
    "plt.title('Train Data Sentence Length (char count)')\n",
    "plt.xlabel('Length')\n",
    "plt.ylabel('Frequency')\n",
    "plt.grid(True)\n",
    "plt.show()"
   ]
  },
  {
   "cell_type": "code",
   "execution_count": 8,
   "id": "58ded815",
   "metadata": {},
   "outputs": [
    {
     "name": "stdout",
     "output_type": "stream",
     "text": [
      "전체 문장의 95%가 포함되는 최대 길이: 107\n"
     ]
    }
   ],
   "source": [
    "# 95% 분위수 확인\n",
    "length_95 = train_data['doc_length'].quantile(0.95)\n",
    "print(f\"전체 문장의 95%가 포함되는 최대 길이: {int(length_95)}\")"
   ]
  },
  {
   "cell_type": "code",
   "execution_count": 9,
   "id": "ae8fc7fd",
   "metadata": {},
   "outputs": [
    {
     "name": "stdout",
     "output_type": "stream",
     "text": [
      "100자 초과 문장 수: 8474\n"
     ]
    }
   ],
   "source": [
    "long_count = train_data['document'].astype(str).str.len().gt(100).sum()\n",
    "print(f\"100자 초과 문장 수: {long_count}\")"
   ]
  },
  {
   "cell_type": "code",
   "execution_count": 10,
   "id": "65744032",
   "metadata": {},
   "outputs": [],
   "source": [
    "# 100자 초과 문장 제거\n",
    "train_data = train_data[train_data['document'].str.len() <= 100].reset_index(drop=True)"
   ]
  },
  {
   "cell_type": "code",
   "execution_count": 11,
   "id": "a2a9c0e8",
   "metadata": {
    "scrolled": false
   },
   "outputs": [
    {
     "name": "stdout",
     "output_type": "stream",
     "text": [
      "             id document  label  doc_length\n",
      "141     7348295        아      0           1\n",
      "357     7679615        잼      1           1\n",
      "456     3978509        즐      0           1\n",
      "544     7117896        1      0           1\n",
      "553     6478189        4      0           1\n",
      "...         ...      ...    ...         ...\n",
      "134588  6918101        좀      0           1\n",
      "134621  4602734        2      0           1\n",
      "135699  5458245        핡      1           1\n",
      "136817  7920696        김      0           1\n",
      "136901  6835233        쩜      1           1\n",
      "\n",
      "[132 rows x 4 columns]\n",
      "문장 길이가 1인 데이터 수: 132\n"
     ]
    }
   ],
   "source": [
    "short_sentences = train_data[train_data['document'].astype(str).apply(len) == 1]\n",
    "print(short_sentences)\n",
    "print(f\"문장 길이가 1인 데이터 수: {len(short_sentences)}\")"
   ]
  },
  {
   "cell_type": "code",
   "execution_count": 12,
   "id": "0e5b743b",
   "metadata": {},
   "outputs": [
    {
     "name": "stdout",
     "output_type": "stream",
     "text": [
      "삭제된 숫자 문장 수: 5\n"
     ]
    }
   ],
   "source": [
    "# 문장 길이 1인 데이터 중 숫자인 것만 필터링\n",
    "numeric_idx = train_data[\n",
    "    (train_data['document'].astype(str).str.len() == 1) & \n",
    "    (train_data['document'].astype(str).str.isdigit())\n",
    "].index\n",
    "\n",
    "# 해당 행 삭제\n",
    "train_data = train_data.drop(index=numeric_idx).reset_index(drop=True)\n",
    "print(f\"삭제된 숫자 문장 수: {len(numeric_idx)}\")"
   ]
  },
  {
   "cell_type": "code",
   "execution_count": 13,
   "id": "5f5ffc27",
   "metadata": {},
   "outputs": [],
   "source": [
    "# 리스트로 추출\n",
    "filtered_corpus = train_data['document'].tolist()"
   ]
  },
  {
   "cell_type": "markdown",
   "id": "4f865090",
   "metadata": {},
   "source": [
    "## Sentence Piece 모델 학습"
   ]
  },
  {
   "cell_type": "code",
   "execution_count": 41,
   "id": "0e631eb3",
   "metadata": {},
   "outputs": [],
   "source": [
    "from tensorflow.keras.preprocessing.sequence import pad_sequences\n",
    "\n",
    "def tokenize_spm(corpus, sp, padding='post', max_len=None):\n",
    "    \"\"\"\n",
    "    SentencePiece 기반 정수 인코딩 및 패딩 처리 함수.\n",
    "\n",
    "    Args:\n",
    "        corpus (List[str]): 원문 문장 리스트 (전처리된)\n",
    "        sp (SentencePieceProcessor): 학습된 SPM 모델 객체\n",
    "        max_len (int, optional): 최대 시퀀스 길이 (None이면 가장 긴 문장 기준)\n",
    "\n",
    "    Returns:\n",
    "        tensor (np.array): 패딩된 정수 시퀀스\n",
    "    \"\"\"\n",
    "    # 정수 인코딩\n",
    "    tensor = [sp.encode_as_ids(sent) for sent in corpus]\n",
    "\n",
    "    # max_len 지정 안 하면 자동 계산\n",
    "    if max_len is None:\n",
    "        max_len = max(len(t) for t in tensor)\n",
    "\n",
    "    # 패딩 처리 (post-padding)\n",
    "    tensor = pad_sequences(tensor, maxlen=max_len, padding=padding)\n",
    "\n",
    "    return tensor"
   ]
  },
  {
   "cell_type": "code",
   "execution_count": 15,
   "id": "952feec3",
   "metadata": {},
   "outputs": [],
   "source": [
    "# 임시 텍스트 파일 경로\n",
    "temp_file = os.path.expanduser('~/aiffel/sp_tokenizer/data/spm_input.txt')\n",
    "\n",
    "# 저장\n",
    "with open(temp_file, 'w') as f:\n",
    "    for line in filtered_corpus:\n",
    "        f.write(line + '\\n')"
   ]
  },
  {
   "cell_type": "code",
   "execution_count": 16,
   "id": "5f9b3f0a",
   "metadata": {},
   "outputs": [
    {
     "name": "stderr",
     "output_type": "stream",
     "text": [
      "sentencepiece_trainer.cc(77) LOG(INFO) Starts training with : \n",
      "trainer_spec {\n",
      "  input: /aiffel/aiffel/sp_tokenizer/data/spm_input.txt\n",
      "  input_format: \n",
      "  model_prefix: /aiffel/aiffel/sp_tokenizer/model/korean_spm\n",
      "  model_type: UNIGRAM\n",
      "  vocab_size: 8000\n",
      "  self_test_sample_size: 0\n",
      "  character_coverage: 1\n",
      "  input_sentence_size: 0\n",
      "  shuffle_input_sentence: 1\n",
      "  seed_sentencepiece_size: 1000000\n",
      "  shrinking_factor: 0.75\n",
      "  max_sentence_length: 4192\n",
      "  num_threads: 16\n",
      "  num_sub_iterations: 2\n",
      "  max_sentencepiece_length: 16\n",
      "  split_by_unicode_script: 1\n",
      "  split_by_number: 1\n",
      "  split_by_whitespace: 1\n",
      "  split_digits: 0\n",
      "  treat_whitespace_as_suffix: 0\n",
      "  allow_whitespace_only_pieces: 0\n",
      "  required_chars: \n",
      "  byte_fallback: 0\n",
      "  vocabulary_output_piece_score: 1\n",
      "  train_extremely_large_corpus: 0\n",
      "  hard_vocab_limit: 1\n",
      "  use_all_vocab: 0\n",
      "  unk_id: 1\n",
      "  bos_id: 2\n",
      "  eos_id: 3\n",
      "  pad_id: 0\n",
      "  unk_piece: <unk>\n",
      "  bos_piece: <s>\n",
      "  eos_piece: </s>\n",
      "  pad_piece: <pad>\n",
      "  unk_surface:  ⁇ \n",
      "}\n",
      "normalizer_spec {\n",
      "  name: nmt_nfkc\n",
      "  add_dummy_prefix: 1\n",
      "  remove_extra_whitespaces: 1\n",
      "  escape_whitespaces: 1\n",
      "  normalization_rule_tsv: \n",
      "}\n",
      "denormalizer_spec {}\n",
      "trainer_interface.cc(329) LOG(INFO) SentenceIterator is not specified. Using MultiFileSentenceIterator.\n",
      "trainer_interface.cc(178) LOG(INFO) Loading corpus: /aiffel/aiffel/sp_tokenizer/data/spm_input.txt\n",
      "trainer_interface.cc(385) LOG(INFO) Loaded all 137627 sentences\n",
      "trainer_interface.cc(400) LOG(INFO) Adding meta_piece: <pad>\n",
      "trainer_interface.cc(400) LOG(INFO) Adding meta_piece: <unk>\n",
      "trainer_interface.cc(400) LOG(INFO) Adding meta_piece: <s>\n",
      "trainer_interface.cc(400) LOG(INFO) Adding meta_piece: </s>\n",
      "trainer_interface.cc(405) LOG(INFO) Normalizing sentences...\n",
      "trainer_interface.cc(466) LOG(INFO) all chars count=4234282\n",
      "trainer_interface.cc(487) LOG(INFO) Alphabet size=2471\n",
      "trainer_interface.cc(488) LOG(INFO) Final character coverage=1\n",
      "trainer_interface.cc(520) LOG(INFO) Done! preprocessed 137627 sentences.\n",
      "unigram_model_trainer.cc(139) LOG(INFO) Making suffix array...\n",
      "unigram_model_trainer.cc(143) LOG(INFO) Extracting frequent sub strings...\n",
      "unigram_model_trainer.cc(194) LOG(INFO) Initialized 251657 seed sentencepieces\n",
      "trainer_interface.cc(526) LOG(INFO) Tokenizing input sentences with whitespace: 137627\n",
      "trainer_interface.cc(537) LOG(INFO) Done! 281364\n",
      "unigram_model_trainer.cc(489) LOG(INFO) Using 281364 sentences for EM training\n",
      "unigram_model_trainer.cc(505) LOG(INFO) EM sub_iter=0 size=129469 obj=14.9002 num_tokens=646764 num_tokens/piece=4.99551\n",
      "unigram_model_trainer.cc(505) LOG(INFO) EM sub_iter=1 size=119825 obj=13.8437 num_tokens=651387 num_tokens/piece=5.43615\n",
      "unigram_model_trainer.cc(505) LOG(INFO) EM sub_iter=0 size=89825 obj=13.958 num_tokens=679935 num_tokens/piece=7.56955\n",
      "unigram_model_trainer.cc(505) LOG(INFO) EM sub_iter=1 size=89680 obj=13.9004 num_tokens=680350 num_tokens/piece=7.58642\n",
      "unigram_model_trainer.cc(505) LOG(INFO) EM sub_iter=0 size=67253 obj=14.1533 num_tokens=716928 num_tokens/piece=10.6602\n",
      "unigram_model_trainer.cc(505) LOG(INFO) EM sub_iter=1 size=67246 obj=14.0894 num_tokens=717109 num_tokens/piece=10.664\n",
      "unigram_model_trainer.cc(505) LOG(INFO) EM sub_iter=0 size=50434 obj=14.3636 num_tokens=752365 num_tokens/piece=14.9178\n",
      "unigram_model_trainer.cc(505) LOG(INFO) EM sub_iter=1 size=50434 obj=14.2999 num_tokens=752395 num_tokens/piece=14.9184\n",
      "unigram_model_trainer.cc(505) LOG(INFO) EM sub_iter=0 size=37825 obj=14.612 num_tokens=790162 num_tokens/piece=20.8899\n",
      "unigram_model_trainer.cc(505) LOG(INFO) EM sub_iter=1 size=37825 obj=14.5461 num_tokens=790150 num_tokens/piece=20.8896\n",
      "unigram_model_trainer.cc(505) LOG(INFO) EM sub_iter=0 size=28368 obj=14.8884 num_tokens=828963 num_tokens/piece=29.2218\n",
      "unigram_model_trainer.cc(505) LOG(INFO) EM sub_iter=1 size=28368 obj=14.8186 num_tokens=828975 num_tokens/piece=29.2222\n",
      "unigram_model_trainer.cc(505) LOG(INFO) EM sub_iter=0 size=21276 obj=15.199 num_tokens=869226 num_tokens/piece=40.8548\n",
      "unigram_model_trainer.cc(505) LOG(INFO) EM sub_iter=1 size=21276 obj=15.1232 num_tokens=869275 num_tokens/piece=40.8571\n",
      "unigram_model_trainer.cc(505) LOG(INFO) EM sub_iter=0 size=15957 obj=15.5408 num_tokens=911810 num_tokens/piece=57.1417\n",
      "unigram_model_trainer.cc(505) LOG(INFO) EM sub_iter=1 size=15957 obj=15.4547 num_tokens=911815 num_tokens/piece=57.142\n",
      "unigram_model_trainer.cc(505) LOG(INFO) EM sub_iter=0 size=11967 obj=15.9292 num_tokens=957171 num_tokens/piece=79.9842\n",
      "unigram_model_trainer.cc(505) LOG(INFO) EM sub_iter=1 size=11967 obj=15.8297 num_tokens=957354 num_tokens/piece=79.9995\n",
      "unigram_model_trainer.cc(505) LOG(INFO) EM sub_iter=0 size=8975 obj=16.38 num_tokens=1008050 num_tokens/piece=112.318\n",
      "unigram_model_trainer.cc(505) LOG(INFO) EM sub_iter=1 size=8975 obj=16.2641 num_tokens=1008331 num_tokens/piece=112.349\n",
      "unigram_model_trainer.cc(505) LOG(INFO) EM sub_iter=0 size=8800 obj=16.3037 num_tokens=1012282 num_tokens/piece=115.032\n",
      "unigram_model_trainer.cc(505) LOG(INFO) EM sub_iter=1 size=8800 obj=16.2942 num_tokens=1012382 num_tokens/piece=115.043\n",
      "trainer_interface.cc(615) LOG(INFO) Saving model: /aiffel/aiffel/sp_tokenizer/model/korean_spm.model\n",
      "trainer_interface.cc(626) LOG(INFO) Saving vocabs: /aiffel/aiffel/sp_tokenizer/model/korean_spm.vocab\n"
     ]
    }
   ],
   "source": [
    "import sentencepiece as spm\n",
    "\n",
    "vocab_size = 8000 # 늘려가며 실험\n",
    "model_prefix = 'korean_spm'\n",
    "model_dir = os.path.expanduser('~/aiffel/sp_tokenizer/model')\n",
    "\n",
    "os.makedirs(model_dir, exist_ok=True)\n",
    "\n",
    "spm.SentencePieceTrainer.Train(\n",
    "    input=temp_file,\n",
    "    model_prefix=os.path.join(model_dir, model_prefix),\n",
    "    vocab_size=vocab_size,\n",
    "    model_type='unigram',  # 또는 'bpe'\n",
    "    character_coverage=1.0,  # 유니코드 문자 수가 많은 한국어는 1.0이 적합\n",
    "    pad_id=0, unk_id=1, bos_id=2, eos_id=3  # 기본값\n",
    ")\n"
   ]
  },
  {
   "cell_type": "code",
   "execution_count": 17,
   "id": "99c3c1a4",
   "metadata": {},
   "outputs": [],
   "source": [
    "sp = spm.SentencePieceProcessor()\n",
    "sp.load(os.path.join(model_dir, model_prefix + '.model'))\n",
    "\n",
    "# 정수 시퀀스 생성 및 패딩\n",
    "tensor = tokenize_spm(filtered_corpus, sp)  # 위에서 만든 함수 사용"
   ]
  },
  {
   "cell_type": "code",
   "execution_count": 18,
   "id": "ef7d0192",
   "metadata": {
    "scrolled": true
   },
   "outputs": [
    {
     "name": "stdout",
     "output_type": "stream",
     "text": [
      "[문장 0]\n",
      "원문:        아 더빙.. 진짜 짜증나네요 목소리\n",
      "subwords:    ['▁아', '▁더빙', '..', '▁진짜', '▁짜증나', '네요', '▁목소리']\n",
      "ids:         [57, 872, 6, 32, 1914, 63, 1819]\n",
      "padded_ids:  [57, 872, 6, 32, 1914, 63, 1819, 0, 0, 0, 0, 0, 0, 0, 0, 0, 0, 0, 0, 0, 0, 0, 0, 0, 0, 0, 0, 0, 0, 0, 0, 0, 0, 0, 0, 0, 0, 0, 0, 0, 0, 0, 0, 0, 0, 0, 0, 0, 0, 0, 0, 0, 0, 0, 0, 0, 0, 0, 0, 0, 0, 0, 0, 0, 0, 0, 0, 0, 0, 0, 0, 0, 0, 0, 0, 0]\n",
      "------------------------------------------------------------\n",
      "[문장 1]\n",
      "원문:        흠..포스터보고 초딩영화줄..오버연기조차 가볍지 않구나\n",
      "subwords:    ['▁흠', '..', '포스터', '보고', '▁초딩', '영화', '줄', '..', '오', '버', '연기', '조차', '▁가볍지', '▁않', '구나']\n",
      "ids:         [1539, 6, 4647, 160, 1311, 33, 249, 6, 167, 488, 380, 1454, 6161, 742, 360]\n",
      "padded_ids:  [1539, 6, 4647, 160, 1311, 33, 249, 6, 167, 488, 380, 1454, 6161, 742, 360, 0, 0, 0, 0, 0, 0, 0, 0, 0, 0, 0, 0, 0, 0, 0, 0, 0, 0, 0, 0, 0, 0, 0, 0, 0, 0, 0, 0, 0, 0, 0, 0, 0, 0, 0, 0, 0, 0, 0, 0, 0, 0, 0, 0, 0, 0, 0, 0, 0, 0, 0, 0, 0, 0, 0, 0, 0, 0, 0, 0, 0]\n",
      "------------------------------------------------------------\n",
      "[문장 2]\n",
      "원문:        너무재밓었다그래서보는것을추천한다\n",
      "subwords:    ['▁너무', '재', '밓', '었다', '그래서', '보는', '것을', '추천', '한다']\n",
      "ids:         [22, 395, 6855, 318, 4113, 557, 1993, 1808, 326]\n",
      "padded_ids:  [22, 395, 6855, 318, 4113, 557, 1993, 1808, 326, 0, 0, 0, 0, 0, 0, 0, 0, 0, 0, 0, 0, 0, 0, 0, 0, 0, 0, 0, 0, 0, 0, 0, 0, 0, 0, 0, 0, 0, 0, 0, 0, 0, 0, 0, 0, 0, 0, 0, 0, 0, 0, 0, 0, 0, 0, 0, 0, 0, 0, 0, 0, 0, 0, 0, 0, 0, 0, 0, 0, 0, 0, 0, 0, 0, 0, 0]\n",
      "------------------------------------------------------------\n",
      "[문장 3]\n",
      "원문:        교도소 이야기구먼 ..솔직히 재미는 없다..평점 조정\n",
      "subwords:    ['▁교', '도', '소', '▁이야기', '구먼', '▁', '..', '솔직히', '▁재미는', '▁없다', '..', '평점', '▁조', '정']\n",
      "ids:         [1935, 11, 209, 226, 5914, 4, 6, 4818, 1151, 115, 6, 736, 276, 135]\n",
      "padded_ids:  [1935, 11, 209, 226, 5914, 4, 6, 4818, 1151, 115, 6, 736, 276, 135, 0, 0, 0, 0, 0, 0, 0, 0, 0, 0, 0, 0, 0, 0, 0, 0, 0, 0, 0, 0, 0, 0, 0, 0, 0, 0, 0, 0, 0, 0, 0, 0, 0, 0, 0, 0, 0, 0, 0, 0, 0, 0, 0, 0, 0, 0, 0, 0, 0, 0, 0, 0, 0, 0, 0, 0, 0, 0, 0, 0, 0, 0]\n",
      "------------------------------------------------------------\n",
      "[문장 4]\n",
      "원문:        사이몬페그의 익살스런 연기가 돋보였던 영화!스파이더맨에서 늙어보이기만 했던 커스틴 던스트가 너무나도 이뻐보였다\n",
      "subwords:    ['▁사이', '몬', '페', '그', '의', '▁', '익', '살', '스런', '▁연기가', '▁돋보', '였던', '▁영화', '!', '스파이더맨', '에서', '▁늙어', '보이', '기만', '▁했던', '▁커', '스', '틴', '▁', '던', '스트', '가', '▁너무나도', '▁이', '뻐', '보', '였다']\n",
      "ids:         [2344, 2819, 2319, 174, 9, 4, 1274, 355, 2205, 478, 2264, 1758, 8, 23, 5545, 51, 6201, 2621, 1288, 2926, 1996, 65, 1844, 4, 134, 745, 10, 2273, 27, 2300, 99, 643]\n",
      "padded_ids:  [2344, 2819, 2319, 174, 9, 4, 1274, 355, 2205, 478, 2264, 1758, 8, 23, 5545, 51, 6201, 2621, 1288, 2926, 1996, 65, 1844, 4, 134, 745, 10, 2273, 27, 2300, 99, 643, 0, 0, 0, 0, 0, 0, 0, 0, 0, 0, 0, 0, 0, 0, 0, 0, 0, 0, 0, 0, 0, 0, 0, 0, 0, 0, 0, 0, 0, 0, 0, 0, 0, 0, 0, 0, 0, 0, 0, 0, 0, 0, 0, 0]\n",
      "------------------------------------------------------------\n"
     ]
    }
   ],
   "source": [
    "# 원문 5개만 확인\n",
    "for i in range(5):\n",
    "    original = filtered_corpus[i]\n",
    "    subwords = sp.encode_as_pieces(original)\n",
    "    ids = sp.encode_as_ids(original)\n",
    "    \n",
    "    print(f\"[문장 {i}]\")\n",
    "    print(\"원문:       \", original)\n",
    "    print(\"subwords:   \", subwords)\n",
    "    print(\"ids:        \", ids)\n",
    "    print(\"padded_ids: \", tensor[i].tolist())\n",
    "    print(\"-\" * 60)"
   ]
  },
  {
   "cell_type": "code",
   "execution_count": 19,
   "id": "1ddb6d51",
   "metadata": {},
   "outputs": [],
   "source": [
    "# 감정 레이블 가져오기\n",
    "train_labels = train_data[\"label\"].astype(int)"
   ]
  },
  {
   "cell_type": "code",
   "execution_count": 20,
   "id": "cc006658",
   "metadata": {},
   "outputs": [],
   "source": [
    "# test set도 같은 방식 적용\n",
    "test_corpus = test_data['document'].tolist()\n",
    "test_tensor = tokenize_spm(test_corpus, sp)  # 위에서 만든 함수 사용\n",
    "test_labels = test_data[\"label\"].astype(int)"
   ]
  },
  {
   "cell_type": "markdown",
   "id": "30e5bf0d",
   "metadata": {},
   "source": [
    "## RNN 기반 모델 학습"
   ]
  },
  {
   "cell_type": "code",
   "execution_count": 21,
   "id": "33e2f62a",
   "metadata": {},
   "outputs": [],
   "source": [
    "from tensorflow.keras import layers, models\n",
    "\n",
    "def build_rnn_model(vocab_size, embedding_dim=128, rnn_units=128):\n",
    "    model = models.Sequential([\n",
    "        layers.Embedding(input_dim=vocab_size, output_dim=embedding_dim, mask_zero=True),\n",
    "        layers.LSTM(rnn_units),\n",
    "        layers.Dense(1, activation='sigmoid')  # binary classification (긍정/부정)\n",
    "    ])\n",
    "    return model"
   ]
  },
  {
   "cell_type": "code",
   "execution_count": 22,
   "id": "1f74a42b",
   "metadata": {},
   "outputs": [],
   "source": [
    "# 학습/검증 분리\n",
    "from sklearn.model_selection import train_test_split\n",
    "\n",
    "x_train, x_val, y_train, y_val = train_test_split(tensor, train_labels, test_size=0.2, random_state=42)"
   ]
  },
  {
   "cell_type": "code",
   "execution_count": 31,
   "id": "f87e8a31",
   "metadata": {},
   "outputs": [],
   "source": [
    "from tensorflow.keras.callbacks import EarlyStopping\n",
    "from tensorflow.keras.callbacks import ModelCheckpoint\n",
    "\n",
    "save_dir = './ckpoints'  # 원하는 경로로 지정 가능\n",
    "os.makedirs(save_dir, exist_ok=True)\n",
    "\n",
    "early_stop = EarlyStopping(\n",
    "    monitor='val_accuracy',\n",
    "    patience=2,\n",
    "    restore_best_weights=True,\n",
    "    verbose=1\n",
    ")\n",
    "\n",
    "checkpoint = ModelCheckpoint(\n",
    "    filepath=os.path.join(save_dir, 'vocab8000_uni_post.h5'),\n",
    "    monitor='val_accuracy',\n",
    "    save_best_only=True,\n",
    "    save_weights_only=False,\n",
    "    verbose=1\n",
    ")"
   ]
  },
  {
   "cell_type": "code",
   "execution_count": 35,
   "id": "9cabe4d5",
   "metadata": {},
   "outputs": [],
   "source": [
    "# 모델 구성\n",
    "model = build_rnn_model(vocab_size=sp.get_piece_size())\n",
    "\n",
    "# 컴파일\n",
    "model.compile(loss='binary_crossentropy',\n",
    "              optimizer='adam',\n",
    "              metrics=['accuracy'])"
   ]
  },
  {
   "cell_type": "code",
   "execution_count": 36,
   "id": "4e37a8a2",
   "metadata": {},
   "outputs": [
    {
     "name": "stdout",
     "output_type": "stream",
     "text": [
      "Model: \"sequential_3\"\n",
      "_________________________________________________________________\n",
      "Layer (type)                 Output Shape              Param #   \n",
      "=================================================================\n",
      "embedding_3 (Embedding)      (None, None, 128)         1024000   \n",
      "_________________________________________________________________\n",
      "lstm_3 (LSTM)                (None, 128)               131584    \n",
      "_________________________________________________________________\n",
      "dense_3 (Dense)              (None, 1)                 129       \n",
      "=================================================================\n",
      "Total params: 1,155,713\n",
      "Trainable params: 1,155,713\n",
      "Non-trainable params: 0\n",
      "_________________________________________________________________\n"
     ]
    }
   ],
   "source": [
    "model.summary()"
   ]
  },
  {
   "cell_type": "code",
   "execution_count": 37,
   "id": "1f36dc32",
   "metadata": {},
   "outputs": [
    {
     "name": "stdout",
     "output_type": "stream",
     "text": [
      "Epoch 1/10\n",
      "1722/1722 [==============================] - 27s 14ms/step - loss: 0.3859 - accuracy: 0.8262 - val_loss: 0.3426 - val_accuracy: 0.8487\n",
      "\n",
      "Epoch 00001: val_accuracy improved from 0.84768 to 0.84873, saving model to ./ckpoints/vocab8000_uni_post.h5\n",
      "Epoch 2/10\n",
      "1722/1722 [==============================] - 23s 14ms/step - loss: 0.3023 - accuracy: 0.8686 - val_loss: 0.3383 - val_accuracy: 0.8527\n",
      "\n",
      "Epoch 00002: val_accuracy improved from 0.84873 to 0.85273, saving model to ./ckpoints/vocab8000_uni_post.h5\n",
      "Epoch 3/10\n",
      "1722/1722 [==============================] - 23s 13ms/step - loss: 0.2630 - accuracy: 0.8871 - val_loss: 0.3328 - val_accuracy: 0.8558\n",
      "\n",
      "Epoch 00003: val_accuracy improved from 0.85273 to 0.85581, saving model to ./ckpoints/vocab8000_uni_post.h5\n",
      "Epoch 4/10\n",
      "1722/1722 [==============================] - 23s 13ms/step - loss: 0.2267 - accuracy: 0.9036 - val_loss: 0.3520 - val_accuracy: 0.8542\n",
      "\n",
      "Epoch 00004: val_accuracy did not improve from 0.85581\n",
      "Epoch 5/10\n",
      "1722/1722 [==============================] - 23s 13ms/step - loss: 0.1906 - accuracy: 0.9201 - val_loss: 0.3772 - val_accuracy: 0.8494\n",
      "Restoring model weights from the end of the best epoch.\n",
      "\n",
      "Epoch 00005: val_accuracy did not improve from 0.85581\n",
      "Epoch 00005: early stopping\n"
     ]
    }
   ],
   "source": [
    "# 학습\n",
    "history = model.fit(x_train, y_train,\n",
    "          validation_data=(x_val, y_val),\n",
    "          epochs=10,\n",
    "          batch_size=64,\n",
    "          callbacks=[early_stop, checkpoint]\n",
    ")"
   ]
  },
  {
   "cell_type": "code",
   "execution_count": 38,
   "id": "7433de67",
   "metadata": {},
   "outputs": [],
   "source": [
    "import matplotlib.pyplot as plt\n",
    "\n",
    "def plot_history(history):\n",
    "    plt.figure(figsize=(12, 4))\n",
    "\n",
    "    # Accuracy 그래프\n",
    "    plt.subplot(1, 2, 1)\n",
    "    plt.plot(history.history['accuracy'], label='Train Acc')\n",
    "    plt.plot(history.history['val_accuracy'], label='Val Acc')\n",
    "    plt.title('Accuracy')\n",
    "    plt.xlabel('Epoch')\n",
    "    plt.ylabel('Accuracy')\n",
    "    plt.legend()\n",
    "    plt.grid(True)\n",
    "\n",
    "    # Loss 그래프\n",
    "    plt.subplot(1, 2, 2)\n",
    "    plt.plot(history.history['loss'], label='Train Loss')\n",
    "    plt.plot(history.history['val_loss'], label='Val Loss')\n",
    "    plt.title('Loss')\n",
    "    plt.xlabel('Epoch')\n",
    "    plt.ylabel('Loss')\n",
    "    plt.legend()\n",
    "    plt.grid(True)\n",
    "\n",
    "    plt.tight_layout()\n",
    "    plt.show()"
   ]
  },
  {
   "cell_type": "code",
   "execution_count": 39,
   "id": "f4d6548c",
   "metadata": {},
   "outputs": [
    {
     "data": {
      "image/png": "[encoded data removed]",
      "text/plain": [
       "<Figure size 864x288 with 2 Axes>"
      ]
     },
     "metadata": {
      "needs_background": "light"
     },
     "output_type": "display_data"
    }
   ],
   "source": [
    "plot_history(history)"
   ]
  },
  {
   "cell_type": "markdown",
   "id": "53d3ed41",
   "metadata": {},
   "source": [
    "## 예측 및 평가"
   ]
  },
  {
   "cell_type": "code",
   "execution_count": 40,
   "id": "419c3f16",
   "metadata": {},
   "outputs": [
    {
     "name": "stdout",
     "output_type": "stream",
     "text": [
      "1563/1563 [==============================] - 7s 4ms/step - loss: 0.3355 - accuracy: 0.8557\n",
      "Test Accuracy: 0.8557\n"
     ]
    }
   ],
   "source": [
    "loss, acc = model.evaluate(test_tensor, test_labels)\n",
    "print(f\"Test Accuracy: {acc:.4f}\")"
   ]
  },
  {
   "cell_type": "markdown",
   "id": "4cea6fa4",
   "metadata": {},
   "source": [
    "# 추가실험"
   ]
  },
  {
   "cell_type": "markdown",
   "id": "0db5f73c",
   "metadata": {},
   "source": [
    "## 1. padding='pre' 사용"
   ]
  },
  {
   "cell_type": "code",
   "execution_count": 42,
   "id": "bbfd101b",
   "metadata": {},
   "outputs": [],
   "source": [
    "# 정수 시퀀스 생성 및 패딩\n",
    "tensor = tokenize_spm(filtered_corpus, sp, padding='pre')  # 위에서 만든 함수 사용\n",
    "test_tensor = tokenize_spm(test_corpus, sp, padding='pre')  # 위에서 만든 함수 사용"
   ]
  },
  {
   "cell_type": "code",
   "execution_count": 43,
   "id": "ba92f775",
   "metadata": {},
   "outputs": [],
   "source": [
    "# 학습/검증 분리\n",
    "from sklearn.model_selection import train_test_split\n",
    "\n",
    "x_train, x_val, y_train, y_val = train_test_split(tensor, train_labels, test_size=0.2, random_state=42)"
   ]
  },
  {
   "cell_type": "code",
   "execution_count": 44,
   "id": "098520f2",
   "metadata": {},
   "outputs": [],
   "source": [
    "checkpoint = ModelCheckpoint(\n",
    "    filepath=os.path.join(save_dir, 'vocab8k_uni_pre.h5'),\n",
    "    monitor='val_accuracy',\n",
    "    save_best_only=True,\n",
    "    save_weights_only=False,\n",
    "    verbose=1\n",
    ")"
   ]
  },
  {
   "cell_type": "code",
   "execution_count": 45,
   "id": "a8122de6",
   "metadata": {},
   "outputs": [
    {
     "name": "stdout",
     "output_type": "stream",
     "text": [
      "Model: \"sequential_4\"\n",
      "_________________________________________________________________\n",
      "Layer (type)                 Output Shape              Param #   \n",
      "=================================================================\n",
      "embedding_4 (Embedding)      (None, None, 128)         1024000   \n",
      "_________________________________________________________________\n",
      "lstm_4 (LSTM)                (None, 128)               131584    \n",
      "_________________________________________________________________\n",
      "dense_4 (Dense)              (None, 1)                 129       \n",
      "=================================================================\n",
      "Total params: 1,155,713\n",
      "Trainable params: 1,155,713\n",
      "Non-trainable params: 0\n",
      "_________________________________________________________________\n"
     ]
    }
   ],
   "source": [
    "# 모델 구성\n",
    "model = build_rnn_model(vocab_size=sp.get_piece_size())\n",
    "\n",
    "# 컴파일\n",
    "model.compile(loss='binary_crossentropy',\n",
    "              optimizer='adam',\n",
    "              metrics=['accuracy'])\n",
    "\n",
    "model.summary()"
   ]
  },
  {
   "cell_type": "code",
   "execution_count": 46,
   "id": "4708d811",
   "metadata": {},
   "outputs": [
    {
     "name": "stdout",
     "output_type": "stream",
     "text": [
      "Epoch 1/10\n",
      "1722/1722 [==============================] - 303s 174ms/step - loss: 0.3842 - accuracy: 0.8260 - val_loss: 0.3427 - val_accuracy: 0.8492\n",
      "\n",
      "Epoch 00001: val_accuracy improved from -inf to 0.84917, saving model to ./ckpoints/vocab8k_uni_pre.h5\n",
      "Epoch 2/10\n",
      "1722/1722 [==============================] - 297s 173ms/step - loss: 0.3015 - accuracy: 0.8696 - val_loss: 0.3290 - val_accuracy: 0.8570\n",
      "\n",
      "Epoch 00002: val_accuracy improved from 0.84917 to 0.85698, saving model to ./ckpoints/vocab8k_uni_pre.h5\n",
      "Epoch 3/10\n",
      "1722/1722 [==============================] - 296s 172ms/step - loss: 0.2625 - accuracy: 0.8866 - val_loss: 0.3517 - val_accuracy: 0.8564\n",
      "\n",
      "Epoch 00003: val_accuracy did not improve from 0.85698\n",
      "Epoch 4/10\n",
      "1722/1722 [==============================] - 298s 173ms/step - loss: 0.2271 - accuracy: 0.9033 - val_loss: 0.3603 - val_accuracy: 0.8537\n",
      "Restoring model weights from the end of the best epoch.\n",
      "\n",
      "Epoch 00004: val_accuracy did not improve from 0.85698\n",
      "Epoch 00004: early stopping\n"
     ]
    }
   ],
   "source": [
    "# 학습\n",
    "history = model.fit(x_train, y_train,\n",
    "          validation_data=(x_val, y_val),\n",
    "          epochs=10,\n",
    "          batch_size=64,\n",
    "          callbacks=[early_stop, checkpoint]\n",
    ")"
   ]
  },
  {
   "cell_type": "code",
   "execution_count": 47,
   "id": "8bc23e63",
   "metadata": {},
   "outputs": [
    {
     "data": {
      "image/png": "[encoded data removed]",
      "text/plain": [
       "<Figure size 864x288 with 2 Axes>"
      ]
     },
     "metadata": {
      "needs_background": "light"
     },
     "output_type": "display_data"
    }
   ],
   "source": [
    "plot_history(history)"
   ]
  },
  {
   "cell_type": "code",
   "execution_count": 48,
   "id": "437b7125",
   "metadata": {},
   "outputs": [
    {
     "name": "stdout",
     "output_type": "stream",
     "text": [
      "1563/1563 [==============================] - 34s 21ms/step - loss: 0.3298 - accuracy: 0.8552\n",
      "Test Accuracy: 0.8552\n"
     ]
    }
   ],
   "source": [
    "loss, acc = model.evaluate(test_tensor, test_labels)\n",
    "print(f\"Test Accuracy: {acc:.4f}\")"
   ]
  },
  {
   "cell_type": "markdown",
   "id": "ba4ac716",
   "metadata": {},
   "source": [
    "## 2. vocab size 증가"
   ]
  },
  {
   "cell_type": "code",
   "execution_count": 49,
   "id": "c935e8df",
   "metadata": {
    "scrolled": true
   },
   "outputs": [
    {
     "name": "stderr",
     "output_type": "stream",
     "text": [
      "sentencepiece_trainer.cc(77) LOG(INFO) Starts training with : \n",
      "trainer_spec {\n",
      "  input: /aiffel/aiffel/sp_tokenizer/data/spm_input.txt\n",
      "  input_format: \n",
      "  model_prefix: /aiffel/aiffel/sp_tokenizer/model/korean_spm_big\n",
      "  model_type: UNIGRAM\n",
      "  vocab_size: 16000\n",
      "  self_test_sample_size: 0\n",
      "  character_coverage: 1\n",
      "  input_sentence_size: 0\n",
      "  shuffle_input_sentence: 1\n",
      "  seed_sentencepiece_size: 1000000\n",
      "  shrinking_factor: 0.75\n",
      "  max_sentence_length: 4192\n",
      "  num_threads: 16\n",
      "  num_sub_iterations: 2\n",
      "  max_sentencepiece_length: 16\n",
      "  split_by_unicode_script: 1\n",
      "  split_by_number: 1\n",
      "  split_by_whitespace: 1\n",
      "  split_digits: 0\n",
      "  treat_whitespace_as_suffix: 0\n",
      "  allow_whitespace_only_pieces: 0\n",
      "  required_chars: \n",
      "  byte_fallback: 0\n",
      "  vocabulary_output_piece_score: 1\n",
      "  train_extremely_large_corpus: 0\n",
      "  hard_vocab_limit: 1\n",
      "  use_all_vocab: 0\n",
      "  unk_id: 1\n",
      "  bos_id: 2\n",
      "  eos_id: 3\n",
      "  pad_id: 0\n",
      "  unk_piece: <unk>\n",
      "  bos_piece: <s>\n",
      "  eos_piece: </s>\n",
      "  pad_piece: <pad>\n",
      "  unk_surface:  ⁇ \n",
      "}\n",
      "normalizer_spec {\n",
      "  name: nmt_nfkc\n",
      "  add_dummy_prefix: 1\n",
      "  remove_extra_whitespaces: 1\n",
      "  escape_whitespaces: 1\n",
      "  normalization_rule_tsv: \n",
      "}\n",
      "denormalizer_spec {}\n",
      "trainer_interface.cc(329) LOG(INFO) SentenceIterator is not specified. Using MultiFileSentenceIterator.\n",
      "trainer_interface.cc(178) LOG(INFO) Loading corpus: /aiffel/aiffel/sp_tokenizer/data/spm_input.txt\n",
      "trainer_interface.cc(385) LOG(INFO) Loaded all 137627 sentences\n",
      "trainer_interface.cc(400) LOG(INFO) Adding meta_piece: <pad>\n",
      "trainer_interface.cc(400) LOG(INFO) Adding meta_piece: <unk>\n",
      "trainer_interface.cc(400) LOG(INFO) Adding meta_piece: <s>\n",
      "trainer_interface.cc(400) LOG(INFO) Adding meta_piece: </s>\n",
      "trainer_interface.cc(405) LOG(INFO) Normalizing sentences...\n",
      "trainer_interface.cc(466) LOG(INFO) all chars count=4234282\n",
      "trainer_interface.cc(487) LOG(INFO) Alphabet size=2471\n",
      "trainer_interface.cc(488) LOG(INFO) Final character coverage=1\n",
      "trainer_interface.cc(520) LOG(INFO) Done! preprocessed 137627 sentences.\n",
      "unigram_model_trainer.cc(139) LOG(INFO) Making suffix array...\n",
      "unigram_model_trainer.cc(143) LOG(INFO) Extracting frequent sub strings...\n",
      "unigram_model_trainer.cc(194) LOG(INFO) Initialized 251657 seed sentencepieces\n",
      "trainer_interface.cc(526) LOG(INFO) Tokenizing input sentences with whitespace: 137627\n",
      "trainer_interface.cc(537) LOG(INFO) Done! 281364\n",
      "unigram_model_trainer.cc(489) LOG(INFO) Using 281364 sentences for EM training\n",
      "unigram_model_trainer.cc(505) LOG(INFO) EM sub_iter=0 size=129469 obj=14.9002 num_tokens=646764 num_tokens/piece=4.99551\n",
      "unigram_model_trainer.cc(505) LOG(INFO) EM sub_iter=1 size=119825 obj=13.8437 num_tokens=651387 num_tokens/piece=5.43615\n",
      "unigram_model_trainer.cc(505) LOG(INFO) EM sub_iter=0 size=89825 obj=13.958 num_tokens=679935 num_tokens/piece=7.56955\n",
      "unigram_model_trainer.cc(505) LOG(INFO) EM sub_iter=1 size=89680 obj=13.9004 num_tokens=680350 num_tokens/piece=7.58642\n",
      "unigram_model_trainer.cc(505) LOG(INFO) EM sub_iter=0 size=67253 obj=14.1533 num_tokens=716928 num_tokens/piece=10.6602\n",
      "unigram_model_trainer.cc(505) LOG(INFO) EM sub_iter=1 size=67246 obj=14.0894 num_tokens=717109 num_tokens/piece=10.664\n",
      "unigram_model_trainer.cc(505) LOG(INFO) EM sub_iter=0 size=50434 obj=14.3636 num_tokens=752365 num_tokens/piece=14.9178\n",
      "unigram_model_trainer.cc(505) LOG(INFO) EM sub_iter=1 size=50434 obj=14.2999 num_tokens=752395 num_tokens/piece=14.9184\n",
      "unigram_model_trainer.cc(505) LOG(INFO) EM sub_iter=0 size=37825 obj=14.612 num_tokens=790162 num_tokens/piece=20.8899\n",
      "unigram_model_trainer.cc(505) LOG(INFO) EM sub_iter=1 size=37825 obj=14.5461 num_tokens=790150 num_tokens/piece=20.8896\n",
      "unigram_model_trainer.cc(505) LOG(INFO) EM sub_iter=0 size=28368 obj=14.8884 num_tokens=828963 num_tokens/piece=29.2218\n",
      "unigram_model_trainer.cc(505) LOG(INFO) EM sub_iter=1 size=28368 obj=14.8186 num_tokens=828975 num_tokens/piece=29.2222\n",
      "unigram_model_trainer.cc(505) LOG(INFO) EM sub_iter=0 size=21276 obj=15.199 num_tokens=869226 num_tokens/piece=40.8548\n",
      "unigram_model_trainer.cc(505) LOG(INFO) EM sub_iter=1 size=21276 obj=15.1232 num_tokens=869275 num_tokens/piece=40.8571\n",
      "unigram_model_trainer.cc(505) LOG(INFO) EM sub_iter=0 size=17600 obj=15.388 num_tokens=896251 num_tokens/piece=50.9234\n",
      "unigram_model_trainer.cc(505) LOG(INFO) EM sub_iter=1 size=17600 obj=15.3344 num_tokens=896263 num_tokens/piece=50.924\n",
      "trainer_interface.cc(615) LOG(INFO) Saving model: /aiffel/aiffel/sp_tokenizer/model/korean_spm_big.model\n",
      "trainer_interface.cc(626) LOG(INFO) Saving vocabs: /aiffel/aiffel/sp_tokenizer/model/korean_spm_big.vocab\n"
     ]
    }
   ],
   "source": [
    "vocab_size = 16000 # 늘려가며 실험\n",
    "model_prefix = 'korean_spm_big'\n",
    "model_dir = os.path.expanduser('~/aiffel/sp_tokenizer/model')\n",
    "\n",
    "os.makedirs(model_dir, exist_ok=True)\n",
    "\n",
    "spm.SentencePieceTrainer.Train(\n",
    "    input=temp_file,\n",
    "    model_prefix=os.path.join(model_dir, model_prefix),\n",
    "    vocab_size=vocab_size,\n",
    "    model_type='unigram',\n",
    "    character_coverage=1.0,  # 유니코드 문자 수가 많은 한국어는 1.0이 적합\n",
    "    pad_id=0, unk_id=1, bos_id=2, eos_id=3  # 기본값\n",
    ")"
   ]
  },
  {
   "cell_type": "code",
   "execution_count": 50,
   "id": "0f2e360b",
   "metadata": {},
   "outputs": [],
   "source": [
    "sp.load(os.path.join(model_dir, model_prefix + '.model'))\n",
    "\n",
    "# 정수 시퀀스 생성 및 패딩\n",
    "tensor = tokenize_spm(filtered_corpus, sp)  # 위에서 만든 함수 사용\n",
    "test_tensor = tokenize_spm(test_corpus, sp)  # 위에서 만든 함수 사용"
   ]
  },
  {
   "cell_type": "code",
   "execution_count": 51,
   "id": "9850dca2",
   "metadata": {},
   "outputs": [],
   "source": [
    "# 학습/검증 분리\n",
    "from sklearn.model_selection import train_test_split\n",
    "\n",
    "x_train, x_val, y_train, y_val = train_test_split(tensor, train_labels, test_size=0.2, random_state=42)"
   ]
  },
  {
   "cell_type": "code",
   "execution_count": 52,
   "id": "47bec889",
   "metadata": {},
   "outputs": [],
   "source": [
    "checkpoint = ModelCheckpoint(\n",
    "    filepath=os.path.join(save_dir, 'vocab16k_uni_post.h5'),\n",
    "    monitor='val_accuracy',\n",
    "    save_best_only=True,\n",
    "    save_weights_only=False,\n",
    "    verbose=1\n",
    ")"
   ]
  },
  {
   "cell_type": "code",
   "execution_count": 53,
   "id": "259a129e",
   "metadata": {},
   "outputs": [
    {
     "name": "stdout",
     "output_type": "stream",
     "text": [
      "Model: \"sequential_5\"\n",
      "_________________________________________________________________\n",
      "Layer (type)                 Output Shape              Param #   \n",
      "=================================================================\n",
      "embedding_5 (Embedding)      (None, None, 128)         2048000   \n",
      "_________________________________________________________________\n",
      "lstm_5 (LSTM)                (None, 128)               131584    \n",
      "_________________________________________________________________\n",
      "dense_5 (Dense)              (None, 1)                 129       \n",
      "=================================================================\n",
      "Total params: 2,179,713\n",
      "Trainable params: 2,179,713\n",
      "Non-trainable params: 0\n",
      "_________________________________________________________________\n"
     ]
    }
   ],
   "source": [
    "# 모델 구성\n",
    "model = build_rnn_model(vocab_size=sp.get_piece_size())\n",
    "\n",
    "# 컴파일\n",
    "model.compile(loss='binary_crossentropy',\n",
    "              optimizer='adam',\n",
    "              metrics=['accuracy'])\n",
    "\n",
    "model.summary()"
   ]
  },
  {
   "cell_type": "code",
   "execution_count": 54,
   "id": "23f40c89",
   "metadata": {},
   "outputs": [
    {
     "name": "stdout",
     "output_type": "stream",
     "text": [
      "Epoch 1/10\n",
      "1722/1722 [==============================] - 27s 14ms/step - loss: 0.3849 - accuracy: 0.8270 - val_loss: 0.3372 - val_accuracy: 0.8507\n",
      "\n",
      "Epoch 00001: val_accuracy improved from -inf to 0.85073, saving model to ./ckpoints/vocab16k_uni_post.h5\n",
      "Epoch 2/10\n",
      "1722/1722 [==============================] - 23s 14ms/step - loss: 0.2737 - accuracy: 0.8826 - val_loss: 0.3332 - val_accuracy: 0.8527\n",
      "\n",
      "Epoch 00002: val_accuracy improved from 0.85073 to 0.85269, saving model to ./ckpoints/vocab16k_uni_post.h5\n",
      "Epoch 3/10\n",
      "1722/1722 [==============================] - 23s 13ms/step - loss: 0.2155 - accuracy: 0.9092 - val_loss: 0.3624 - val_accuracy: 0.8503\n",
      "\n",
      "Epoch 00003: val_accuracy did not improve from 0.85269\n",
      "Epoch 4/10\n",
      "1722/1722 [==============================] - 23s 14ms/step - loss: 0.1614 - accuracy: 0.9350 - val_loss: 0.4220 - val_accuracy: 0.8499\n",
      "Restoring model weights from the end of the best epoch.\n",
      "\n",
      "Epoch 00004: val_accuracy did not improve from 0.85269\n",
      "Epoch 00004: early stopping\n"
     ]
    }
   ],
   "source": [
    "# 학습\n",
    "history = model.fit(x_train, y_train,\n",
    "          validation_data=(x_val, y_val),\n",
    "          epochs=10,\n",
    "          batch_size=64,\n",
    "          callbacks=[early_stop, checkpoint]\n",
    ")"
   ]
  },
  {
   "cell_type": "code",
   "execution_count": 55,
   "id": "8dcf11c8",
   "metadata": {},
   "outputs": [
    {
     "data": {
      "image/png": "[encoded data removed]",
      "text/plain": [
       "<Figure size 864x288 with 2 Axes>"
      ]
     },
     "metadata": {
      "needs_background": "light"
     },
     "output_type": "display_data"
    }
   ],
   "source": [
    "plot_history(history)"
   ]
  },
  {
   "cell_type": "code",
   "execution_count": 56,
   "id": "a4ad2f5b",
   "metadata": {},
   "outputs": [
    {
     "name": "stdout",
     "output_type": "stream",
     "text": [
      "1563/1563 [==============================] - 7s 4ms/step - loss: 0.3334 - accuracy: 0.8566\n",
      "Test Accuracy: 0.8566\n"
     ]
    }
   ],
   "source": [
    "loss, acc = model.evaluate(test_tensor, test_labels)\n",
    "print(f\"Test Accuracy: {acc:.4f}\")"
   ]
  },
  {
   "cell_type": "markdown",
   "id": "ece3ab53",
   "metadata": {},
   "source": [
    "## 3. model type 바꾸기"
   ]
  },
  {
   "cell_type": "code",
   "execution_count": 57,
   "id": "0d5e4d68",
   "metadata": {},
   "outputs": [
    {
     "name": "stderr",
     "output_type": "stream",
     "text": [
      "sentencepiece_trainer.cc(77) LOG(INFO) Starts training with : \n",
      "trainer_spec {\n",
      "  input: /aiffel/aiffel/sp_tokenizer/data/spm_input.txt\n",
      "  input_format: \n",
      "  model_prefix: /aiffel/aiffel/sp_tokenizer/model/korean_spm_bpe\n",
      "  model_type: BPE\n",
      "  vocab_size: 8000\n",
      "  self_test_sample_size: 0\n",
      "  character_coverage: 1\n",
      "  input_sentence_size: 0\n",
      "  shuffle_input_sentence: 1\n",
      "  seed_sentencepiece_size: 1000000\n",
      "  shrinking_factor: 0.75\n",
      "  max_sentence_length: 4192\n",
      "  num_threads: 16\n",
      "  num_sub_iterations: 2\n",
      "  max_sentencepiece_length: 16\n",
      "  split_by_unicode_script: 1\n",
      "  split_by_number: 1\n",
      "  split_by_whitespace: 1\n",
      "  split_digits: 0\n",
      "  treat_whitespace_as_suffix: 0\n",
      "  allow_whitespace_only_pieces: 0\n",
      "  required_chars: \n",
      "  byte_fallback: 0\n",
      "  vocabulary_output_piece_score: 1\n",
      "  train_extremely_large_corpus: 0\n",
      "  hard_vocab_limit: 1\n",
      "  use_all_vocab: 0\n",
      "  unk_id: 1\n",
      "  bos_id: 2\n",
      "  eos_id: 3\n",
      "  pad_id: 0\n",
      "  unk_piece: <unk>\n",
      "  bos_piece: <s>\n",
      "  eos_piece: </s>\n",
      "  pad_piece: <pad>\n",
      "  unk_surface:  ⁇ \n",
      "}\n",
      "normalizer_spec {\n",
      "  name: nmt_nfkc\n",
      "  add_dummy_prefix: 1\n",
      "  remove_extra_whitespaces: 1\n",
      "  escape_whitespaces: 1\n",
      "  normalization_rule_tsv: \n",
      "}\n",
      "denormalizer_spec {}\n",
      "trainer_interface.cc(329) LOG(INFO) SentenceIterator is not specified. Using MultiFileSentenceIterator.\n",
      "trainer_interface.cc(178) LOG(INFO) Loading corpus: /aiffel/aiffel/sp_tokenizer/data/spm_input.txt\n",
      "trainer_interface.cc(385) LOG(INFO) Loaded all 137627 sentences\n",
      "trainer_interface.cc(400) LOG(INFO) Adding meta_piece: <pad>\n",
      "trainer_interface.cc(400) LOG(INFO) Adding meta_piece: <unk>\n",
      "trainer_interface.cc(400) LOG(INFO) Adding meta_piece: <s>\n",
      "trainer_interface.cc(400) LOG(INFO) Adding meta_piece: </s>\n",
      "trainer_interface.cc(405) LOG(INFO) Normalizing sentences...\n",
      "trainer_interface.cc(466) LOG(INFO) all chars count=4234282\n",
      "trainer_interface.cc(487) LOG(INFO) Alphabet size=2471\n",
      "trainer_interface.cc(488) LOG(INFO) Final character coverage=1\n",
      "trainer_interface.cc(520) LOG(INFO) Done! preprocessed 137627 sentences.\n",
      "trainer_interface.cc(526) LOG(INFO) Tokenizing input sentences with whitespace: 137627\n",
      "trainer_interface.cc(537) LOG(INFO) Done! 281364\n",
      "bpe_model_trainer.cc(167) LOG(INFO) Updating active symbols. max_freq=52915 min_freq=77\n",
      "bpe_model_trainer.cc(258) LOG(INFO) Added: freq=8925 size=20 all=100431 active=9284 piece=▁진\n",
      "bpe_model_trainer.cc(258) LOG(INFO) Added: freq=7105 size=40 all=105181 active=14034 piece=▁만\n",
      "bpe_model_trainer.cc(258) LOG(INFO) Added: freq=4869 size=60 all=108179 active=17032 piece=하는\n",
      "bpe_model_trainer.cc(258) LOG(INFO) Added: freq=4146 size=80 all=112679 active=21532 piece=ᅲᅲ\n",
      "bpe_model_trainer.cc(258) LOG(INFO) Added: freq=3353 size=100 all=115313 active=24166 piece=까지\n",
      "bpe_model_trainer.cc(167) LOG(INFO) Updating active symbols. max_freq=3340 min_freq=63\n",
      "bpe_model_trainer.cc(258) LOG(INFO) Added: freq=2922 size=120 all=118168 active=8229 piece=이라\n",
      "bpe_model_trainer.cc(258) LOG(INFO) Added: freq=2577 size=140 all=120674 active=10735 piece=▁웃\n",
      "bpe_model_trainer.cc(258) LOG(INFO) Added: freq=2320 size=160 all=123280 active=13341 piece=▁고\n",
      "bpe_model_trainer.cc(258) LOG(INFO) Added: freq=2050 size=180 all=125343 active=15404 piece=▁거\n",
      "bpe_model_trainer.cc(258) LOG(INFO) Added: freq=1931 size=200 all=126949 active=17010 piece=▁불\n",
      "bpe_model_trainer.cc(167) LOG(INFO) Updating active symbols. max_freq=1925 min_freq=56\n",
      "bpe_model_trainer.cc(258) LOG(INFO) Added: freq=1758 size=220 all=129465 active=8745 piece=▁처음\n",
      "bpe_model_trainer.cc(258) LOG(INFO) Added: freq=1623 size=240 all=131628 active=10908 piece=어서\n",
      "bpe_model_trainer.cc(258) LOG(INFO) Added: freq=1509 size=260 all=133915 active=13195 piece=▁기억\n",
      "bpe_model_trainer.cc(258) LOG(INFO) Added: freq=1428 size=280 all=136092 active=15372 piece=▁뭔\n",
      "bpe_model_trainer.cc(258) LOG(INFO) Added: freq=1343 size=300 all=138238 active=17518 piece=▁아름\n",
      "bpe_model_trainer.cc(167) LOG(INFO) Updating active symbols. max_freq=1339 min_freq=50\n",
      "bpe_model_trainer.cc(258) LOG(INFO) Added: freq=1250 size=320 all=140076 active=8745 piece=▁졸\n",
      "bpe_model_trainer.cc(258) LOG(INFO) Added: freq=1154 size=340 all=141595 active=10264 piece=▁줄\n",
      "bpe_model_trainer.cc(258) LOG(INFO) Added: freq=1096 size=360 all=143554 active=12223 piece=▁단\n",
      "bpe_model_trainer.cc(258) LOG(INFO) Added: freq=1057 size=380 all=145244 active=13913 piece=▁반전\n",
      "bpe_model_trainer.cc(258) LOG(INFO) Added: freq=1020 size=400 all=147045 active=15714 piece=▁보기\n",
      "bpe_model_trainer.cc(167) LOG(INFO) Updating active symbols. max_freq=1013 min_freq=46\n",
      "bpe_model_trainer.cc(258) LOG(INFO) Added: freq=954 size=420 all=148498 active=8772 piece=▁걸\n",
      "bpe_model_trainer.cc(258) LOG(INFO) Added: freq=914 size=440 all=150321 active=10595 piece=▁계\n",
      "bpe_model_trainer.cc(258) LOG(INFO) Added: freq=873 size=460 all=151457 active=11731 piece=▁간\n",
      "bpe_model_trainer.cc(258) LOG(INFO) Added: freq=839 size=480 all=152925 active=13199 piece=나서\n",
      "bpe_model_trainer.cc(258) LOG(INFO) Added: freq=812 size=500 all=154676 active=14950 piece=▁5\n",
      "bpe_model_trainer.cc(167) LOG(INFO) Updating active symbols. max_freq=808 min_freq=43\n",
      "bpe_model_trainer.cc(258) LOG(INFO) Added: freq=774 size=520 all=155559 active=8606 piece=지고\n",
      "bpe_model_trainer.cc(258) LOG(INFO) Added: freq=742 size=540 all=156619 active=9666 piece=떨어\n",
      "bpe_model_trainer.cc(258) LOG(INFO) Added: freq=719 size=560 all=158367 active=11414 piece=이지\n",
      "bpe_model_trainer.cc(258) LOG(INFO) Added: freq=705 size=580 all=160495 active=13542 piece=▁즐\n",
      "bpe_model_trainer.cc(258) LOG(INFO) Added: freq=682 size=600 all=162353 active=15400 piece=생각\n",
      "bpe_model_trainer.cc(167) LOG(INFO) Updating active symbols. max_freq=682 min_freq=40\n",
      "bpe_model_trainer.cc(258) LOG(INFO) Added: freq=659 size=620 all=164051 active=9577 piece=▁연기가\n",
      "bpe_model_trainer.cc(258) LOG(INFO) Added: freq=638 size=640 all=165786 active=11312 piece=▁시리즈\n",
      "bpe_model_trainer.cc(258) LOG(INFO) Added: freq=609 size=660 all=167331 active=12857 piece=▁싸\n",
      "bpe_model_trainer.cc(258) LOG(INFO) Added: freq=596 size=680 all=168614 active=14140 piece=라리\n",
      "bpe_model_trainer.cc(258) LOG(INFO) Added: freq=573 size=700 all=170100 active=15626 piece=▁느껴\n",
      "bpe_model_trainer.cc(167) LOG(INFO) Updating active symbols. max_freq=573 min_freq=37\n",
      "bpe_model_trainer.cc(258) LOG(INFO) Added: freq=561 size=720 all=171368 active=9748 piece=▁케\n",
      "bpe_model_trainer.cc(258) LOG(INFO) Added: freq=549 size=740 all=172802 active=11182 piece=▁나왔\n",
      "bpe_model_trainer.cc(258) LOG(INFO) Added: freq=534 size=760 all=173860 active=12240 piece=▁신선\n",
      "bpe_model_trainer.cc(258) LOG(INFO) Added: freq=518 size=780 all=175344 active=13724 piece=▁언제\n",
      "bpe_model_trainer.cc(258) LOG(INFO) Added: freq=508 size=800 all=176825 active=15205 piece=▁영화였\n",
      "bpe_model_trainer.cc(167) LOG(INFO) Updating active symbols. max_freq=506 min_freq=35\n",
      "bpe_model_trainer.cc(258) LOG(INFO) Added: freq=496 size=820 all=178016 active=10003 piece=▁유쾌\n",
      "bpe_model_trainer.cc(258) LOG(INFO) Added: freq=487 size=840 al"
     ]
    }
   ],
   "source": [
    "vocab_size = 8000 # 늘려가며 실험\n",
    "model_prefix = 'korean_spm_bpe'\n",
    "model_dir = os.path.expanduser('~/aiffel/sp_tokenizer/model')\n",
    "\n",
    "os.makedirs(model_dir, exist_ok=True)\n",
    "\n",
    "spm.SentencePieceTrainer.Train(\n",
    "    input=temp_file,\n",
    "    model_prefix=os.path.join(model_dir, model_prefix),\n",
    "    vocab_size=vocab_size,\n",
    "    model_type='bpe',  # bpe로 변경\n",
    "    character_coverage=1.0,  # 유니코드 문자 수가 많은 한국어는 1.0이 적합\n",
    "    pad_id=0, unk_id=1, bos_id=2, eos_id=3  # 기본값\n",
    ")"
   ]
  },
  {
   "cell_type": "code",
   "execution_count": 58,
   "id": "bbb16cd9",
   "metadata": {},
   "outputs": [
    {
     "name": "stderr",
     "output_type": "stream",
     "text": [
      "l=178826 active=10813 piece=▁좋았다\n",
      "bpe_model_trainer.cc(258) LOG(INFO) Added: freq=475 size=860 all=179799 active=11786 piece=▁봤던\n",
      "bpe_model_trainer.cc(258) LOG(INFO) Added: freq=467 size=880 all=180876 active=12863 piece=▁어릴\n",
      "bpe_model_trainer.cc(258) LOG(INFO) Added: freq=454 size=900 all=181697 active=13684 piece=▁희\n",
      "bpe_model_trainer.cc(167) LOG(INFO) Updating active symbols. max_freq=454 min_freq=34\n",
      "bpe_model_trainer.cc(258) LOG(INFO) Added: freq=442 size=920 all=182884 active=10247 piece=▁진부\n",
      "bpe_model_trainer.cc(258) LOG(INFO) Added: freq=432 size=940 all=184237 active=11600 piece=▁임\n",
      "bpe_model_trainer.cc(258) LOG(INFO) Added: freq=426 size=960 all=185554 active=12917 piece=하는데\n",
      "bpe_model_trainer.cc(258) LOG(INFO) Added: freq=411 size=980 all=186641 active=14004 piece=한거\n",
      "bpe_model_trainer.cc(258) LOG(INFO) Added: freq=403 size=1000 all=187731 active=15094 piece=▁g\n",
      "bpe_model_trainer.cc(167) LOG(INFO) Updating active symbols. max_freq=403 min_"
     ]
    }
   ],
   "source": [
    "sp.load(os.path.join(model_dir, model_prefix + '.model'))\n",
    "\n",
    "# 정수 시퀀스 생성 및 패딩\n",
    "tensor = tokenize_spm(filtered_corpus, sp)  # 위에서 만든 함수 사용\n",
    "test_tensor = tokenize_spm(test_corpus, sp)  # 위에서 만든 함수 사용"
   ]
  },
  {
   "cell_type": "code",
   "execution_count": 59,
   "id": "d3ef8d59",
   "metadata": {},
   "outputs": [],
   "source": [
    "# 학습/검증 분리\n",
    "from sklearn.model_selection import train_test_split\n",
    "\n",
    "x_train, x_val, y_train, y_val = train_test_split(tensor, train_labels, test_size=0.2, random_state=42)"
   ]
  },
  {
   "cell_type": "code",
   "execution_count": 60,
   "id": "96e37f90",
   "metadata": {},
   "outputs": [],
   "source": [
    "checkpoint = ModelCheckpoint(\n",
    "    filepath=os.path.join(save_dir, 'vocab8k_bpe_post.h5'),\n",
    "    monitor='val_accuracy',\n",
    "    save_best_only=True,\n",
    "    save_weights_only=False,\n",
    "    verbose=1\n",
    ")"
   ]
  },
  {
   "cell_type": "code",
   "execution_count": 61,
   "id": "739dd4b2",
   "metadata": {},
   "outputs": [
    {
     "name": "stdout",
     "output_type": "stream",
     "text": [
      "Model: \"sequential_6\"\n",
      "_________________________________________________________________\n",
      "Layer (type)                 Output Shape              Param #   \n",
      "=================================================================\n",
      "embedding_6 (Embedding)      (None, None, 128)         1024000   \n",
      "_________________________________________________________________\n",
      "lstm_6 (LSTM)                (None, 128)               131584    \n",
      "_________________________________________________________________\n",
      "dense_6 (Dense)              (None, 1)                 129       \n",
      "=================================================================\n",
      "Total params: 1,155,713\n",
      "Trainable params: 1,155,713\n",
      "Non-trainable params: 0\n",
      "_________________________________________________________________\n"
     ]
    }
   ],
   "source": [
    "# 모델 구성\n",
    "model = build_rnn_model(vocab_size=sp.get_piece_size())\n",
    "\n",
    "# 컴파일\n",
    "model.compile(loss='binary_crossentropy',\n",
    "              optimizer='adam',\n",
    "              metrics=['accuracy'])\n",
    "\n",
    "model.summary()"
   ]
  },
  {
   "cell_type": "code",
   "execution_count": 62,
   "id": "d01f0172",
   "metadata": {},
   "outputs": [
    {
     "name": "stdout",
     "output_type": "stream",
     "text": [
      "Epoch 1/10\n",
      "1722/1722 [==============================] - 28s 14ms/step - loss: 0.3848 - accuracy: 0.8259 - val_loss: 0.3444 - val_accuracy: 0.8456\n",
      "\n",
      "Epoch 00001: val_accuracy improved from -inf to 0.84558, saving model to ./ckpoints/vocab8k_bpe_post.h5\n",
      "Epoch 2/10\n",
      "1722/1722 [==============================] - 23s 14ms/step - loss: 0.3001 - accuracy: 0.8697 - val_loss: 0.3354 - val_accuracy: 0.8533\n",
      "\n",
      "Epoch 00002: val_accuracy improved from 0.84558 to 0.85327, saving model to ./ckpoints/vocab8k_bpe_post.h5\n",
      "Epoch 3/10\n",
      "1722/1722 [==============================] - 23s 14ms/step - loss: 0.2593 - accuracy: 0.8879 - val_loss: 0.3403 - val_accuracy: 0.8531\n",
      "\n",
      "Epoch 00003: val_accuracy did not improve from 0.85327\n",
      "Epoch 4/10\n",
      "1722/1722 [==============================] - 23s 14ms/step - loss: 0.2220 - accuracy: 0.9066 - val_loss: 0.3487 - val_accuracy: 0.8515\n",
      "Restoring model weights from the end of the best epoch.\n",
      "\n",
      "Epoch 00004: val_accuracy did not improve from 0.85327\n",
      "Epoch 00004: early stopping\n"
     ]
    }
   ],
   "source": [
    "# 학습\n",
    "history = model.fit(x_train, y_train,\n",
    "          validation_data=(x_val, y_val),\n",
    "          epochs=10,\n",
    "          batch_size=64,\n",
    "          callbacks=[early_stop, checkpoint]\n",
    ")"
   ]
  },
  {
   "cell_type": "code",
   "execution_count": 63,
   "id": "8a114a4b",
   "metadata": {},
   "outputs": [
    {
     "data": {
      "image/png": "[encoded data removed]",
      "text/plain": [
       "<Figure size 864x288 with 2 Axes>"
      ]
     },
     "metadata": {
      "needs_background": "light"
     },
     "output_type": "display_data"
    }
   ],
   "source": [
    "plot_history(history)"
   ]
  },
  {
   "cell_type": "code",
   "execution_count": 64,
   "id": "6962b61b",
   "metadata": {},
   "outputs": [
    {
     "name": "stdout",
     "output_type": "stream",
     "text": [
      "1563/1563 [==============================] - 7s 4ms/step - loss: 0.3356 - accuracy: 0.8536\n",
      "Test Accuracy: 0.8536\n"
     ]
    }
   ],
   "source": [
    "loss, acc = model.evaluate(test_tensor, test_labels)\n",
    "print(f\"Test Accuracy: {acc:.4f}\")"
   ]
  },
  {
   "cell_type": "markdown",
   "id": "ae3e3f9d",
   "metadata": {},
   "source": [
    "## 4. 형태소 토크나이저 사용(mecab)"
   ]
  },
  {
   "cell_type": "code",
   "execution_count": 67,
   "id": "330754c3",
   "metadata": {},
   "outputs": [],
   "source": [
    "from konlpy.tag import Mecab\n",
    "from tensorflow.keras.preprocessing.text import Tokenizer\n",
    "\n",
    "def tokenize_mecab(corpus, vocab_size=8000, max_len=None):\n",
    "    mecab = Mecab()\n",
    "    tokenized = [mecab.morphs(sent) for sent in corpus]\n",
    "\n",
    "    tokenizer = Tokenizer(num_words=vocab_size, oov_token=\"<OOV>\")\n",
    "    tokenizer.fit_on_texts(tokenized)\n",
    "\n",
    "    sequences = tokenizer.texts_to_sequences(tokenized)\n",
    "    if max_len is None:\n",
    "        max_len = max(len(seq) for seq in sequences)\n",
    "\n",
    "    tensor = pad_sequences(sequences, maxlen=max_len, padding='post')\n",
    "    return tensor, tokenizer, max_len"
   ]
  },
  {
   "cell_type": "code",
   "execution_count": 68,
   "id": "e1acd81d",
   "metadata": {},
   "outputs": [],
   "source": [
    "mecab_tensor, mecab_tokenizer, max_len = tokenize_mecab(filtered_corpus)"
   ]
  },
  {
   "cell_type": "code",
   "execution_count": 69,
   "id": "8624d32d",
   "metadata": {},
   "outputs": [],
   "source": [
    "def tokenize_with_existing_tokenizer(corpus, tokenizer, max_len):\n",
    "    from konlpy.tag import Mecab\n",
    "    mecab = Mecab()\n",
    "    morphs = [mecab.morphs(sent) for sent in corpus]\n",
    "    sequences = tokenizer.texts_to_sequences(morphs)\n",
    "    return pad_sequences(sequences, maxlen=max_len, padding='post')"
   ]
  },
  {
   "cell_type": "code",
   "execution_count": 70,
   "id": "80edbbd8",
   "metadata": {},
   "outputs": [],
   "source": [
    "test_tensor = tokenize_with_existing_tokenizer(test_corpus, mecab_tokenizer, max_len)"
   ]
  },
  {
   "cell_type": "code",
   "execution_count": 71,
   "id": "17a98b1a",
   "metadata": {},
   "outputs": [],
   "source": [
    "x_train, x_val, y_train, y_val = train_test_split(mecab_tensor, train_labels, test_size=0.2, random_state=42)"
   ]
  },
  {
   "cell_type": "code",
   "execution_count": 72,
   "id": "409c4705",
   "metadata": {},
   "outputs": [],
   "source": [
    "checkpoint = ModelCheckpoint(\n",
    "    filepath=os.path.join(save_dir, 'mecab.h5'),\n",
    "    monitor='val_accuracy',\n",
    "    save_best_only=True,\n",
    "    save_weights_only=False,\n",
    "    verbose=1\n",
    ")"
   ]
  },
  {
   "cell_type": "code",
   "execution_count": 73,
   "id": "971ed9a5",
   "metadata": {},
   "outputs": [
    {
     "name": "stdout",
     "output_type": "stream",
     "text": [
      "Model: \"sequential_7\"\n",
      "_________________________________________________________________\n",
      "Layer (type)                 Output Shape              Param #   \n",
      "=================================================================\n",
      "embedding_7 (Embedding)      (None, None, 128)         1024000   \n",
      "_________________________________________________________________\n",
      "lstm_7 (LSTM)                (None, 128)               131584    \n",
      "_________________________________________________________________\n",
      "dense_7 (Dense)              (None, 1)                 129       \n",
      "=================================================================\n",
      "Total params: 1,155,713\n",
      "Trainable params: 1,155,713\n",
      "Non-trainable params: 0\n",
      "_________________________________________________________________\n"
     ]
    }
   ],
   "source": [
    "# 모델 구성\n",
    "model = build_rnn_model(vocab_size=sp.get_piece_size())\n",
    "\n",
    "# 컴파일\n",
    "model.compile(loss='binary_crossentropy',\n",
    "              optimizer='adam',\n",
    "              metrics=['accuracy'])\n",
    "\n",
    "model.summary()"
   ]
  },
  {
   "cell_type": "code",
   "execution_count": 74,
   "id": "4dfef520",
   "metadata": {},
   "outputs": [
    {
     "name": "stdout",
     "output_type": "stream",
     "text": [
      "Epoch 1/10\n",
      "1722/1722 [==============================] - 28s 15ms/step - loss: 0.3728 - accuracy: 0.8330 - val_loss: 0.3372 - val_accuracy: 0.8502\n",
      "\n",
      "Epoch 00001: val_accuracy improved from -inf to 0.85015, saving model to ./ckpoints/mecab.h5\n",
      "Epoch 2/10\n",
      "1722/1722 [==============================] - 24s 14ms/step - loss: 0.2903 - accuracy: 0.8759 - val_loss: 0.3243 - val_accuracy: 0.8601\n",
      "\n",
      "Epoch 00002: val_accuracy improved from 0.85015 to 0.86006, saving model to ./ckpoints/mecab.h5\n",
      "Epoch 3/10\n",
      "1722/1722 [==============================] - 25s 14ms/step - loss: 0.2498 - accuracy: 0.8953 - val_loss: 0.3270 - val_accuracy: 0.8602\n",
      "\n",
      "Epoch 00003: val_accuracy improved from 0.86006 to 0.86017, saving model to ./ckpoints/mecab.h5\n",
      "Epoch 4/10\n",
      "1722/1722 [==============================] - 24s 14ms/step - loss: 0.2175 - accuracy: 0.9105 - val_loss: 0.3524 - val_accuracy: 0.8591\n",
      "\n",
      "Epoch 00004: val_accuracy did not improve from 0.86017\n",
      "Epoch 5/10\n",
      "1722/1722 [==============================] - 25s 14ms/step - loss: 0.1863 - accuracy: 0.9245 - val_loss: 0.3860 - val_accuracy: 0.8564\n",
      "Restoring model weights from the end of the best epoch.\n",
      "\n",
      "Epoch 00005: val_accuracy did not improve from 0.86017\n",
      "Epoch 00005: early stopping\n"
     ]
    }
   ],
   "source": [
    "# 학습\n",
    "history = model.fit(x_train, y_train,\n",
    "          validation_data=(x_val, y_val),\n",
    "          epochs=10,\n",
    "          batch_size=64,\n",
    "          callbacks=[early_stop, checkpoint]\n",
    ")"
   ]
  },
  {
   "cell_type": "code",
   "execution_count": 75,
   "id": "1882fa53",
   "metadata": {},
   "outputs": [
    {
     "data": {
      "image/png": "[encoded data removed]",
      "text/plain": [
       "<Figure size 864x288 with 2 Axes>"
      ]
     },
     "metadata": {
      "needs_background": "light"
     },
     "output_type": "display_data"
    }
   ],
   "source": [
    "plot_history(history)"
   ]
  },
  {
   "cell_type": "code",
   "execution_count": 76,
   "id": "69f14da8",
   "metadata": {
    "scrolled": true
   },
   "outputs": [
    {
     "name": "stdout",
     "output_type": "stream",
     "text": [
      "1563/1563 [==============================] - 6s 4ms/step - loss: 0.3245 - accuracy: 0.8595\n",
      "Test Accuracy: 0.8595\n"
     ]
    }
   ],
   "source": [
    "loss, acc = model.evaluate(test_tensor, test_labels)\n",
    "print(f\"Test Accuracy: {acc:.4f}\")"
   ]
  },
  {
   "cell_type": "markdown",
   "id": "4fcf29a2",
   "metadata": {},
   "source": [
    "## 5. fasttext로 사전훈련된 word vector 사용하기\n",
    "다운로드 이슈로 추후 학습 예정"
   ]
  },
  {
   "cell_type": "markdown",
   "id": "7ba15672",
   "metadata": {},
   "source": [
    "# 회고\n",
    "- 데이터 전처리에 오래 고민했습니다. 전체 데이터에서 의미있는 부분을 찾으려 노력했고, 자음이나 모음만 사용한 평가, 하트모양, 연속 구두점, 세미콜론으로 땀 표시 등 여러 의미있는 비언어적 표현을 살려 전처리를 진행했습니다.\n",
    "- sentence piece 토크나이저를 학습시킬 때 필요한 하이퍼 파라미터를 바꿔가며 성능에 어떤 변화가 있는지 살펴보려 했습니다. 특이사항으로는\n",
    "    - padding을 post에서 pre로 바꾼 경우 RNN의 역전파 메커니즘 특성상 gradient descent 문제가 해결되어 성능이 향상될 것을 기대했으나 성능의 변화는 없고 오히려 학습 시간이 크게 증가한 것을 확인했습니다.(1 epoch당 23s -> 297s)\n",
    "    - vocab size를 2배로 증가시킨 경우 성능이 소폭 상승했으나(test accuracy: 0.8557 -> 0.8566) vocabulary list를 확인하려는 시도에서 lms가 메모리 부족으로 튕기는 문제가 발생하여 큰 변화를 확인하지 못했습니다.\n",
    "    - model type을 unigram에서 bpe로 바꾼 결과 역시 거의 변화가 없었고, 성능 면에서 소폭 하락한 모습을 확인했습니다. 아래 unigram과 bpe의 차이를 확인하면 bpe의 학습 속도가 3초가량 빠르고, 성능이 소폭 하락한 것의 이유를 알 수 있습니다.\n",
    "- 형태소 토크나이저 중 실험해 본 mecab은 sentence piece에 비해 성능이 좋았습니다. 한국어 데이터의 경우 형태소 토크나이저가 올바르게 작동하면 의미를 담고 있는 단위로 쪼갤 수 있어 성능이 좋을 수 있다고 이해했습니다."
   ]
  },
  {
   "cell_type": "markdown",
   "id": "46b9965b",
   "metadata": {},
   "source": [
    "## unigram vs bpe\n",
    "| 항목     | `unigram`                     | `bpe (Byte Pair Encoding)`    |\n",
    "| ------ | ----------------------------- | ----------------------------- |\n",
    "| 분할 방식  | **확률 기반 모델**                  | **빈도 기반 병합 알고리즘**             |\n",
    "| 선택 방식  | 여러 분할 후보 중 **가장 확률 높은 경로 선택** | 가장 자주 등장하는 문자 쌍을 **점진적으로 병합** |\n",
    "| 결과 다양성 | 더 유연한 분할, 일반화 잘 됨             | 상대적으로 덜 유연, 조합 고정적            |\n",
    "| 장점     | 잘게 쪼개도 문맥 유지 ↑, OOV 대응에 유리    | 빠르고 단순, 직관적 분할                |\n",
    "| 생성 과정  | 통계 기반으로 전체 vocabulary 평가 후 선택 | 단순히 자주 등장하는 subword 쌍 병합      |\n",
    "\n",
    "unigram은 확률 기반으로 더 유연하고 일반화에 강한 서브워드 분할을 제공하며,\n",
    "bpe는 단순하고 빠르지만 고정적 분할을 수행합니다."
   ]
  },
  {
   "cell_type": "markdown",
   "id": "de55a742",
   "metadata": {},
   "source": [
    "# 유의사항\n",
    "- sentence piece가 안돌아가요\n",
    "    - 코랩 사용하자\n",
    "    - sentence piece trainer로 모델 학습할때 안돌아가는 경우 있다.(메모리 문제)\n",
    "    - 쓸데없는 프로세스들을 kill, del 사용, %%reset 등 메모리 관리\n",
    "    - lms에서 메모리가 부족하면 아무 전조 없이 툭 끊김\n",
    "- **padding**을 pre와 post로 바꾸면 어떻게 될까?\n",
    "- **vocab_size**를 다르게 실험\n",
    "    - model_type이 2가지, 데이터가 vocab에 비해 너무 크면 문제가 있다\n",
    "    - vocab을 열어서 확인해보자: 너무 크면 단어가 중복됨, 너무 작으면 단어들이 너무 사라짐\n",
    "- mecab이나 okt 등을 사용해보기\n",
    "- sentence piece 옵션 바꿔보기"
   ]
  }
 ],
 "metadata": {
  "kernelspec": {
   "display_name": "Python 3 (ipykernel)",
   "language": "python",
   "name": "python3"
  },
  "language_info": {
   "codemirror_mode": {
    "name": "ipython",
    "version": 3
   },
   "file_extension": ".py",
   "mimetype": "text/x-python",
   "name": "python",
   "nbconvert_exporter": "python",
   "pygments_lexer": "ipython3",
   "version": "3.9.7"
  }
 },
 "nbformat": 4,
 "nbformat_minor": 5
}
