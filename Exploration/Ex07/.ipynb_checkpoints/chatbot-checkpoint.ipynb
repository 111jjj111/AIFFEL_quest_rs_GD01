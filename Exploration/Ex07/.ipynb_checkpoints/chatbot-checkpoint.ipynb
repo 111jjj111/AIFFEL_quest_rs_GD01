{
 "cells": [
  {
   "cell_type": "markdown",
   "id": "0372955c",
   "metadata": {},
   "source": [
    "# 트랜스포머로 만드는 K-대화형 챗봇\n",
    "신난다!"
   ]
  },
  {
   "cell_type": "markdown",
   "id": "97e3a529",
   "metadata": {},
   "source": [
    "## 필요한 패키지 임포트"
   ]
  },
  {
   "cell_type": "code",
   "execution_count": 1,
   "id": "25b12b96",
   "metadata": {},
   "outputs": [
    {
     "name": "stdout",
     "output_type": "stream",
     "text": [
      "슝=3\n"
     ]
    }
   ],
   "source": [
    "import tensorflow as tf\n",
    "import tensorflow_datasets as tfds\n",
    "import os\n",
    "import re\n",
    "import numpy as np\n",
    "import matplotlib.pyplot as plt\n",
    "print(\"슝=3\")"
   ]
  },
  {
   "cell_type": "markdown",
   "id": "eec71ea2",
   "metadata": {},
   "source": [
    "## 데이터 수집과 전처리"
   ]
  },
  {
   "cell_type": "markdown",
   "id": "da3052b2",
   "metadata": {},
   "source": [
    "### 데이터 로드 함수 정의, 사용"
   ]
  },
  {
   "cell_type": "code",
   "execution_count": 7,
   "id": "c078ab50",
   "metadata": {},
   "outputs": [],
   "source": [
    "# 데이터 불러오기 초기 버전\n",
    "# lms의 방식으로 데이터를 받아올 생각을 하다가\n",
    "# 한 문장에 질문과 대답이 있는 이번 데이터셋은 어떻게 받아와야 할지 고민함.\n",
    "# 각 문장을 받아와서 콤마 뒤에 띄어쓰기가 없는 부분을 나눠지는 지점으로 이해함.\n",
    "# 이 함수도 제대로 작동하지만, 아래 코드블럭 함수로 훨씬 간단하게 데이터 로드가 가능함.\n",
    "def load_chat_data(filepath):\n",
    "    # 데이터 불러오기\n",
    "    with open(filepath, 'r', encoding='utf-8') as file:\n",
    "        raw_data = file.read().strip()\n",
    "\n",
    "    # 각 줄이 하나의 샘플 (질문, 대답, 라벨)\n",
    "    lines = raw_data.split('\\n')\n",
    "    questions, answers = [], []\n",
    "\n",
    "    for line in lines[1:]:\n",
    "        # 조건: 콤마(,) 뒤에 공백이 없는 최초의 콤마를 기준으로 split\n",
    "        match = re.search(r',(?! )', line) # 콤마 뒤에 공백이 없는 경우 찾는 정규표현식 ',(?! )'\n",
    "        if match:\n",
    "            split_index = match.start()\n",
    "            question = line[:split_index].strip()\n",
    "            rest = line[split_index + 1:].strip()\n",
    "            # 다시 rest에서 마지막 콤마를 찾아서 대답과 라벨 분리\n",
    "            last_comma_idx = rest.rfind(',') # 뒤에서부터 콤마를 찾는 rfind\n",
    "            if last_comma_idx != -1: # 콤마가 존재하면 뒤에 나오는 내용은 라벨로 판단, 삭제\n",
    "                answer = rest[:last_comma_idx].strip()\n",
    "                questions.append(question)\n",
    "                answers.append(answer)\n",
    "\n",
    "    return questions, answers"
   ]
  },
  {
   "cell_type": "code",
   "execution_count": 105,
   "id": "48be41b9",
   "metadata": {},
   "outputs": [],
   "source": [
    "# 위 함수의 개선판\n",
    "# csv 파일은 pd.read_csv()로 읽으면 슬라이싱할 필요 없이 각 문장을 쉽게 얻을 수 있다.\n",
    "import pandas as pd\n",
    "\n",
    "def load_chat_data_improved(filepath):\n",
    "    df = pd.read_csv(filepath)\n",
    "    \n",
    "    # 컬럼 이름이 없을 수도 있으니, 기본 열 인덱스로 접근\n",
    "    # 또는 df.columns 확인 후 명시적으로 'Q', 'A' 같은 이름 사용 가능\n",
    "    questions = df.iloc[:, 0].astype(str).tolist()\n",
    "    answers = df.iloc[:, 1].astype(str).tolist()\n",
    "\n",
    "    return questions, answers"
   ]
  },
  {
   "cell_type": "code",
   "execution_count": 106,
   "id": "e0f798dd",
   "metadata": {},
   "outputs": [
    {
     "name": "stdout",
     "output_type": "stream",
     "text": [
      "질문 예시: ['12시 땡!', '1지망 학교 떨어졌어', '3박4일 놀러가고 싶다']\n",
      "답변 예시: ['하루가 또 가네요.', '위로해 드립니다.', '여행은 언제나 좋죠.']\n",
      "질문 예시: ['12시 땡!', '1지망 학교 떨어졌어', '3박4일 놀러가고 싶다']\n",
      "답변 예시: ['하루가 또 가네요.', '위로해 드립니다.', '여행은 언제나 좋죠.']\n"
     ]
    }
   ],
   "source": [
    "questions, answers = load_chat_data('/aiffel/aiffel/transformer_chatbot/data/ChatbotData .csv')\n",
    "better_questions, better_answers = load_chat_data_improved('/aiffel/aiffel/transformer_chatbot/data/ChatbotData .csv')\n",
    "print(\"질문 예시:\", questions[:3])\n",
    "print(\"답변 예시:\", answers[:3])\n",
    "print(\"질문 예시:\", better_questions[:3])\n",
    "print(\"답변 예시:\", better_answers[:3])"
   ]
  },
  {
   "cell_type": "code",
   "execution_count": 108,
   "id": "79761f88",
   "metadata": {},
   "outputs": [],
   "source": [
    "# 개선된 함수를 사용한 데이터로 선택\n",
    "questions, answers = better_questions, better_answers"
   ]
  },
  {
   "cell_type": "markdown",
   "id": "ac7cef61",
   "metadata": {},
   "source": [
    "### 한글 데이터 전처리 함수 정의, 사용"
   ]
  },
  {
   "cell_type": "code",
   "execution_count": 39,
   "id": "9dadf419",
   "metadata": {},
   "outputs": [],
   "source": [
    "def preprocess_sentence(sentence):\n",
    "    sentence = sentence.strip().lower()\n",
    "\n",
    "    # 구두점 앞뒤로 띄어쓰기\n",
    "    sentence = re.sub(r\"([?.!,])\", r\" \\1 \", sentence)\n",
    "\n",
    "    # 숫자와 문자 사이 띄어쓰기\n",
    "    sentence = re.sub(r\"(\\d)([가-힣ㄱ-ㅎㅏ-ㅣa-zA-Z])\", r\"\\1 \\2\", sentence)\n",
    "    sentence = re.sub(r\"([가-힣ㄱ-ㅎㅏ-ㅣa-zA-Z])(\\d)\", r\"\\1 \\2\", sentence)\n",
    "    \n",
    "    # 영어-한글 또는 한글-영어 사이 띄어쓰기\n",
    "    sentence = re.sub(r\"([a-zA-Z])([가-힣ㄱ-ㅎㅏ-ㅣ])\", r\"\\1 \\2\", sentence)\n",
    "    sentence = re.sub(r\"([가-힣ㄱ-ㅎㅏ-ㅣ])([a-zA-Z])\", r\"\\1 \\2\", sentence)\n",
    "    \n",
    "    # 자모 1개 이상 앞에 공백 삽입 (앞 단어가 있을 경우)\n",
    "    sentence = re.sub(r\"(?<=[가-힣a-zA-Z0-9])(?=[ㄱ-ㅎㅏ-ㅣ]+)\", \" \", sentence)\n",
    "\n",
    "    # 여러 공백 정리\n",
    "    sentence = re.sub(r'\\s+', ' ', sentence)\n",
    "\n",
    "    # 특수문자 정리 (한글 자모 포함)\n",
    "    sentence = re.sub(r\"[^가-힣ㄱ-ㅎㅏ-ㅣa-zA-Z0-9?.!,]+\", \" \", sentence)\n",
    "\n",
    "    return sentence.strip()"
   ]
  },
  {
   "cell_type": "code",
   "execution_count": 40,
   "id": "b4e856a8",
   "metadata": {},
   "outputs": [
    {
     "name": "stdout",
     "output_type": "stream",
     "text": [
      "힘들다 ㅠㅠ 안녕 123 ㅋ !\n"
     ]
    }
   ],
   "source": [
    "# 함수 작동 확인\n",
    "print(preprocess_sentence(\"힘들다ㅠㅠ 안녕123ㅋ!\"))  "
   ]
  },
  {
   "cell_type": "code",
   "execution_count": 41,
   "id": "6a3b5e67",
   "metadata": {
    "scrolled": true
   },
   "outputs": [],
   "source": [
    "questions = [preprocess_sentence(q) for q in questions]\n",
    "answers = [preprocess_sentence(a) for a in answers]"
   ]
  },
  {
   "cell_type": "code",
   "execution_count": 44,
   "id": "a6e6eca0",
   "metadata": {},
   "outputs": [
    {
     "name": "stdout",
     "output_type": "stream",
     "text": [
      "질문 예시: 싱숭생숭 ㅠ\n",
      "답변 예시: 한동안은 그럴지도 몰라요 .\n",
      "질문 예시: 착각이였나보네 ㅋㅋ\n",
      "답변 예시: 상대의 의중을 알긴 쉽지 않죠 .\n"
     ]
    }
   ],
   "source": [
    "# 모음이나 자음 의성어, 의태어 띄어쓰기 확인\n",
    "print(\"질문 예시:\", questions[6799])\n",
    "print(\"답변 예시:\", answers[6799])\n",
    "print(\"질문 예시:\", questions[8272])\n",
    "print(\"답변 예시:\", answers[8272])"
   ]
  },
  {
   "cell_type": "code",
   "execution_count": 45,
   "id": "3c03dfcc",
   "metadata": {},
   "outputs": [
    {
     "name": "stdout",
     "output_type": "stream",
     "text": [
      "질문 예시: 오늘 또 헤어진 사람의 sns 를 봤네\n",
      "답변 예시: sns 를 삭제하는게 어떨까요 . 미련만 남을 뿐이에요 .\n"
     ]
    }
   ],
   "source": [
    "# 영어와 한글 띄어쓰기 확인\n",
    "print(\"질문 예시:\", questions[7127])\n",
    "print(\"답변 예시:\", answers[7127])"
   ]
  },
  {
   "cell_type": "markdown",
   "id": "a2eb08cd",
   "metadata": {},
   "source": [
    "### 단어장 만들기"
   ]
  },
  {
   "cell_type": "code",
   "execution_count": 46,
   "id": "d14e7e47",
   "metadata": {},
   "outputs": [
    {
     "name": "stdout",
     "output_type": "stream",
     "text": [
      "살짝 오래 걸릴 수 있어요. 스트레칭 한 번 해볼까요? 👐\n",
      "슝=3 \n"
     ]
    }
   ],
   "source": [
    "import tensorflow_datasets as tfds\n",
    "print(\"살짝 오래 걸릴 수 있어요. 스트레칭 한 번 해볼까요? 👐\")\n",
    "\n",
    "# 질문과 답변 데이터셋에 대해서 Vocabulary 생성\n",
    "tokenizer = tfds.deprecated.text.SubwordTextEncoder.build_from_corpus(questions + answers, target_vocab_size=2**13)\n",
    "print(\"슝=3 \")"
   ]
  },
  {
   "cell_type": "code",
   "execution_count": 47,
   "id": "eacf7720",
   "metadata": {},
   "outputs": [
    {
     "name": "stdout",
     "output_type": "stream",
     "text": [
      "슝=3\n"
     ]
    }
   ],
   "source": [
    "# 시작 토큰과 종료 토큰에 고유한 정수를 부여합니다.\n",
    "START_TOKEN, END_TOKEN = [tokenizer.vocab_size], [tokenizer.vocab_size + 1]\n",
    "print(\"슝=3\")"
   ]
  },
  {
   "cell_type": "code",
   "execution_count": 48,
   "id": "33426ada",
   "metadata": {},
   "outputs": [
    {
     "name": "stdout",
     "output_type": "stream",
     "text": [
      "START_TOKEN의 번호 : [8157]\n",
      "END_TOKEN의 번호 : [8158]\n"
     ]
    }
   ],
   "source": [
    "print('START_TOKEN의 번호 :' ,[tokenizer.vocab_size])\n",
    "print('END_TOKEN의 번호 :' ,[tokenizer.vocab_size + 1])"
   ]
  },
  {
   "cell_type": "code",
   "execution_count": 49,
   "id": "eeeb1749",
   "metadata": {
    "scrolled": true
   },
   "outputs": [
    {
     "name": "stdout",
     "output_type": "stream",
     "text": [
      "8159\n"
     ]
    }
   ],
   "source": [
    "# 시작 토큰과 종료 토큰을 고려하여 +2를 하여 단어장의 크기를 산정합니다.\n",
    "VOCAB_SIZE = tokenizer.vocab_size + 2\n",
    "print(VOCAB_SIZE)"
   ]
  },
  {
   "cell_type": "markdown",
   "id": "5c80ef48",
   "metadata": {},
   "source": [
    "### 정수 인코딩"
   ]
  },
  {
   "cell_type": "code",
   "execution_count": 50,
   "id": "17455298",
   "metadata": {},
   "outputs": [
    {
     "name": "stdout",
     "output_type": "stream",
     "text": [
      "정수 인코딩 전의 21번째 질문 샘플: 가스비 장난 아님\n",
      "정수 인코딩 전 21번째 답변 샘플: 다음 달에는 더 절약해봐요 .\n",
      "정수 인코딩 후의 21번째 질문 샘플: [5762, 617, 2499, 4167]\n",
      "정수 인코딩 후의 21번째 답변 샘플: [2365, 7508, 7, 6271, 97, 1]\n"
     ]
    }
   ],
   "source": [
    "# 임의의 22번째 샘플에 대해서 정수 인코딩 작업을 수행.\n",
    "# 각 토큰을 고유한 정수로 변환\n",
    "print('정수 인코딩 전의 21번째 질문 샘플: {}'.format(questions[21]))\n",
    "print('정수 인코딩 전 21번째 답변 샘플: {}'.format(answers[21]))\n",
    "print('정수 인코딩 후의 21번째 질문 샘플: {}'.format(tokenizer.encode(questions[21])))\n",
    "print('정수 인코딩 후의 21번째 답변 샘플: {}'.format(tokenizer.encode(answers[21])))"
   ]
  },
  {
   "cell_type": "code",
   "execution_count": 58,
   "id": "d5f20598",
   "metadata": {},
   "outputs": [],
   "source": [
    "# 정수 인코딩\n",
    "def tokenize(inputs, outputs):\n",
    "  tokenized_inputs, tokenized_outputs = [], []\n",
    "  \n",
    "  for (sentence1, sentence2) in zip(inputs, outputs):\n",
    "    # 정수 인코딩 과정에서 시작 토큰과 종료 토큰을 추가\n",
    "    sentence1 = START_TOKEN + tokenizer.encode(sentence1) + END_TOKEN\n",
    "    sentence2 = START_TOKEN + tokenizer.encode(sentence2) + END_TOKEN\n",
    "    tokenized_inputs.append(sentence1)\n",
    "    tokenized_outputs.append(sentence2)\n",
    "  \n",
    "  return tokenized_inputs, tokenized_outputs\n",
    "\n",
    "tokenized_questions, tokenized_answers = tokenize(questions, answers)"
   ]
  },
  {
   "cell_type": "code",
   "execution_count": 60,
   "id": "9b716f8a",
   "metadata": {},
   "outputs": [
    {
     "name": "stdout",
     "output_type": "stream",
     "text": [
      "정수 인코딩 후의 21번째 질문 샘플: [8157, 5762, 617, 2499, 4167, 8158]\n",
      "정수 인코딩 후의 21번째 답변 샘플: [8157, 2365, 7508, 7, 6271, 97, 1, 8158]\n"
     ]
    }
   ],
   "source": [
    "print('정수 인코딩 후의 21번째 질문 샘플: {}'.format(tokenized_questions[21]))\n",
    "print('정수 인코딩 후의 21번째 답변 샘플: {}'.format(tokenized_answers[21]))"
   ]
  },
  {
   "cell_type": "code",
   "execution_count": 61,
   "id": "fccbe9dc",
   "metadata": {},
   "outputs": [],
   "source": [
    "question_lengths = [len(q) for q in tokenized_questions]\n",
    "answer_lengths = [len(a) for a in tokenized_answers]"
   ]
  },
  {
   "cell_type": "code",
   "execution_count": 65,
   "id": "04b7827a",
   "metadata": {},
   "outputs": [
    {
     "data": {
      "image/png": "[encoded data removed]",
      "text/plain": [
       "<Figure size 432x288 with 1 Axes>"
      ]
     },
     "metadata": {
      "needs_background": "light"
     },
     "output_type": "display_data"
    }
   ],
   "source": [
    "plt.hist(question_lengths, bins=50, alpha=0.6, label='Questions')\n",
    "plt.hist(answer_lengths, bins=50, alpha=0.6, label='Answers')\n",
    "plt.xlabel('Length')\n",
    "plt.ylabel('Count')\n",
    "plt.title('Token Length Distribution')\n",
    "plt.legend()\n",
    "plt.show()"
   ]
  },
  {
   "cell_type": "code",
   "execution_count": 66,
   "id": "3fac4d7c",
   "metadata": {},
   "outputs": [
    {
     "name": "stdout",
     "output_type": "stream",
     "text": [
      "질문 최대 길이: 23\n",
      "답변 최대 길이: 31\n",
      "95% 질문 길이: 12.0\n",
      "95% 답변 길이: 13.0\n"
     ]
    }
   ],
   "source": [
    "print(\"질문 최대 길이:\", np.max(question_lengths))\n",
    "print(\"답변 최대 길이:\", np.max(answer_lengths))\n",
    "\n",
    "print(\"95% 질문 길이:\", np.percentile(question_lengths, 95))\n",
    "print(\"95% 답변 길이:\", np.percentile(answer_lengths, 95))"
   ]
  },
  {
   "cell_type": "code",
   "execution_count": 77,
   "id": "f924897a",
   "metadata": {},
   "outputs": [],
   "source": [
    "MAX_LENGTH = 15\n",
    "\n",
    "# 최대 길이를 초과하는 샘플 제거, 패딩\n",
    "def filter(inputs, outputs):\n",
    "  filtered_inputs, filtered_outputs = [], []\n",
    "  \n",
    "  for (sentence1, sentence2) in zip(inputs, outputs):\n",
    "    # 최대 길이 15 이하인 경우에만 데이터셋으로 허용\n",
    "    if len(sentence1) <= MAX_LENGTH and len(sentence2) <= MAX_LENGTH:\n",
    "      filtered_inputs.append(sentence1)\n",
    "      filtered_outputs.append(sentence2)\n",
    "  \n",
    "  # 최대 길이 15로 모든 데이터셋을 패딩\n",
    "  filtered_inputs = tf.keras.preprocessing.sequence.pad_sequences(\n",
    "      filtered_inputs, maxlen=MAX_LENGTH, padding='post')\n",
    "  filtered_outputs = tf.keras.preprocessing.sequence.pad_sequences(\n",
    "      filtered_outputs, maxlen=MAX_LENGTH, padding='post')\n",
    "  \n",
    "  return filtered_inputs, filtered_outputs\n",
    "\n",
    "questions, answers = filter(tokenized_questions, tokenized_answers)"
   ]
  },
  {
   "cell_type": "code",
   "execution_count": 78,
   "id": "e51932bf",
   "metadata": {},
   "outputs": [
    {
     "name": "stdout",
     "output_type": "stream",
     "text": [
      "필터링&패딩 후의 21번째 질문 샘플: [8157 5762  617 2499 4167 8158    0    0    0    0    0    0    0    0\n",
      "    0]\n",
      "필터링&패딩 후의 21번째 답변 샘플: [8157 2365 7508    7 6271   97    1 8158    0    0    0    0    0    0\n",
      "    0]\n"
     ]
    }
   ],
   "source": [
    "print('필터링&패딩 후의 21번째 질문 샘플: {}'.format(questions[21]))\n",
    "print('필터링&패딩 후의 21번째 답변 샘플: {}'.format(answers[21]))"
   ]
  },
  {
   "cell_type": "code",
   "execution_count": 79,
   "id": "42cffcf7",
   "metadata": {},
   "outputs": [
    {
     "name": "stdout",
     "output_type": "stream",
     "text": [
      "단어장의 크기 : 8159\n",
      "필터링 후의 질문 샘플 개수: 11569\n",
      "필터링 후의 답변 샘플 개수: 11569\n"
     ]
    }
   ],
   "source": [
    "print('단어장의 크기 :',(VOCAB_SIZE))\n",
    "print('필터링 후의 질문 샘플 개수: {}'.format(len(questions)))\n",
    "print('필터링 후의 답변 샘플 개수: {}'.format(len(answers)))"
   ]
  },
  {
   "cell_type": "code",
   "execution_count": 80,
   "id": "abb0d573",
   "metadata": {},
   "outputs": [
    {
     "name": "stdout",
     "output_type": "stream",
     "text": [
      "슝=3\n"
     ]
    }
   ],
   "source": [
    "BATCH_SIZE = 64\n",
    "BUFFER_SIZE = 10000\n",
    "\n",
    "# 디코더는 이전의 target을 다음의 input으로 사용합니다.\n",
    "# 이에 따라 outputs에서는 START_TOKEN을 제거하겠습니다.\n",
    "dataset = tf.data.Dataset.from_tensor_slices((\n",
    "    {\n",
    "        'inputs': questions,\n",
    "        'dec_inputs': answers[:, :-1]\n",
    "    },\n",
    "    {\n",
    "        'outputs': answers[:, 1:]\n",
    "    },\n",
    "))\n",
    "\n",
    "dataset = dataset.cache()\n",
    "dataset = dataset.shuffle(BUFFER_SIZE)\n",
    "dataset = dataset.batch(BATCH_SIZE)\n",
    "dataset = dataset.prefetch(tf.data.experimental.AUTOTUNE)\n",
    "print(\"슝=3\")"
   ]
  },
  {
   "cell_type": "markdown",
   "id": "a1a9082c",
   "metadata": {},
   "source": [
    "## 모델 구성"
   ]
  },
  {
   "cell_type": "markdown",
   "id": "acf95cdf",
   "metadata": {},
   "source": [
    "### 포지셔널 인코딩 레이어"
   ]
  },
  {
   "cell_type": "code",
   "execution_count": 81,
   "id": "c432ea36",
   "metadata": {},
   "outputs": [
    {
     "name": "stdout",
     "output_type": "stream",
     "text": [
      "슝=3\n"
     ]
    }
   ],
   "source": [
    "# 포지셔널 인코딩 레이어\n",
    "class PositionalEncoding(tf.keras.layers.Layer):\n",
    "\n",
    "  def __init__(self, position, d_model):\n",
    "    super(PositionalEncoding, self).__init__()\n",
    "    self.pos_encoding = self.positional_encoding(position, d_model)\n",
    "\n",
    "  def get_angles(self, position, i, d_model):\n",
    "    angles = 1 / tf.pow(10000, (2 * (i // 2)) / tf.cast(d_model, tf.float32))\n",
    "    return position * angles\n",
    "\n",
    "  def positional_encoding(self, position, d_model):\n",
    "    # 각도 배열 생성\n",
    "    angle_rads = self.get_angles(\n",
    "        position=tf.range(position, dtype=tf.float32)[:, tf.newaxis], # 0부터 position-1까지의 1차원 벡터를 만들고, (position, 1) 2차원 벡터로 reshape.\n",
    "        i=tf.range(d_model, dtype=tf.float32)[tf.newaxis, :],\n",
    "        d_model=d_model)\n",
    "\n",
    "    # 배열의 짝수 인덱스에는 sin 함수 적용\n",
    "    sines = tf.math.sin(angle_rads[:, 0::2])\n",
    "    # 배열의 홀수 인덱스에는 cosine 함수 적용\n",
    "    cosines = tf.math.cos(angle_rads[:, 1::2])\n",
    "\n",
    "    # sin과 cosine이 교차되도록 재배열\n",
    "    pos_encoding = tf.stack([sines, cosines], axis=0)\n",
    "    pos_encoding = tf.transpose(pos_encoding,[1, 2, 0]) # 텐서의 차원 순서를 바꿔서 sin cos 번갈아 나오도록\n",
    "    pos_encoding = tf.reshape(pos_encoding, [position, d_model]) # rank 3에서 rank 2로 변경\n",
    "\n",
    "    pos_encoding = pos_encoding[tf.newaxis, ...] # 배치 크기 1짜리 텐서로 만들어줌 (rank 2에서 rank 3로)\n",
    "    return tf.cast(pos_encoding, tf.float32)\n",
    "\n",
    "  def call(self, inputs):\n",
    "    return inputs + self.pos_encoding[:, :tf.shape(inputs)[1], :]\n",
    "\n",
    "print(\"슝=3\")"
   ]
  },
  {
   "cell_type": "markdown",
   "id": "ea5a267d",
   "metadata": {},
   "source": [
    "### 스케일드 닷 프로덕트 어텐션 함수"
   ]
  },
  {
   "cell_type": "code",
   "execution_count": 82,
   "id": "c270017f",
   "metadata": {},
   "outputs": [
    {
     "name": "stdout",
     "output_type": "stream",
     "text": [
      "슝=3\n"
     ]
    }
   ],
   "source": [
    "# 스케일드 닷 프로덕트 어텐션 함수\n",
    "def scaled_dot_product_attention(query, key, value, mask):\n",
    "  # 어텐션 가중치는 Q와 K의 닷 프로덕트\n",
    "  matmul_qk = tf.matmul(query, key, transpose_b=True)\n",
    "\n",
    "  # 가중치를 정규화\n",
    "  depth = tf.cast(tf.shape(key)[-1], tf.float32)\n",
    "  logits = matmul_qk / tf.math.sqrt(depth)\n",
    "\n",
    "  # 패딩에 마스크 추가\n",
    "  if mask is not None:\n",
    "    logits += (mask * -1e9)\n",
    "\n",
    "  # softmax적용\n",
    "  attention_weights = tf.nn.softmax(logits, axis=-1)\n",
    "\n",
    "  # 최종 어텐션은 가중치와 V의 닷 프로덕트\n",
    "  output = tf.matmul(attention_weights, value)\n",
    "  return output\n",
    "\n",
    "print(\"슝=3\")"
   ]
  },
  {
   "cell_type": "markdown",
   "id": "ed9116ea",
   "metadata": {},
   "source": [
    "### 멀티헤드 어텐션"
   ]
  },
  {
   "cell_type": "code",
   "execution_count": 83,
   "id": "be1cf57a",
   "metadata": {},
   "outputs": [
    {
     "name": "stdout",
     "output_type": "stream",
     "text": [
      "슝=3\n"
     ]
    }
   ],
   "source": [
    "class MultiHeadAttention(tf.keras.layers.Layer):\n",
    "\n",
    "  def __init__(self, d_model, num_heads, name=\"multi_head_attention\"):\n",
    "    super(MultiHeadAttention, self).__init__(name=name)\n",
    "    self.num_heads = num_heads\n",
    "    self.d_model = d_model\n",
    "\n",
    "    assert d_model % self.num_heads == 0\n",
    "\n",
    "    self.depth = d_model // self.num_heads\n",
    "\n",
    "    self.query_dense = tf.keras.layers.Dense(units=d_model)\n",
    "    self.key_dense = tf.keras.layers.Dense(units=d_model)\n",
    "    self.value_dense = tf.keras.layers.Dense(units=d_model)\n",
    "\n",
    "    self.dense = tf.keras.layers.Dense(units=d_model)\n",
    "\n",
    "  def split_heads(self, inputs, batch_size):\n",
    "    inputs = tf.reshape(\n",
    "        inputs, shape=(batch_size, -1, self.num_heads, self.depth))\n",
    "    return tf.transpose(inputs, perm=[0, 2, 1, 3])\n",
    "\n",
    "  def call(self, inputs):\n",
    "    query, key, value, mask = inputs['query'], inputs['key'], inputs[\n",
    "        'value'], inputs['mask']\n",
    "    batch_size = tf.shape(query)[0]\n",
    "\n",
    "    # Q, K, V에 각각 Dense를 적용합니다\n",
    "    query = self.query_dense(query)\n",
    "    key = self.key_dense(key)\n",
    "    value = self.value_dense(value)\n",
    "\n",
    "    # 병렬 연산을 위한 머리를 여러 개 만듭니다\n",
    "    query = self.split_heads(query, batch_size)\n",
    "    key = self.split_heads(key, batch_size)\n",
    "    value = self.split_heads(value, batch_size)\n",
    "\n",
    "    # 스케일드 닷 프로덕트 어텐션 함수\n",
    "    scaled_attention = scaled_dot_product_attention(query, key, value, mask)\n",
    "\n",
    "    scaled_attention = tf.transpose(scaled_attention, perm=[0, 2, 1, 3])\n",
    "\n",
    "    # 어텐션 연산 후에 각 결과를 다시 연결(concatenate)합니다\n",
    "    concat_attention = tf.reshape(scaled_attention,\n",
    "                                  (batch_size, -1, self.d_model))\n",
    "\n",
    "    # 최종 결과에도 Dense를 한 번 더 적용합니다\n",
    "    outputs = self.dense(concat_attention)\n",
    "\n",
    "    return outputs\n",
    "print(\"슝=3\")"
   ]
  },
  {
   "cell_type": "markdown",
   "id": "852d9d1d",
   "metadata": {},
   "source": [
    "### 패딩 마스킹"
   ]
  },
  {
   "cell_type": "code",
   "execution_count": 84,
   "id": "a8a9e2c5",
   "metadata": {},
   "outputs": [
    {
     "name": "stdout",
     "output_type": "stream",
     "text": [
      "슝=3\n"
     ]
    }
   ],
   "source": [
    "def create_padding_mask(x):\n",
    "  mask = tf.cast(tf.math.equal(x, 0), tf.float32)\n",
    "  # (batch_size, 1, 1, sequence length)\n",
    "  return mask[:, tf.newaxis, tf.newaxis, :]\n",
    "print(\"슝=3\")"
   ]
  },
  {
   "cell_type": "markdown",
   "id": "576a157c",
   "metadata": {},
   "source": [
    "### 룩 어헤드 마스킹"
   ]
  },
  {
   "cell_type": "code",
   "execution_count": 85,
   "id": "6407c177",
   "metadata": {},
   "outputs": [
    {
     "name": "stdout",
     "output_type": "stream",
     "text": [
      "슝=3\n"
     ]
    }
   ],
   "source": [
    "def create_look_ahead_mask(x):\n",
    "  seq_len = tf.shape(x)[1] # 시퀀스 길이\n",
    "  look_ahead_mask = 1 - tf.linalg.band_part(tf.ones((seq_len, seq_len)), -1, 0) # 1에서 하삼각 행렬을 빼서 마스크 생성\n",
    "  padding_mask = create_padding_mask(x)\n",
    "  return tf.maximum(look_ahead_mask, padding_mask) # 두 마스크를 합치는 부분\n",
    "print(\"슝=3\")"
   ]
  },
  {
   "cell_type": "markdown",
   "id": "92de6f66",
   "metadata": {},
   "source": [
    "### 인코더"
   ]
  },
  {
   "cell_type": "markdown",
   "id": "fe2b4f47",
   "metadata": {},
   "source": [
    "#### 인코더 레이어 함수"
   ]
  },
  {
   "cell_type": "code",
   "execution_count": 86,
   "id": "13049a6e",
   "metadata": {},
   "outputs": [
    {
     "name": "stdout",
     "output_type": "stream",
     "text": [
      "슝=3\n"
     ]
    }
   ],
   "source": [
    "# 인코더 하나의 레이어를 함수로 구현.\n",
    "# 이 하나의 레이어 안에는 두 개의 서브 레이어가 존재합니다.\n",
    "def encoder_layer(units, d_model, num_heads, dropout, name=\"encoder_layer\"):\n",
    "  inputs = tf.keras.Input(shape=(None, d_model), name=\"inputs\")\n",
    "\n",
    "  # 패딩 마스크 사용\n",
    "  padding_mask = tf.keras.Input(shape=(1, 1, None), name=\"padding_mask\")\n",
    "\n",
    "  # 첫 번째 서브 레이어 : 멀티 헤드 어텐션 수행 (셀프 어텐션)\n",
    "  attention = MultiHeadAttention(\n",
    "      d_model, num_heads, name=\"attention\")({\n",
    "          'query': inputs,\n",
    "          'key': inputs,\n",
    "          'value': inputs,\n",
    "          'mask': padding_mask\n",
    "      })\n",
    "\n",
    "  # 어텐션의 결과는 Dropout과 Layer Normalization이라는 훈련을 돕는 테크닉을 수행\n",
    "  attention = tf.keras.layers.Dropout(rate=dropout)(attention)\n",
    "  attention = tf.keras.layers.LayerNormalization(\n",
    "      epsilon=1e-6)(inputs + attention) # residual connection\n",
    "\n",
    "  # 두 번째 서브 레이어 : 2개의 완전연결층\n",
    "  outputs = tf.keras.layers.Dense(units=units, activation='relu')(attention)\n",
    "  outputs = tf.keras.layers.Dense(units=d_model)(outputs)\n",
    "\n",
    "  # 완전연결층의 결과는 Dropout과 LayerNormalization이라는 훈련을 돕는 테크닉을 수행\n",
    "  outputs = tf.keras.layers.Dropout(rate=dropout)(outputs)\n",
    "  outputs = tf.keras.layers.LayerNormalization(\n",
    "      epsilon=1e-6)(attention + outputs) # residual connection\n",
    "\n",
    "  return tf.keras.Model(\n",
    "      inputs=[inputs, padding_mask], outputs=outputs, name=name)\n",
    "print(\"슝=3\")"
   ]
  },
  {
   "cell_type": "markdown",
   "id": "a29f9180",
   "metadata": {},
   "source": [
    "#### 인코더 구현"
   ]
  },
  {
   "cell_type": "code",
   "execution_count": 87,
   "id": "9ed9b3f2",
   "metadata": {},
   "outputs": [
    {
     "name": "stdout",
     "output_type": "stream",
     "text": [
      "슝=3\n"
     ]
    }
   ],
   "source": [
    "def encoder(vocab_size,\n",
    "            num_layers,\n",
    "            units,\n",
    "            d_model,\n",
    "            num_heads,\n",
    "            dropout,\n",
    "            name=\"encoder\"):\n",
    "  inputs = tf.keras.Input(shape=(None,), name=\"inputs\")\n",
    "\n",
    "  # 패딩 마스크 사용\n",
    "  padding_mask = tf.keras.Input(shape=(1, 1, None), name=\"padding_mask\")\n",
    "\n",
    "  # 임베딩 레이어\n",
    "  embeddings = tf.keras.layers.Embedding(vocab_size, d_model)(inputs)\n",
    "  embeddings *= tf.math.sqrt(tf.cast(d_model, tf.float32))\n",
    "\n",
    "  # 포지셔널 인코딩\n",
    "  embeddings = PositionalEncoding(MAX_LENGTH, d_model)(embeddings)\n",
    "\n",
    "  outputs = tf.keras.layers.Dropout(rate=dropout)(embeddings)\n",
    "\n",
    "  # num_layers만큼 쌓아올린 인코더의 층.\n",
    "  for i in range(num_layers):\n",
    "    outputs = encoder_layer(\n",
    "        units=units,\n",
    "        d_model=d_model,\n",
    "        num_heads=num_heads,\n",
    "        dropout=dropout,\n",
    "        name=\"encoder_layer_{}\".format(i),\n",
    "    )([outputs, padding_mask])\n",
    "\n",
    "  return tf.keras.Model(\n",
    "      inputs=[inputs, padding_mask], outputs=outputs, name=name)\n",
    "print(\"슝=3\")"
   ]
  },
  {
   "cell_type": "markdown",
   "id": "672851e6",
   "metadata": {},
   "source": [
    "### 디코더"
   ]
  },
  {
   "cell_type": "markdown",
   "id": "7cc3ccb9",
   "metadata": {},
   "source": [
    "#### 디코더 레이어 함수"
   ]
  },
  {
   "cell_type": "code",
   "execution_count": 88,
   "id": "2750e08c",
   "metadata": {},
   "outputs": [
    {
     "name": "stdout",
     "output_type": "stream",
     "text": [
      "슝=3\n"
     ]
    }
   ],
   "source": [
    "# 디코더 하나의 레이어를 함수로 구현.\n",
    "# 이 하나의 레이어 안에는 세 개의 서브 레이어가 존재합니다.\n",
    "def decoder_layer(units, d_model, num_heads, dropout, name=\"decoder_layer\"):\n",
    "  inputs = tf.keras.Input(shape=(None, d_model), name=\"inputs\")\n",
    "  enc_outputs = tf.keras.Input(shape=(None, d_model), name=\"encoder_outputs\")\n",
    "  look_ahead_mask = tf.keras.Input(\n",
    "      shape=(1, None, None), name=\"look_ahead_mask\")\n",
    "  padding_mask = tf.keras.Input(shape=(1, 1, None), name='padding_mask')\n",
    "\n",
    "  # 첫 번째 서브 레이어 : 마스크드 멀티 헤드 어텐션 수행 (셀프 어텐션)\n",
    "  attention1 = MultiHeadAttention(\n",
    "      d_model, num_heads, name=\"attention_1\")(inputs={\n",
    "          'query': inputs,\n",
    "          'key': inputs,\n",
    "          'value': inputs,\n",
    "          'mask': look_ahead_mask\n",
    "      })\n",
    "\n",
    "  # 어텐션의 결과는 LayerNormalization이라는 훈련을 돕는 테크닉을 수행\n",
    "  attention1 = tf.keras.layers.LayerNormalization(\n",
    "      epsilon=1e-6)(attention1 + inputs)\n",
    "\n",
    "  # 두 번째 서브 레이어 : 멀티 헤드 어텐션 수행 (인코더-디코더 어텐션)\n",
    "  attention2 = MultiHeadAttention(\n",
    "      d_model, num_heads, name=\"attention_2\")(inputs={\n",
    "          'query': attention1,\n",
    "          'key': enc_outputs,\n",
    "          'value': enc_outputs,\n",
    "          'mask': padding_mask\n",
    "      })\n",
    "\n",
    "  # 멀티 헤드 어텐션의 결과는\n",
    "  # Dropout과 LayerNormalization이라는 훈련을 돕는 테크닉을 수행\n",
    "  attention2 = tf.keras.layers.Dropout(rate=dropout)(attention2)\n",
    "  attention2 = tf.keras.layers.LayerNormalization(\n",
    "      epsilon=1e-6)(attention2 + attention1)\n",
    "\n",
    "  # 세 번째 서브 레이어 : 2개의 완전연결층\n",
    "  outputs = tf.keras.layers.Dense(units=units, activation='relu')(attention2)\n",
    "  outputs = tf.keras.layers.Dense(units=d_model)(outputs)\n",
    "\n",
    "  # 완전연결층의 결과는 Dropout과 LayerNormalization 수행\n",
    "  outputs = tf.keras.layers.Dropout(rate=dropout)(outputs)\n",
    "  outputs = tf.keras.layers.LayerNormalization(\n",
    "      epsilon=1e-6)(outputs + attention2)\n",
    "\n",
    "  return tf.keras.Model(\n",
    "      inputs=[inputs, enc_outputs, look_ahead_mask, padding_mask],\n",
    "      outputs=outputs,\n",
    "      name=name)\n",
    "print(\"슝=3\")"
   ]
  },
  {
   "cell_type": "markdown",
   "id": "94d69c19",
   "metadata": {},
   "source": [
    "#### 디코더 구현"
   ]
  },
  {
   "cell_type": "code",
   "execution_count": 89,
   "id": "c0a2007a",
   "metadata": {},
   "outputs": [
    {
     "name": "stdout",
     "output_type": "stream",
     "text": [
      "슝=3\n"
     ]
    }
   ],
   "source": [
    "def decoder(vocab_size,\n",
    "            num_layers,\n",
    "            units,\n",
    "            d_model,\n",
    "            num_heads,\n",
    "            dropout,\n",
    "            name='decoder'):\n",
    "  inputs = tf.keras.Input(shape=(None,), name='inputs')\n",
    "  enc_outputs = tf.keras.Input(shape=(None, d_model), name='encoder_outputs')\n",
    "  look_ahead_mask = tf.keras.Input(\n",
    "      shape=(1, None, None), name='look_ahead_mask')\n",
    "\n",
    "  # 패딩 마스크\n",
    "  padding_mask = tf.keras.Input(shape=(1, 1, None), name='padding_mask')\n",
    "  \n",
    "  # 임베딩 레이어\n",
    "  embeddings = tf.keras.layers.Embedding(vocab_size, d_model)(inputs)\n",
    "  embeddings *= tf.math.sqrt(tf.cast(d_model, tf.float32))\n",
    "\n",
    "  # 포지셔널 인코딩\n",
    "  embeddings = PositionalEncoding(vocab_size, d_model)(embeddings)\n",
    "\n",
    "  # Dropout이라는 훈련을 돕는 테크닉을 수행\n",
    "  outputs = tf.keras.layers.Dropout(rate=dropout)(embeddings)\n",
    "\n",
    "  for i in range(num_layers):\n",
    "    outputs = decoder_layer(\n",
    "        units=units,\n",
    "        d_model=d_model,\n",
    "        num_heads=num_heads,\n",
    "        dropout=dropout,\n",
    "        name='decoder_layer_{}'.format(i),\n",
    "    )(inputs=[outputs, enc_outputs, look_ahead_mask, padding_mask])\n",
    "\n",
    "  return tf.keras.Model(\n",
    "      inputs=[inputs, enc_outputs, look_ahead_mask, padding_mask],\n",
    "      outputs=outputs,\n",
    "      name=name)\n",
    "print(\"슝=3\")"
   ]
  },
  {
   "cell_type": "markdown",
   "id": "06f7f667",
   "metadata": {},
   "source": [
    "### 트랜스포머 정의"
   ]
  },
  {
   "cell_type": "code",
   "execution_count": 90,
   "id": "ae88cb66",
   "metadata": {},
   "outputs": [
    {
     "name": "stdout",
     "output_type": "stream",
     "text": [
      "슝=3\n"
     ]
    }
   ],
   "source": [
    "def transformer(vocab_size,\n",
    "                num_layers,\n",
    "                units,\n",
    "                d_model,\n",
    "                num_heads,\n",
    "                dropout,\n",
    "                name=\"transformer\"):\n",
    "  inputs = tf.keras.Input(shape=(None,), name=\"inputs\")\n",
    "  dec_inputs = tf.keras.Input(shape=(None,), name=\"dec_inputs\")\n",
    "\n",
    "  # 인코더의 self-attention에서 패딩 토큰(<pad>)을 무시하기 위한 마스크입니다.\n",
    "  enc_padding_mask = tf.keras.layers.Lambda(\n",
    "      create_padding_mask, output_shape=(1, 1, None),\n",
    "      name='enc_padding_mask')(inputs)\n",
    "\n",
    "  # 디코더의 첫 번째 self-attention에서 미래 토큰을 가리기 위한 마스크입니다.\n",
    "  # 필요시 padding mask와 결합하여 사용됩니다 (이 코드에서는 padding mask 포함 X).\n",
    "  look_ahead_mask = tf.keras.layers.Lambda(\n",
    "      create_look_ahead_mask,\n",
    "      output_shape=(1, None, None),\n",
    "      name='look_ahead_mask')(dec_inputs)\n",
    "\n",
    "  # 디코더의 두 번째 인코더-디코더 어텐션 블록에서 인코더 입력의 패딩 토큰을 마스킹합니다.\n",
    "  dec_padding_mask = tf.keras.layers.Lambda(\n",
    "      create_padding_mask, output_shape=(1, 1, None),\n",
    "      name='dec_padding_mask')(inputs)\n",
    "\n",
    "  # 인코더\n",
    "  enc_outputs = encoder(\n",
    "      vocab_size=vocab_size,\n",
    "      num_layers=num_layers,\n",
    "      units=units,\n",
    "      d_model=d_model,\n",
    "      num_heads=num_heads,\n",
    "      dropout=dropout,\n",
    "  )(inputs=[inputs, enc_padding_mask])\n",
    "\n",
    "  # 디코더\n",
    "  dec_outputs = decoder(\n",
    "      vocab_size=vocab_size,\n",
    "      num_layers=num_layers,\n",
    "      units=units,\n",
    "      d_model=d_model,\n",
    "      num_heads=num_heads,\n",
    "      dropout=dropout,\n",
    "  )(inputs=[dec_inputs, enc_outputs, look_ahead_mask, dec_padding_mask])\n",
    "\n",
    "  # 완전연결층\n",
    "  outputs = tf.keras.layers.Dense(units=vocab_size, name=\"outputs\")(dec_outputs)\n",
    "\n",
    "  return tf.keras.Model(inputs=[inputs, dec_inputs], outputs=outputs, name=name)\n",
    "print(\"슝=3\")"
   ]
  },
  {
   "cell_type": "markdown",
   "id": "603a1706",
   "metadata": {},
   "source": [
    "### 모델 생성"
   ]
  },
  {
   "cell_type": "code",
   "execution_count": 91,
   "id": "5771a62d",
   "metadata": {
    "scrolled": false
   },
   "outputs": [
    {
     "name": "stdout",
     "output_type": "stream",
     "text": [
      "Model: \"transformer\"\n",
      "__________________________________________________________________________________________________\n",
      "Layer (type)                    Output Shape         Param #     Connected to                     \n",
      "==================================================================================================\n",
      "inputs (InputLayer)             [(None, None)]       0                                            \n",
      "__________________________________________________________________________________________________\n",
      "dec_inputs (InputLayer)         [(None, None)]       0                                            \n",
      "__________________________________________________________________________________________________\n",
      "enc_padding_mask (Lambda)       (None, 1, 1, None)   0           inputs[0][0]                     \n",
      "__________________________________________________________________________________________________\n",
      "encoder (Functional)            (None, None, 256)    3142912     inputs[0][0]                     \n",
      "                                                                 enc_padding_mask[0][0]           \n",
      "__________________________________________________________________________________________________\n",
      "look_ahead_mask (Lambda)        (None, 1, None, None 0           dec_inputs[0][0]                 \n",
      "__________________________________________________________________________________________________\n",
      "dec_padding_mask (Lambda)       (None, 1, 1, None)   0           inputs[0][0]                     \n",
      "__________________________________________________________________________________________________\n",
      "decoder (Functional)            (None, None, 256)    3670272     dec_inputs[0][0]                 \n",
      "                                                                 encoder[0][0]                    \n",
      "                                                                 look_ahead_mask[0][0]            \n",
      "                                                                 dec_padding_mask[0][0]           \n",
      "__________________________________________________________________________________________________\n",
      "outputs (Dense)                 (None, None, 8159)   2096863     decoder[0][0]                    \n",
      "==================================================================================================\n",
      "Total params: 8,910,047\n",
      "Trainable params: 8,910,047\n",
      "Non-trainable params: 0\n",
      "__________________________________________________________________________________________________\n"
     ]
    }
   ],
   "source": [
    "tf.keras.backend.clear_session()\n",
    "\n",
    "# 하이퍼파라미터\n",
    "NUM_LAYERS = 2 # 인코더와 디코더의 층의 개수\n",
    "D_MODEL = 256 # 인코더와 디코더 내부의 입, 출력의 고정 차원\n",
    "NUM_HEADS = 8 # 멀티 헤드 어텐션에서의 헤드 수 \n",
    "UNITS = 512 # 피드 포워드 신경망의 은닉층의 크기\n",
    "DROPOUT = 0.1 # 드롭아웃의 비율\n",
    "\n",
    "model = transformer(\n",
    "    vocab_size=VOCAB_SIZE,\n",
    "    num_layers=NUM_LAYERS,\n",
    "    units=UNITS,\n",
    "    d_model=D_MODEL,\n",
    "    num_heads=NUM_HEADS,\n",
    "    dropout=DROPOUT)\n",
    "\n",
    "model.summary()"
   ]
  },
  {
   "cell_type": "markdown",
   "id": "5058d082",
   "metadata": {},
   "source": [
    "## 모델 컴파일 및 학습 진행"
   ]
  },
  {
   "cell_type": "markdown",
   "id": "0abec47b",
   "metadata": {},
   "source": [
    "### 손실 함수 정의"
   ]
  },
  {
   "cell_type": "code",
   "execution_count": 92,
   "id": "197059c9",
   "metadata": {
    "scrolled": true
   },
   "outputs": [
    {
     "name": "stdout",
     "output_type": "stream",
     "text": [
      "슝=3\n"
     ]
    }
   ],
   "source": [
    "def loss_function(y_true, y_pred):\n",
    "  y_true = tf.reshape(y_true, shape=(-1, MAX_LENGTH - 1))\n",
    "  \n",
    "  loss = tf.keras.losses.SparseCategoricalCrossentropy(\n",
    "      from_logits=True, reduction='none')(y_true, y_pred)\n",
    "\n",
    "  mask = tf.cast(tf.not_equal(y_true, 0), tf.float32)\n",
    "  loss = tf.multiply(loss, mask)\n",
    "\n",
    "  return tf.reduce_mean(loss)\n",
    "print(\"슝=3\")"
   ]
  },
  {
   "cell_type": "markdown",
   "id": "8cba96a1",
   "metadata": {},
   "source": [
    "### 커스텀된 학습률"
   ]
  },
  {
   "cell_type": "code",
   "execution_count": 93,
   "id": "1b7a9c4a",
   "metadata": {},
   "outputs": [
    {
     "name": "stdout",
     "output_type": "stream",
     "text": [
      "슝=3\n"
     ]
    }
   ],
   "source": [
    "class CustomSchedule(tf.keras.optimizers.schedules.LearningRateSchedule):\n",
    "\n",
    "  def __init__(self, d_model, warmup_steps=4000):\n",
    "    super(CustomSchedule, self).__init__()\n",
    "\n",
    "    self.d_model = d_model\n",
    "    self.d_model = tf.cast(self.d_model, tf.float32)\n",
    "\n",
    "    self.warmup_steps = warmup_steps\n",
    "\n",
    "  def __call__(self, step):\n",
    "    arg1 = tf.math.rsqrt(step)\n",
    "    arg2 = step * (self.warmup_steps**-1.5)\n",
    "\n",
    "    return tf.math.rsqrt(self.d_model) * tf.math.minimum(arg1, arg2)\n",
    "print(\"슝=3\")"
   ]
  },
  {
   "cell_type": "markdown",
   "id": "3382aa40",
   "metadata": {},
   "source": [
    "### 모델 컴파일"
   ]
  },
  {
   "cell_type": "code",
   "execution_count": 96,
   "id": "cdf463df",
   "metadata": {},
   "outputs": [
    {
     "name": "stdout",
     "output_type": "stream",
     "text": [
      "슝=3\n"
     ]
    }
   ],
   "source": [
    "learning_rate = CustomSchedule(D_MODEL, warmup_steps=5000)\n",
    "\n",
    "optimizer = tf.keras.optimizers.Adam(\n",
    "    learning_rate, beta_1=0.9, beta_2=0.98, epsilon=1e-9)\n",
    "\n",
    "def accuracy(y_true, y_pred):\n",
    "  y_true = tf.reshape(y_true, shape=(-1, MAX_LENGTH - 1))\n",
    "  return tf.keras.metrics.sparse_categorical_accuracy(y_true, y_pred)\n",
    "\n",
    "model.compile(optimizer=optimizer, loss=loss_function, metrics=[accuracy])\n",
    "print(\"슝=3\")"
   ]
  },
  {
   "cell_type": "markdown",
   "id": "df9e58c0",
   "metadata": {},
   "source": [
    "### 훈련하기"
   ]
  },
  {
   "cell_type": "code",
   "execution_count": 97,
   "id": "443c39ab",
   "metadata": {},
   "outputs": [
    {
     "name": "stdout",
     "output_type": "stream",
     "text": [
      "Epoch 1/30\n",
      "181/181 [==============================] - 12s 35ms/step - loss: 1.1589 - accuracy: 0.2890\n",
      "Epoch 2/30\n",
      "181/181 [==============================] - 6s 34ms/step - loss: 1.1273 - accuracy: 0.2937\n",
      "Epoch 3/30\n",
      "181/181 [==============================] - 6s 34ms/step - loss: 1.0884 - accuracy: 0.2992\n",
      "Epoch 4/30\n",
      "181/181 [==============================] - 6s 34ms/step - loss: 1.0358 - accuracy: 0.3073\n",
      "Epoch 5/30\n",
      "181/181 [==============================] - 6s 35ms/step - loss: 0.9725 - accuracy: 0.3165\n",
      "Epoch 6/30\n",
      "181/181 [==============================] - 6s 34ms/step - loss: 0.8957 - accuracy: 0.3278\n",
      "Epoch 7/30\n",
      "181/181 [==============================] - 6s 34ms/step - loss: 0.8087 - accuracy: 0.3411\n",
      "Epoch 8/30\n",
      "181/181 [==============================] - 6s 34ms/step - loss: 0.7152 - accuracy: 0.3553\n",
      "Epoch 9/30\n",
      "181/181 [==============================] - 6s 34ms/step - loss: 0.6173 - accuracy: 0.3714\n",
      "Epoch 10/30\n",
      "181/181 [==============================] - 6s 34ms/step - loss: 0.5215 - accuracy: 0.3867\n",
      "Epoch 11/30\n",
      "181/181 [==============================] - 6s 33ms/step - loss: 0.4292 - accuracy: 0.4022\n",
      "Epoch 12/30\n",
      "181/181 [==============================] - 6s 34ms/step - loss: 0.3434 - accuracy: 0.4181\n",
      "Epoch 13/30\n",
      "181/181 [==============================] - 6s 33ms/step - loss: 0.2669 - accuracy: 0.4320\n",
      "Epoch 14/30\n",
      "181/181 [==============================] - 6s 34ms/step - loss: 0.2054 - accuracy: 0.4422\n",
      "Epoch 15/30\n",
      "181/181 [==============================] - 6s 34ms/step - loss: 0.1561 - accuracy: 0.4509\n",
      "Epoch 16/30\n",
      "181/181 [==============================] - 6s 34ms/step - loss: 0.1222 - accuracy: 0.4552\n",
      "Epoch 17/30\n",
      "181/181 [==============================] - 6s 34ms/step - loss: 0.0985 - accuracy: 0.4584\n",
      "Epoch 18/30\n",
      "181/181 [==============================] - 6s 34ms/step - loss: 0.0851 - accuracy: 0.4599\n",
      "Epoch 19/30\n",
      "181/181 [==============================] - 6s 34ms/step - loss: 0.0767 - accuracy: 0.4608\n",
      "Epoch 20/30\n",
      "181/181 [==============================] - 6s 34ms/step - loss: 0.0712 - accuracy: 0.4611\n",
      "Epoch 21/30\n",
      "181/181 [==============================] - 6s 34ms/step - loss: 0.0670 - accuracy: 0.4618\n",
      "Epoch 22/30\n",
      "181/181 [==============================] - 6s 34ms/step - loss: 0.0656 - accuracy: 0.4618\n",
      "Epoch 23/30\n",
      "181/181 [==============================] - 6s 34ms/step - loss: 0.0633 - accuracy: 0.4622\n",
      "Epoch 24/30\n",
      "181/181 [==============================] - 6s 34ms/step - loss: 0.0623 - accuracy: 0.4622\n",
      "Epoch 25/30\n",
      "181/181 [==============================] - 6s 34ms/step - loss: 0.0623 - accuracy: 0.4622\n",
      "Epoch 26/30\n",
      "181/181 [==============================] - 6s 34ms/step - loss: 0.0610 - accuracy: 0.4621\n",
      "Epoch 27/30\n",
      "181/181 [==============================] - 6s 34ms/step - loss: 0.0613 - accuracy: 0.4618\n",
      "Epoch 28/30\n",
      "181/181 [==============================] - 6s 34ms/step - loss: 0.0632 - accuracy: 0.4613\n",
      "Epoch 29/30\n",
      "181/181 [==============================] - 6s 34ms/step - loss: 0.0574 - accuracy: 0.4625\n",
      "Epoch 30/30\n",
      "181/181 [==============================] - 6s 34ms/step - loss: 0.0536 - accuracy: 0.4634\n"
     ]
    },
    {
     "data": {
      "text/plain": [
       "<keras.callbacks.History at 0x7ff5ecca01c0>"
      ]
     },
     "execution_count": 97,
     "metadata": {},
     "output_type": "execute_result"
    }
   ],
   "source": [
    "EPOCHS = 30\n",
    "model.fit(dataset, epochs=EPOCHS, verbose=1)"
   ]
  },
  {
   "cell_type": "markdown",
   "id": "ffa01983",
   "metadata": {},
   "source": [
    "## 챗봇 테스트"
   ]
  },
  {
   "cell_type": "markdown",
   "id": "9cb66036",
   "metadata": {},
   "source": [
    "### 디코더 인퍼런스 함수 구현"
   ]
  },
  {
   "cell_type": "code",
   "execution_count": 184,
   "id": "a78de9e9",
   "metadata": {},
   "outputs": [
    {
     "name": "stdout",
     "output_type": "stream",
     "text": [
      "슝=3\n"
     ]
    }
   ],
   "source": [
    "def decoder_inference(sentence):\n",
    "  sentence = preprocess_sentence(sentence)\n",
    "  print(sentence)\n",
    "\n",
    "  # 입력된 문장을 정수 인코딩 후, 시작 토큰과 종료 토큰을 앞뒤로 추가.\n",
    "  sentence = tf.expand_dims(\n",
    "      START_TOKEN + tokenizer.encode(sentence) + END_TOKEN, axis=0)\n",
    "  print(sentence[0])\n",
    "  print(tokenizer.decode(sentence[0].numpy()[1:-5]))\n",
    "  print(len(sentence[0]))\n",
    "\n",
    "  # 입력 길이 확인 (추가)\n",
    "  if len(sentence[0]) > MAX_LENGTH:\n",
    "      print(\"[ERROR] 입력 문장이 너무 깁니다. 최대 길이:\", MAX_LENGTH)\n",
    "      return tf.constant([])\n",
    "\n",
    "  # 디코더의 현재까지의 예측한 출력 시퀀스가 지속적으로 저장되는 변수.\n",
    "  # 처음에는 예측한 내용이 없음으로 시작 토큰만 별도 저장. ex) 8331\n",
    "  output_sequence = tf.expand_dims(START_TOKEN, 0)\n",
    "\n",
    "  # 디코더의 인퍼런스 단계\n",
    "  for i in range(MAX_LENGTH):\n",
    "    # 디코더는 최대 MAX_LENGTH의 길이만큼 다음 단어 예측을 반복합니다.\n",
    "    predictions = model(inputs=[sentence, output_sequence], training=False)\n",
    "    predictions = predictions[:, -1:, :]\n",
    "\n",
    "    # 현재 예측한 단어의 정수\n",
    "    predicted_id = tf.cast(tf.argmax(predictions, axis=-1), tf.int32)\n",
    "\n",
    "    # 만약 현재 예측한 단어가 종료 토큰이라면 for문을 종료\n",
    "    if tf.equal(predicted_id, END_TOKEN[0]):\n",
    "      break\n",
    "\n",
    "    # 예측한 단어들은 지속적으로 output_sequence에 추가됩니다.\n",
    "    # 이 output_sequence는 다시 디코더의 입력이 됩니다.\n",
    "    output_sequence = tf.concat([output_sequence, predicted_id], axis=-1)\n",
    "\n",
    "  return tf.squeeze(output_sequence, axis=0)\n",
    "print(\"슝=3\")"
   ]
  },
  {
   "cell_type": "markdown",
   "id": "8c6b5d45",
   "metadata": {},
   "source": [
    "### 입력 문장에 대한 대답 얻는 함수 구현"
   ]
  },
  {
   "cell_type": "code",
   "execution_count": 126,
   "id": "0b21f9c0",
   "metadata": {},
   "outputs": [
    {
     "name": "stdout",
     "output_type": "stream",
     "text": [
      "슝=3\n"
     ]
    }
   ],
   "source": [
    "def sentence_generation(sentence):\n",
    "  # 입력 문장에 대해서 디코더를 동작 시켜 예측된 정수 시퀀스를 리턴받습니다.\n",
    "  prediction = decoder_inference(sentence)\n",
    "\n",
    "  # 정수 시퀀스를 다시 텍스트 시퀀스로 변환합니다.\n",
    "  predicted_sentence = tokenizer.decode(\n",
    "      [i for i in prediction if i < tokenizer.vocab_size])\n",
    "\n",
    "  print('입력 : {}'.format(sentence))\n",
    "  print('출력 : {}'.format(predicted_sentence))\n",
    "\n",
    "  return predicted_sentence\n",
    "print(\"슝=3\")"
   ]
  },
  {
   "cell_type": "markdown",
   "id": "c0b0cac0",
   "metadata": {},
   "source": [
    "### 테스트 진행"
   ]
  },
  {
   "cell_type": "code",
   "execution_count": 154,
   "id": "89fd5a26",
   "metadata": {},
   "outputs": [
    {
     "name": "stdout",
     "output_type": "stream",
     "text": [
      "8\n",
      "입력 : 요즘 너무 힘들다 진짜ㅠㅠ\n",
      "출력 : 힘들겠지만 잘 이겨낼 거예요 .\n"
     ]
    },
    {
     "data": {
      "text/plain": [
       "'힘들겠지만 잘 이겨낼 거예요 .'"
      ]
     },
     "execution_count": 154,
     "metadata": {},
     "output_type": "execute_result"
    }
   ],
   "source": [
    "sentence_generation('요즘 너무 힘들다 진짜ㅠㅠ')"
   ]
  },
  {
   "cell_type": "code",
   "execution_count": 155,
   "id": "52d681b1",
   "metadata": {},
   "outputs": [
    {
     "name": "stdout",
     "output_type": "stream",
     "text": [
      "9\n",
      "입력 : 요즘 경제는 어떤거 같아?\n",
      "출력 : 직접 물어보는 게 좋을 것 같아요 .\n"
     ]
    },
    {
     "data": {
      "text/plain": [
       "'직접 물어보는 게 좋을 것 같아요 .'"
      ]
     },
     "execution_count": 155,
     "metadata": {},
     "output_type": "execute_result"
    }
   ],
   "source": [
    "sentence_generation('요즘 경제는 어떤거 같아?')"
   ]
  },
  {
   "cell_type": "code",
   "execution_count": 156,
   "id": "99a0b8c7",
   "metadata": {
    "scrolled": true
   },
   "outputs": [
    {
     "name": "stdout",
     "output_type": "stream",
     "text": [
      "8\n",
      "입력 : 오늘 운이 너무 좋은데?\n",
      "출력 : 다른 곳에 쓰려고 운을 아껴뒀나봐요 .\n"
     ]
    },
    {
     "data": {
      "text/plain": [
       "'다른 곳에 쓰려고 운을 아껴뒀나봐요 .'"
      ]
     },
     "execution_count": 156,
     "metadata": {},
     "output_type": "execute_result"
    }
   ],
   "source": [
    "sentence_generation('오늘 운이 너무 좋은데?')"
   ]
  },
  {
   "cell_type": "code",
   "execution_count": 157,
   "id": "967c4ea8",
   "metadata": {
    "scrolled": true
   },
   "outputs": [
    {
     "name": "stdout",
     "output_type": "stream",
     "text": [
      "14\n",
      "입력 : 키위에 ㅋ이 몇 개 존재할까?\n",
      "출력 : 끝을 받아들이는 것도 중요하답니다 .\n"
     ]
    },
    {
     "data": {
      "text/plain": [
       "'끝을 받아들이는 것도 중요하답니다 .'"
      ]
     },
     "execution_count": 157,
     "metadata": {},
     "output_type": "execute_result"
    }
   ],
   "source": [
    "sentence_generation('키위에 ㅋ이 몇 개 존재할까?')"
   ]
  },
  {
   "cell_type": "code",
   "execution_count": 158,
   "id": "36cf38d2",
   "metadata": {
    "scrolled": true
   },
   "outputs": [
    {
     "name": "stdout",
     "output_type": "stream",
     "text": [
      "10\n",
      "입력 : 헛소리하지 말고 빨리 잘 생각해봐\n",
      "출력 : 세상에 별별 사람들이 다 있죠 .\n"
     ]
    },
    {
     "data": {
      "text/plain": [
       "'세상에 별별 사람들이 다 있죠 .'"
      ]
     },
     "execution_count": 158,
     "metadata": {},
     "output_type": "execute_result"
    }
   ],
   "source": [
    "sentence_generation('헛소리하지 말고 빨리 잘 생각해봐')"
   ]
  },
  {
   "cell_type": "code",
   "execution_count": 159,
   "id": "c69b857c",
   "metadata": {
    "scrolled": true
   },
   "outputs": [
    {
     "name": "stdout",
     "output_type": "stream",
     "text": [
      "12\n",
      "입력 : 너 유재석이 누군지 알아?\n",
      "출력 : 좋은 사람을 만나 치유하길 바랄게요 .\n"
     ]
    },
    {
     "data": {
      "text/plain": [
       "'좋은 사람을 만나 치유하길 바랄게요 .'"
      ]
     },
     "execution_count": 159,
     "metadata": {},
     "output_type": "execute_result"
    }
   ],
   "source": [
    "sentence_generation('너 유재석이 누군지 알아?')"
   ]
  },
  {
   "cell_type": "code",
   "execution_count": 186,
   "id": "ae4918ab",
   "metadata": {
    "scrolled": true
   },
   "outputs": [
    {
     "name": "stdout",
     "output_type": "stream",
     "text": [
      "트랄랄레로 트랄랄라\n",
      "tf.Tensor(\n",
      "[8157  608 8136 8059 8033 8136 8059 8033 2340   93  608 8136 8059 8033\n",
      " 8136 8059 8033  282 8158], shape=(19,), dtype=int32)\n",
      "트랄랄레로 트랄\n",
      "19\n",
      "[ERROR] 입력 문장이 너무 깁니다. 최대 길이: 15\n",
      "입력 : 트랄랄레로 트랄랄라\n",
      "출력 : \n"
     ]
    },
    {
     "data": {
      "text/plain": [
       "''"
      ]
     },
     "execution_count": 186,
     "metadata": {},
     "output_type": "execute_result"
    }
   ],
   "source": [
    "sentence_generation('트랄랄레로 트랄랄라')"
   ]
  },
  {
   "cell_type": "code",
   "execution_count": 161,
   "id": "6fe01e0e",
   "metadata": {},
   "outputs": [
    {
     "name": "stdout",
     "output_type": "stream",
     "text": [
      "18\n",
      "[ERROR] 입력 문장이 너무 깁니다. 최대 길이: 15\n",
      "입력 : Do you know PSY?\n",
      "출력 : \n"
     ]
    },
    {
     "data": {
      "text/plain": [
       "''"
      ]
     },
     "execution_count": 161,
     "metadata": {},
     "output_type": "execute_result"
    }
   ],
   "source": [
    "sentence_generation('Do you know PSY?')"
   ]
  },
  {
   "cell_type": "code",
   "execution_count": 164,
   "id": "e453c934",
   "metadata": {
    "scrolled": true
   },
   "outputs": [
    {
     "name": "stdout",
     "output_type": "stream",
     "text": [
      "14\n",
      "입력 : 또 왜 그렇게 서있어. 얼른 들어와. 밥 먹게\n",
      "출력 : 인생은 채워나가는거죠 .\n"
     ]
    },
    {
     "data": {
      "text/plain": [
       "'인생은 채워나가는거죠 .'"
      ]
     },
     "execution_count": 164,
     "metadata": {},
     "output_type": "execute_result"
    }
   ],
   "source": [
    "sentence_generation('또 왜 그렇게 서있어. 얼른 들어와. 밥 먹게')"
   ]
  },
  {
   "cell_type": "code",
   "execution_count": 185,
   "id": "b9ee83ec",
   "metadata": {},
   "outputs": [
    {
     "name": "stdout",
     "output_type": "stream",
     "text": [
      "laugh a lot\n",
      "tf.Tensor([8157 8009 7998 8018 8004 8005 7933 7998 7933 8009 8012 8017 8158], shape=(13,), dtype=int32)\n",
      "laugh a\n",
      "13\n",
      "입력 : Laugh a lot\n",
      "출력 : 운명은 또 만들어가면 돼요 .\n"
     ]
    },
    {
     "data": {
      "text/plain": [
       "'운명은 또 만들어가면 돼요 .'"
      ]
     },
     "execution_count": 185,
     "metadata": {},
     "output_type": "execute_result"
    }
   ],
   "source": [
    "sentence_generation('Laugh a lot')"
   ]
  },
  {
   "cell_type": "markdown",
   "id": "1c86d835",
   "metadata": {},
   "source": [
    "## 회고\n",
    "- 한국어 데이터를 전처리하는 방식에 대해 많이 고민해본 시간이였다.\n",
    "- 노드 학습 과정에서 트랜스포머의 작동 플로우를 완벽히 이해하기 위해 시간을 많이 쏟았다.\n",
    "- 위 모델의 답변을 확인하면 입력과 비슷한 평범한 문장에 대해서는 답변이 잘 나오지만,\n",
    "    - 내용이 너무 특이해서 토크나이징을 하면 입력이 모두 사라지는 경우\n",
    "    - 내용이 특이하지 않아도 학습 데이터에서 만든 단어장에 입력 단어들이 없는 경우\n",
    "    - 입력 길이가 MAX_LENGTH보다 긴 경우\n",
    "    에는 답변이 나오지 않고 오류가 발생하는 것을 확인했다.\n",
    "- 입력 길이가 15가 넘으면 에러가 나오도록 인퍼런스 함수를 고쳤더니 영어 입력은 알파벳 하나씩 떨어뜨려 인코딩하는 것을 확인\n",
    "- 학습한 vocab에 없는 단어가 입력되면 해당 단어를 가능한 작은 단위 또는 한 글자 단위로 분해해서 인코딩하는 것을 알게 되었다.\n",
    "- SubwordTextEncoder의 특성상 띄어쓰기도 모두 토큰화한다는 사실을 알게 되었다."
   ]
  },
  {
   "cell_type": "code",
   "execution_count": null,
   "id": "dd9a19d8",
   "metadata": {},
   "outputs": [],
   "source": []
  }
 ],
 "metadata": {
  "kernelspec": {
   "display_name": "Python 3 (ipykernel)",
   "language": "python",
   "name": "python3"
  },
  "language_info": {
   "codemirror_mode": {
    "name": "ipython",
    "version": 3
   },
   "file_extension": ".py",
   "mimetype": "text/x-python",
   "name": "python",
   "nbconvert_exporter": "python",
   "pygments_lexer": "ipython3",
   "version": "3.9.7"
  }
 },
 "nbformat": 4,
 "nbformat_minor": 5
}
